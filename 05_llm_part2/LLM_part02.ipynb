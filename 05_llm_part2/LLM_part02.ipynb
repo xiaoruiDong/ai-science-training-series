{
 "cells": [
  {
   "cell_type": "markdown",
   "metadata": {
    "id": "J1tOS7oWba4s"
   },
   "source": [
    "# Large language models (LLMs): Part II\n",
    "\n",
    "Author: Archit Vasan , including materials on LLMs by Varuni Sastri, and discussion/editorial work by Taylor Childers, Carlo Graziani, Bethany Lusch, and Venkat Vishwanath (Argonne)\n",
    "\n",
    "Inspiration from the blog posts \"The Illustrated Transformer\" and \"The Illustrated GPT2\" by Jay Alammar, highly recommended reading.\n",
    "\n",
    "Before you begin, make sure that you have your environment set up and your repo refreshed, as described in previous lessons, and reviewed in the accompanying 'Readme.md' file. Make sure that you select the kernel 'datascience/conda-2023-01-10' at the top-left of the Jupyter notebook."
   ]
  },
  {
   "cell_type": "markdown",
   "metadata": {},
   "source": [
    "## Overview\n",
    "1. Training and inference using Hugging Face\n",
    "2. Elements of an LLM\n",
    "3. Attention mechanisms\n",
    "4. Positional encoding\n",
    "5. Output layers\n",
    "6. Training loops"
   ]
  },
  {
   "cell_type": "code",
   "execution_count": null,
   "metadata": {},
   "outputs": [],
   "source": [
    "import os\n",
    "os.environ[\"HTTP_PROXY\"]=\"http://proxy-01.pub.alcf.anl.gov:3128\"\n",
    "os.environ[\"HTTPS_PROXY\"]=\"http://proxy-01.pub.alcf.anl.gov:3128\"\n",
    "os.environ[\"http_proxy\"]=\"http://proxy-01.pub.alcf.anl.gov:3128\"\n",
    "os.environ[\"https_proxy\"]=\"http://proxy-01.pub.alcf.anl.gov:3128\"\n",
    "os.environ[\"ftp_proxy\"]=\"http://proxy-01.pub.alcf.anl.gov:3128\" "
   ]
  },
  {
   "cell_type": "markdown",
   "metadata": {},
   "source": [
    "## LLM training and inference using HuggingFace"
   ]
  },
  {
   "cell_type": "markdown",
   "metadata": {},
   "source": [
    "<img src=\"images/hf-logo-with-title.png\" alt=\"Drawing\" style=\"width: 300px;\"/>\n",
    "HuggingFace is a platform and community that provides open-source library tools and resources like pre-trained models and datasets.\n",
    "Refer to the following links for more information :\n",
    "\n",
    "https://huggingface.co/docs/hub/index\n",
    "\n",
    "https://huggingface.co/docs/transformers/en/index"
   ]
  },
  {
   "cell_type": "markdown",
   "metadata": {},
   "source": [
    "Warning: _Large Language Models are only as good as their training data. They have no ethics, no judgement, or editing ability. We will be using some pretrained models from Hugging Face which used wide samples of internet hosted text. The datasets have not been strictly filtered to restrict all malign content so the generated text may be surprisingly dark or questionable. They do not reflect our core values and are only used for demonstration purposes._"
   ]
  },
  {
   "cell_type": "markdown",
   "metadata": {},
   "source": [
    "### Inference\n",
    "\n",
    "We can use the Huggingface pipeline with a pretrained GPT2 model to generate text given a prompt."
   ]
  },
  {
   "cell_type": "code",
   "execution_count": null,
   "metadata": {
    "scrolled": true
   },
   "outputs": [],
   "source": [
    "from transformers import AutoTokenizer,AutoModelForCausalLM, AutoConfig\n",
    "input_text = \"My dog really wanted to\"\n",
    "from transformers import pipeline\n",
    "generator = pipeline(\"text-generation\", model=\"openai-community/gpt2\")\n",
    "generator(input_text, max_length=20, num_return_sequences=5)"
   ]
  },
  {
   "cell_type": "markdown",
   "metadata": {},
   "source": [
    "We will cover  evaluation metrics,as well as safe and responsibilities practices when using LLMs in **Session 8**."
   ]
  },
  {
   "cell_type": "markdown",
   "metadata": {},
   "source": [
    "### Training"
   ]
  },
  {
   "cell_type": "markdown",
   "metadata": {},
   "source": [
    "We can also load in our own dataset and train a model with this data as follows:"
   ]
  },
  {
   "cell_type": "code",
   "execution_count": 1,
   "metadata": {
    "scrolled": true
   },
   "outputs": [
    {
     "name": "stdout",
     "output_type": "stream",
     "text": [
      "Requirement already satisfied: accelerate in /Users/architvasan/anaconda3/lib/python3.11/site-packages (0.27.2)\n",
      "Requirement already satisfied: numpy>=1.17 in /Users/architvasan/anaconda3/lib/python3.11/site-packages (from accelerate) (1.24.3)\n",
      "Requirement already satisfied: packaging>=20.0 in /Users/architvasan/anaconda3/lib/python3.11/site-packages (from accelerate) (23.0)\n",
      "Requirement already satisfied: psutil in /Users/architvasan/anaconda3/lib/python3.11/site-packages (from accelerate) (5.9.0)\n",
      "Requirement already satisfied: pyyaml in /Users/architvasan/anaconda3/lib/python3.11/site-packages (from accelerate) (6.0)\n",
      "Requirement already satisfied: torch>=1.10.0 in /Users/architvasan/anaconda3/lib/python3.11/site-packages (from accelerate) (2.2.1)\n",
      "Requirement already satisfied: huggingface-hub in /Users/architvasan/anaconda3/lib/python3.11/site-packages (from accelerate) (0.21.3)\n",
      "Requirement already satisfied: safetensors>=0.3.1 in /Users/architvasan/anaconda3/lib/python3.11/site-packages (from accelerate) (0.4.2)\n",
      "Requirement already satisfied: filelock in /Users/architvasan/anaconda3/lib/python3.11/site-packages (from torch>=1.10.0->accelerate) (3.9.0)\n",
      "Requirement already satisfied: typing-extensions>=4.8.0 in /Users/architvasan/anaconda3/lib/python3.11/site-packages (from torch>=1.10.0->accelerate) (4.10.0)\n",
      "Requirement already satisfied: sympy in /Users/architvasan/anaconda3/lib/python3.11/site-packages (from torch>=1.10.0->accelerate) (1.11.1)\n",
      "Requirement already satisfied: networkx in /Users/architvasan/anaconda3/lib/python3.11/site-packages (from torch>=1.10.0->accelerate) (2.8.4)\n",
      "Requirement already satisfied: jinja2 in /Users/architvasan/anaconda3/lib/python3.11/site-packages (from torch>=1.10.0->accelerate) (3.1.2)\n",
      "Requirement already satisfied: fsspec in /Users/architvasan/anaconda3/lib/python3.11/site-packages (from torch>=1.10.0->accelerate) (2024.2.0)\n",
      "Requirement already satisfied: requests in /Users/architvasan/anaconda3/lib/python3.11/site-packages (from huggingface-hub->accelerate) (2.29.0)\n",
      "Requirement already satisfied: tqdm>=4.42.1 in /Users/architvasan/anaconda3/lib/python3.11/site-packages (from huggingface-hub->accelerate) (4.65.0)\n",
      "Requirement already satisfied: MarkupSafe>=2.0 in /Users/architvasan/anaconda3/lib/python3.11/site-packages (from jinja2->torch>=1.10.0->accelerate) (2.1.1)\n",
      "Requirement already satisfied: charset-normalizer<4,>=2 in /Users/architvasan/anaconda3/lib/python3.11/site-packages (from requests->huggingface-hub->accelerate) (2.0.4)\n",
      "Requirement already satisfied: idna<4,>=2.5 in /Users/architvasan/anaconda3/lib/python3.11/site-packages (from requests->huggingface-hub->accelerate) (3.4)\n",
      "Requirement already satisfied: urllib3<1.27,>=1.21.1 in /Users/architvasan/anaconda3/lib/python3.11/site-packages (from requests->huggingface-hub->accelerate) (1.26.16)\n",
      "Requirement already satisfied: certifi>=2017.4.17 in /Users/architvasan/anaconda3/lib/python3.11/site-packages (from requests->huggingface-hub->accelerate) (2023.5.7)\n",
      "Requirement already satisfied: mpmath>=0.19 in /Users/architvasan/anaconda3/lib/python3.11/site-packages (from sympy->torch>=1.10.0->accelerate) (1.2.1)\n"
     ]
    }
   ],
   "source": [
    "!pip install accelerate -U"
   ]
  },
  {
   "cell_type": "code",
   "execution_count": 6,
   "metadata": {},
   "outputs": [],
   "source": [
    "from transformers import TextDataset,DataCollatorForLanguageModeling\n",
    "\n",
    "def load_dataset(train_path,test_path,tokenizer):\n",
    "    train_dataset = TextDataset(\n",
    "          tokenizer=tokenizer,\n",
    "          file_path=train_path,\n",
    "          block_size=128) \n",
    "    test_dataset = TextDataset(\n",
    "          tokenizer=tokenizer,\n",
    "          file_path=test_path,\n",
    "          block_size=128)   \n",
    "    data_collator = DataCollatorForLanguageModeling(\n",
    "        tokenizer=tokenizer, mlm=False,\n",
    "    )\n",
    "    return train_dataset,test_dataset,data_collator"
   ]
  },
  {
   "cell_type": "code",
   "execution_count": 7,
   "metadata": {},
   "outputs": [
    {
     "name": "stderr",
     "output_type": "stream",
     "text": [
      "/Users/architvasan/anaconda3/lib/python3.11/site-packages/transformers/data/datasets/language_modeling.py:53: FutureWarning: This dataset will be removed from the library soon, preprocessing should be handled with the 🤗 Datasets library. You can have a look at this example script for pointers: https://github.com/huggingface/transformers/blob/main/examples/pytorch/language-modeling/run_mlm.py\n",
      "  warnings.warn(\n"
     ]
    }
   ],
   "source": [
    "from transformers import AutoTokenizer,AutoModelForCausalLM\n",
    "\n",
    "tokenizer = AutoTokenizer.from_pretrained(\"openai-community/gpt2\")\n",
    "model = AutoModelForCausalLM.from_pretrained(\"openai-community/gpt2\")\n",
    "\n",
    "train_dataset,test_dataset,data_collator = load_dataset('dataset/train_input.txt','dataset/test_input.txt', tokenizer)\n",
    "\n",
    "from transformers import Trainer, TrainingArguments\n",
    "\n",
    "training_args = TrainingArguments(\n",
    "    output_dir=\"./gpt2\", #The output directory\n",
    "    overwrite_output_dir=True, #overwrite the content of the output directory\n",
    "    num_train_epochs=3, # number of training epochs\n",
    "    per_device_train_batch_size=32, # batch size for training\n",
    "    per_device_eval_batch_size=64,  # batch size for evaluation\n",
    "    eval_steps = 40, # Number of update steps between two evaluations.\n",
    "    save_steps=80, # after # steps model is saved \n",
    "    warmup_steps=50,# number of warmup steps for learning rate scheduler\n",
    "    prediction_loss_only=True,\n",
    "    )\n",
    "\n",
    "trainer = Trainer(\n",
    "    model=model,\n",
    "    args=training_args,\n",
    "    data_collator=data_collator,\n",
    "    train_dataset=train_dataset,\n",
    "    eval_dataset=test_dataset,\n",
    ")"
   ]
  },
  {
   "cell_type": "markdown",
   "metadata": {},
   "source": [
    "## What is going on below the hood?"
   ]
  },
  {
   "cell_type": "markdown",
   "metadata": {},
   "source": [
    "There are two components that are \"black-boxes\" here:\n",
    "1. The method for tokenization\n",
    "2. The model that generates novel text.\n",
    "\n",
    "Carlo Graziani already gave a great explanation of tokenization last week and how this affects embeddings (https://github.com/argonne-lcf/ai-science-training-series/blob/main/04_intro_to_llms/Sequential_Data_Models.ipynb)"
   ]
  },
  {
   "cell_type": "markdown",
   "metadata": {},
   "source": [
    "Today we will take a closer look at how the model is designed to deal with language."
   ]
  },
  {
   "cell_type": "markdown",
   "metadata": {},
   "source": [
    "Let's look inside GPT2! GPT2 incorporates the `GPT2LMHeadModel` architecture so let's inspect this more closely."
   ]
  },
  {
   "cell_type": "code",
   "execution_count": 2,
   "metadata": {
    "scrolled": true
   },
   "outputs": [
    {
     "name": "stdout",
     "output_type": "stream",
     "text": [
      "GPT2LMHeadModel(\n",
      "  (transformer): GPT2Model(\n",
      "    (wte): Embedding(50257, 768)\n",
      "    (wpe): Embedding(1024, 768)\n",
      "    (drop): Dropout(p=0.1, inplace=False)\n",
      "    (h): ModuleList(\n",
      "      (0-11): 12 x GPT2Block(\n",
      "        (ln_1): LayerNorm((768,), eps=1e-05, elementwise_affine=True)\n",
      "        (attn): GPT2Attention(\n",
      "          (c_attn): Conv1D()\n",
      "          (c_proj): Conv1D()\n",
      "          (attn_dropout): Dropout(p=0.1, inplace=False)\n",
      "          (resid_dropout): Dropout(p=0.1, inplace=False)\n",
      "        )\n",
      "        (ln_2): LayerNorm((768,), eps=1e-05, elementwise_affine=True)\n",
      "        (mlp): GPT2MLP(\n",
      "          (c_fc): Conv1D()\n",
      "          (c_proj): Conv1D()\n",
      "          (act): NewGELUActivation()\n",
      "          (dropout): Dropout(p=0.1, inplace=False)\n",
      "        )\n",
      "      )\n",
      "    )\n",
      "    (ln_f): LayerNorm((768,), eps=1e-05, elementwise_affine=True)\n",
      "  )\n",
      "  (lm_head): Linear(in_features=768, out_features=50257, bias=False)\n",
      ")\n"
     ]
    }
   ],
   "source": [
    "from transformers import GPT2Tokenizer, GPT2LMHeadModel\n",
    "model = GPT2LMHeadModel.from_pretrained('gpt2')\n",
    "print(model)"
   ]
  },
  {
   "cell_type": "markdown",
   "metadata": {},
   "source": [
    "## General elements of an LLM"
   ]
  },
  {
   "cell_type": "markdown",
   "metadata": {},
   "source": [
    "GPT-2 is an example of the popular Transformer architecture. \n"
   ]
  },
  {
   "cell_type": "markdown",
   "metadata": {
    "id": "cig2mvfguetQ"
   },
   "source": [
    "<img src=\"images/decoder_only_block.png\" alt=\"Drawing\" style=\"width: 200px;\"/>\n",
    "Image credit: https://arxiv.org/pdf/1706.03762.pdf"
   ]
  },
  {
   "cell_type": "markdown",
   "metadata": {},
   "source": [
    "The gray section in this figure is the Transfomer Decoder and it is the main mechanism GPT2 uses to encode context of language into its predictions.\n",
    "\n",
    "<img src=\"images/transformer-decoder-intro.png\" alt=\"Drawing\" style=\"width: 600px;\"/>\n",
    "Image credit: https://jalammar.github.io/illustrated-gpt2/"
   ]
  },
  {
   "cell_type": "markdown",
   "metadata": {},
   "source": [
    "The Transformer-Decoder is composed of Decoder blocks stacked ontop of each other where each contains two types of layers: \n",
    "1. Masked Self-Attention and \n",
    "2. Feed Forward Neural Networks."
   ]
  },
  {
   "cell_type": "markdown",
   "metadata": {},
   "source": [
    "You have already discussed Feed Forward Neural Networks in detail in the other lectures in this series. To review this, please look at https://github.com/argonne-lcf/ai-science-training-series/blob/main/02_intro_neural_networks/01_introduction_mnist.ipynb"
   ]
  },
  {
   "cell_type": "markdown",
   "metadata": {},
   "source": [
    "In this lecture, we will \n",
    "* First, discuss attention mechanisms at length as this is arguably the greatest contribution by Transformers.\n",
    "* Second, extend the discussion from last week (https://github.com/argonne-lcf/ai-science-training-series/blob/main/04_intro_to_llms/Sequential_Data_Models.ipynb) on embedding input data while taking into account position.\n",
    "* Third, discuss outputting real text/sequences from the models.\n",
    "* Fourth, build a training loop for a mini-LLM."
   ]
  },
  {
   "cell_type": "markdown",
   "metadata": {},
   "source": [
    "**Let's set up all the imports we will need**"
   ]
  },
  {
   "cell_type": "code",
   "execution_count": 1,
   "metadata": {
    "scrolled": true
   },
   "outputs": [
    {
     "data": {
      "text/plain": [
       "<torch._C.Generator at 0x1113b9d30>"
      ]
     },
     "execution_count": 1,
     "metadata": {},
     "output_type": "execute_result"
    }
   ],
   "source": [
    "## IMPORTS\n",
    "\n",
    "import torch\n",
    "import torch.nn as nn\n",
    "from torch.nn import functional as F\n",
    "torch.manual_seed(1337)\n",
    "# hyperparameters\n",
    "batch_size = 16 # how many independent sequences will we process in parallel?\n",
    "block_size = 32 # what is the maximum context length for predictions?\n",
    "max_iters = 5000\n",
    "eval_interval = 100\n",
    "learning_rate = 1e-3\n",
    "device = 'cuda' if torch.cuda.is_available() else 'cpu'\n",
    "eval_iters = 200\n",
    "n_embd = 64\n",
    "n_head = 4 ## so head_size = 16\n",
    "n_layer = 4\n",
    "dropout = 0.0\n",
    "# ------------\n",
    "\n",
    "torch.manual_seed(1337)"
   ]
  },
  {
   "cell_type": "markdown",
   "metadata": {
    "id": "BowLYFlCrDrr"
   },
   "source": [
    "## Attention mechanisms\n",
    "\n",
    "Suppose the following sentence is an input sentence we want to translate using an LLM:\n",
    "\n",
    "`”The animal didn't cross the street because it was too tired”`\n",
    "\n",
    "Last week, Carlo mentioned that the Transformer learns an embedding of all words allowing interpretation of meanings of words.\n",
    "\n",
    "<img src=\"images/viz-bert-voc-verbs.png\" alt=\"Drawing\" style=\"width: 400px;\"/>\n",
    "\n",
    "So, if the model did a good job in token embedding, it will \"know\" what all the words in this sentence mean. "
   ]
  },
  {
   "cell_type": "markdown",
   "metadata": {},
   "source": [
    "But to understand a full sentence, the model also need to understand what each word means in relation to other words.\n",
    "\n",
    "For example, when we read the sentence:\n",
    "`”The animal didn't cross the street because it was too tired”`\n",
    "we know intuitively that the word `\"it\"` refers to `\"animal\"`, the state for `\"it\"` is `\"tired\"`, and the associated action is `\"didn't cross\"`.\n",
    "\n",
    "However, the model needs a way to learn all of this information in a simple yet generalizable way.\n",
    "What makes Transformers particularly powerful compared to earlier sequential architectures is how it encodes context with the **self-attention mechanism**.\n",
    "\n",
    "As the model processes each word in the input sequence, attention looks at other positions in the input sequence for clues to a better understanding for this word."
   ]
  },
  {
   "cell_type": "markdown",
   "metadata": {},
   "source": [
    "<img src=\"images/transformer_self-attention_visualization.png\" alt=\"Drawing\" style=\"width: 300px;\"/>"
   ]
  },
  {
   "cell_type": "markdown",
   "metadata": {
    "id": "UGbAi0cJ7x3a"
   },
   "source": [
    "Image credit: https://jalammar.github.io/illustrated-transformer/"
   ]
  },
  {
   "cell_type": "markdown",
   "metadata": {},
   "source": [
    "Self-attention mechanisms use 3 vectors to encode the context of a word in a sequence with another word:\n",
    "1. Query: the word representation we score other words against using the other word's keys\n",
    "2. Key: labels for the words in a sequence that we match against the query\n",
    "3. Value: actual word representation. We will use the queries and keys to score the word's relevance to the query, and multiply this by the value. \n",
    "\n",
    "An analogy provided by Jay Alammar is thinking about attention as choosing a file from a file cabinet according to information on a post-it note. You can use the post-it note (query) to identify the folder (key) that most matches the topic you are looking up. Then you access the contents of the file (value) according to its relevance to your query."
   ]
  },
  {
   "cell_type": "markdown",
   "metadata": {},
   "source": [
    "<img src=\"images/self-attention-example-folders-3.png\" alt=\"Drawing\" style=\"width: 500px;\"/>\n",
    "Image credit: https://jalammar.github.io/illustrated-gpt2/"
   ]
  },
  {
   "cell_type": "markdown",
   "metadata": {},
   "source": [
    "In our models, we can encode queries, keys, and values using simple linear layers with the same size (`sequence length, head_size`). During the training process, these layers will be updated to best encode context."
   ]
  },
  {
   "cell_type": "code",
   "execution_count": 4,
   "metadata": {},
   "outputs": [],
   "source": [
    "C = 32 # channels\n",
    "head_size = 16\n",
    "\n",
    "key = nn.Linear(C, head_size, bias=False)\n",
    "query = nn.Linear(C, head_size, bias=False)\n",
    "value = nn.Linear(C, head_size, bias=False)"
   ]
  },
  {
   "cell_type": "markdown",
   "metadata": {
    "id": "Jzf9VE_AqWeR"
   },
   "source": [
    "The algorithm for self-attention is as follows:\n",
    "\n",
    "1. Generate query, key and value vectors for each word\n",
    "2. Calculate a score for each word in the input sentence against each other.\n",
    "3. Divide the scores by the square root of the dimension of the key vectors to stabilize the gradients. This is then passed through a softmax operation.\n",
    "4. Multiply each value vector by the softmax score.\n",
    "5. Sum up the weighted value vectors to produce the output.\n"
   ]
  },
  {
   "cell_type": "markdown",
   "metadata": {},
   "source": [
    "<img src=\"images/self-attention-output.png\" alt=\"Drawing\" style=\"width: 450px;\"/>"
   ]
  },
  {
   "cell_type": "markdown",
   "metadata": {
    "id": "yOwm-NkXA8U3"
   },
   "source": [
    "Image credit: https://jalammar.github.io/illustrated-transformer/"
   ]
  },
  {
   "cell_type": "markdown",
   "metadata": {},
   "source": [
    "Let's see how attention is performed in the code."
   ]
  },
  {
   "cell_type": "code",
   "execution_count": 4,
   "metadata": {},
   "outputs": [],
   "source": [
    "import torch\n",
    "import torch.nn as nn\n",
    "from torch.nn import functional as F\n",
    "torch.manual_seed(1337)\n",
    "B,T,C = 4,8,32 # batch, time, channels\n",
    "x = torch.randn(B,T,C)\n",
    "\n",
    "# Here we want the wei to be data dependent - ie gather info from the past but in a data dependant way\n",
    "\n",
    "head_size = 16\n",
    "key = nn.Linear(C, head_size, bias=False)\n",
    "query = nn.Linear(C, head_size, bias=False)\n",
    "value = nn.Linear(C, head_size, bias=False)\n",
    "k = key(x)   # (B, T, 16) # each token here (totally B*T) produce a key and query in parallel and independently\n",
    "q = query(x) # (B, T, 16)\n",
    "v = value(x)\n",
    "\n",
    "wei =  q @ k.transpose(-2, -1) * head_size**-0.5 # (B, T, 16) @ (B, 16, T) ---> (B, T, T). #\n",
    "wei = F.softmax(wei, dim=-1) # exponentiate and normalize giving a nice distibution that sums to 1 and\n",
    "                             # now it tells us that in a data dependent manner how much of info to aggregate from\n",
    "\n",
    "out = wei @ v # aggregate the attention scores and value vector.\n"
   ]
  },
  {
   "cell_type": "code",
   "execution_count": 12,
   "metadata": {
    "scrolled": false
   },
   "outputs": [
    {
     "name": "stdout",
     "output_type": "stream",
     "text": [
      "tensor([[ 0.0618, -0.0091, -0.3488,  0.3208,  0.2971, -0.1573, -0.0561,  0.1068,\n",
      "          0.0368,  0.0139, -0.0017,  0.3110,  0.1404, -0.0158,  0.1853,  0.4290],\n",
      "        [ 0.1578, -0.0971, -0.4256,  0.3538,  0.3621, -0.2392, -0.0536,  0.1759,\n",
      "          0.1115,  0.0282, -0.0649,  0.3641,  0.1928,  0.0261,  0.2162,  0.3758],\n",
      "        [ 0.1293,  0.0759, -0.2946,  0.2292,  0.2215, -0.0710, -0.0107,  0.1616,\n",
      "         -0.0930, -0.0877,  0.0567,  0.1899,  0.0311, -0.0894,  0.0309,  0.5471],\n",
      "        [ 0.1247,  0.1400, -0.2436,  0.1819,  0.1976,  0.0338, -0.0028,  0.1124,\n",
      "         -0.1477, -0.0748,  0.0650,  0.1392, -0.0314, -0.0989,  0.0613,  0.5433],\n",
      "        [ 0.0667,  0.1845, -0.2135,  0.2813,  0.2064,  0.0873,  0.0084,  0.2055,\n",
      "         -0.1130, -0.1466,  0.0459,  0.1923, -0.0275, -0.1107,  0.0065,  0.4674],\n",
      "        [ 0.1924,  0.1693, -0.1568,  0.2284,  0.1620,  0.0737,  0.0443,  0.2519,\n",
      "         -0.1912, -0.1979,  0.0832,  0.0713, -0.0826, -0.0848, -0.1047,  0.6089],\n",
      "        [ 0.1184,  0.0884, -0.2652,  0.2560,  0.1840,  0.0284, -0.0621,  0.1181,\n",
      "         -0.0880,  0.0104,  0.1123,  0.1850,  0.0369, -0.0730,  0.0663,  0.5242],\n",
      "        [ 0.1243,  0.0453, -0.3412,  0.2709,  0.2335, -0.0948, -0.0421,  0.2143,\n",
      "         -0.0330, -0.0313,  0.0520,  0.2378,  0.1084, -0.0959,  0.0300,  0.4707]],\n",
      "       grad_fn=<SelectBackward0>)\n"
     ]
    }
   ],
   "source": [
    "print(out[0])"
   ]
  },
  {
   "cell_type": "markdown",
   "metadata": {
    "id": "4lwyFlxKW6oA"
   },
   "source": [
    "### Multi-head attention\n",
    "\n",
    "In practice, multiple attention heads are used which\n",
    "1. Expands the model’s ability to focus on different positions and prevent the attention to be dominated by the word itself.\n",
    "2. Have multiple “representation subspaces”. Have multiple sets of Query/Key/Value weight matrices"
   ]
  },
  {
   "cell_type": "markdown",
   "metadata": {},
   "source": [
    "<img src=\"images/transformer_multi-headed_self-attention-recap.png\" alt=\"Drawing\" style=\"width: 700px;\"/>"
   ]
  },
  {
   "cell_type": "markdown",
   "metadata": {
    "id": "6oHsezdVBIaf"
   },
   "source": [
    "Image credit: https://jalammar.github.io/illustrated-transformer/"
   ]
  },
  {
   "cell_type": "markdown",
   "metadata": {},
   "source": [
    "### Let's see attention mechanisms in action!"
   ]
  },
  {
   "cell_type": "markdown",
   "metadata": {},
   "source": [
    "We are going to use the powerful visualization tool bertviz, which allows an interactive experience of the attention mechanisms. Normally these mechanisms are abstracted away but this will allow us to inspect our model in more detail."
   ]
  },
  {
   "cell_type": "code",
   "execution_count": 7,
   "metadata": {
    "scrolled": true
   },
   "outputs": [
    {
     "name": "stdout",
     "output_type": "stream",
     "text": [
      "Requirement already satisfied: bertviz in /Users/architvasan/anaconda3/lib/python3.11/site-packages (1.4.0)\n",
      "Requirement already satisfied: transformers>=2.0 in /Users/architvasan/anaconda3/lib/python3.11/site-packages (from bertviz) (4.38.1)\n",
      "Requirement already satisfied: torch>=1.0 in /Users/architvasan/anaconda3/lib/python3.11/site-packages (from bertviz) (2.2.1)\n",
      "Requirement already satisfied: tqdm in /Users/architvasan/anaconda3/lib/python3.11/site-packages (from bertviz) (4.65.0)\n",
      "Requirement already satisfied: boto3 in /Users/architvasan/anaconda3/lib/python3.11/site-packages (from bertviz) (1.24.28)\n",
      "Requirement already satisfied: requests in /Users/architvasan/anaconda3/lib/python3.11/site-packages (from bertviz) (2.29.0)\n",
      "Requirement already satisfied: regex in /Users/architvasan/anaconda3/lib/python3.11/site-packages (from bertviz) (2022.7.9)\n",
      "Requirement already satisfied: sentencepiece in /Users/architvasan/anaconda3/lib/python3.11/site-packages (from bertviz) (0.1.99)\n",
      "Requirement already satisfied: filelock in /Users/architvasan/anaconda3/lib/python3.11/site-packages (from torch>=1.0->bertviz) (3.9.0)\n",
      "Requirement already satisfied: typing-extensions>=4.8.0 in /Users/architvasan/anaconda3/lib/python3.11/site-packages (from torch>=1.0->bertviz) (4.10.0)\n",
      "Requirement already satisfied: sympy in /Users/architvasan/anaconda3/lib/python3.11/site-packages (from torch>=1.0->bertviz) (1.11.1)\n",
      "Requirement already satisfied: networkx in /Users/architvasan/anaconda3/lib/python3.11/site-packages (from torch>=1.0->bertviz) (2.8.4)\n",
      "Requirement already satisfied: jinja2 in /Users/architvasan/anaconda3/lib/python3.11/site-packages (from torch>=1.0->bertviz) (3.1.2)\n",
      "Requirement already satisfied: fsspec in /Users/architvasan/anaconda3/lib/python3.11/site-packages (from torch>=1.0->bertviz) (2024.2.0)\n",
      "Requirement already satisfied: huggingface-hub<1.0,>=0.19.3 in /Users/architvasan/anaconda3/lib/python3.11/site-packages (from transformers>=2.0->bertviz) (0.21.3)\n",
      "Requirement already satisfied: numpy>=1.17 in /Users/architvasan/anaconda3/lib/python3.11/site-packages (from transformers>=2.0->bertviz) (1.24.3)\n",
      "Requirement already satisfied: packaging>=20.0 in /Users/architvasan/anaconda3/lib/python3.11/site-packages (from transformers>=2.0->bertviz) (23.0)\n",
      "Requirement already satisfied: pyyaml>=5.1 in /Users/architvasan/anaconda3/lib/python3.11/site-packages (from transformers>=2.0->bertviz) (6.0)\n",
      "Requirement already satisfied: tokenizers<0.19,>=0.14 in /Users/architvasan/anaconda3/lib/python3.11/site-packages (from transformers>=2.0->bertviz) (0.15.2)\n",
      "Requirement already satisfied: safetensors>=0.4.1 in /Users/architvasan/anaconda3/lib/python3.11/site-packages (from transformers>=2.0->bertviz) (0.4.2)\n",
      "Requirement already satisfied: botocore<1.28.0,>=1.27.28 in /Users/architvasan/anaconda3/lib/python3.11/site-packages (from boto3->bertviz) (1.27.59)\n",
      "Requirement already satisfied: jmespath<2.0.0,>=0.7.1 in /Users/architvasan/anaconda3/lib/python3.11/site-packages (from boto3->bertviz) (0.10.0)\n",
      "Requirement already satisfied: s3transfer<0.7.0,>=0.6.0 in /Users/architvasan/anaconda3/lib/python3.11/site-packages (from boto3->bertviz) (0.6.0)\n",
      "Requirement already satisfied: charset-normalizer<4,>=2 in /Users/architvasan/anaconda3/lib/python3.11/site-packages (from requests->bertviz) (2.0.4)\n",
      "Requirement already satisfied: idna<4,>=2.5 in /Users/architvasan/anaconda3/lib/python3.11/site-packages (from requests->bertviz) (3.4)\n",
      "Requirement already satisfied: urllib3<1.27,>=1.21.1 in /Users/architvasan/anaconda3/lib/python3.11/site-packages (from requests->bertviz) (1.26.16)\n",
      "Requirement already satisfied: certifi>=2017.4.17 in /Users/architvasan/anaconda3/lib/python3.11/site-packages (from requests->bertviz) (2023.5.7)\n",
      "Requirement already satisfied: python-dateutil<3.0.0,>=2.1 in /Users/architvasan/anaconda3/lib/python3.11/site-packages (from botocore<1.28.0,>=1.27.28->boto3->bertviz) (2.8.2)\n",
      "Requirement already satisfied: MarkupSafe>=2.0 in /Users/architvasan/anaconda3/lib/python3.11/site-packages (from jinja2->torch>=1.0->bertviz) (2.1.1)\n",
      "Requirement already satisfied: mpmath>=0.19 in /Users/architvasan/anaconda3/lib/python3.11/site-packages (from sympy->torch>=1.0->bertviz) (1.2.1)\n",
      "Requirement already satisfied: six>=1.5 in /Users/architvasan/anaconda3/lib/python3.11/site-packages (from python-dateutil<3.0.0,>=2.1->botocore<1.28.0,>=1.27.28->boto3->bertviz) (1.16.0)\n"
     ]
    }
   ],
   "source": [
    "!pip install bertviz"
   ]
  },
  {
   "cell_type": "markdown",
   "metadata": {},
   "source": [
    "Let's load in the model, GPT2 and look at the attention mechanisms. \n",
    "\n",
    "**Hint... click on the different blocks in the visualization to see the attention**"
   ]
  },
  {
   "cell_type": "code",
   "execution_count": 1,
   "metadata": {
    "scrolled": false
   },
   "outputs": [
    {
     "data": {
      "text/html": [
       "<script src=\"https://cdnjs.cloudflare.com/ajax/libs/require.js/2.3.6/require.min.js\"></script>"
      ],
      "text/plain": [
       "<IPython.core.display.HTML object>"
      ]
     },
     "metadata": {},
     "output_type": "display_data"
    },
    {
     "data": {
      "text/html": [
       "      \n",
       "        <div id=\"bertviz-02b3e196663447f29febaa8f9ac1b7cb\" style=\"font-family:'Helvetica Neue', Helvetica, Arial, sans-serif;\">\n",
       "            <span style=\"user-select:none\">\n",
       "                \n",
       "            </span>\n",
       "            <div id='vis'></div>\n",
       "        </div>\n",
       "    "
      ],
      "text/plain": [
       "<IPython.core.display.HTML object>"
      ]
     },
     "metadata": {},
     "output_type": "display_data"
    },
    {
     "data": {
      "application/javascript": [
       "/**\n",
       " * @fileoverview Transformer Visualization D3 javascript code.\n",
       " *\n",
       " * Based on: https://github.com/tensorflow/tensor2tensor/blob/master/tensor2tensor/visualization/attention.js\n",
       " *\n",
       " * Change log:\n",
       " *\n",
       " * 02/01/19  Jesse Vig   Initial implementation\n",
       " * 12/31/20  Jesse Vig   Support multiple visualizations in single notebook.\n",
       " * 01/19/21  Jesse Vig   Support light/dark modes\n",
       " * 02/06/21  Jesse Vig   Move require config from separate jupyter notebook step\n",
       " * 05/03/21  Jesse Vig   Adjust visualization height dynamically\n",
       " * 03/23/22  Daniel SC   Update requirement URLs for d3 and jQuery (source of bug not allowing end result to be displayed on browsers)\n",
       " **/\n",
       "\n",
       "require.config({\n",
       "  paths: {\n",
       "      d3: 'https://cdnjs.cloudflare.com/ajax/libs/d3/5.7.0/d3.min',\n",
       "    jquery: 'https://cdnjs.cloudflare.com/ajax/libs/jquery/2.0.0/jquery.min',\n",
       "  }\n",
       "});\n",
       "\n",
       "requirejs(['jquery', 'd3'], function($, d3) {\n",
       "\n",
       "        const params = {\"attention\": [{\"name\": null, \"attn\": [[[[1.0, 0.0, 0.0, 0.0, 0.0, 0.0], [0.961219847202301, 0.038780149072408676, 0.0, 0.0, 0.0, 0.0], [0.7466979026794434, 0.11987313628196716, 0.1334289014339447, 0.0, 0.0, 0.0], [0.5885030031204224, 0.13792075216770172, 0.21213726699352264, 0.061438970267772675, 0.0, 0.0], [0.6570857763290405, 0.08996304124593735, 0.1275128275156021, 0.08361561596393585, 0.04182283207774162, 0.0], [0.272887259721756, 0.11203357577323914, 0.16639848053455353, 0.08467116206884384, 0.16952726244926453, 0.1944822371006012]], [[1.0, 0.0, 0.0, 0.0, 0.0, 0.0], [0.010616553016006947, 0.9893833994865417, 0.0, 0.0, 0.0, 0.0], [0.002467755926772952, 0.008448007516562939, 0.9890841841697693, 0.0, 0.0, 0.0], [0.00012328448065090925, 0.0018733146134763956, 0.013126945123076439, 0.9848763942718506, 0.0, 0.0], [0.0010669530602172017, 0.0011366248363628983, 0.0030349851585924625, 0.0015735035995021462, 0.9931879043579102, 0.0], [0.00019792020611930639, 0.0010528132552281022, 0.0015437372494488955, 0.0009642765508033335, 3.4924432839034125e-05, 0.9962062835693359]], [[1.0, 0.0, 0.0, 0.0, 0.0, 0.0], [0.47578439116477966, 0.5242156386375427, 0.0, 0.0, 0.0, 0.0], [0.5906045436859131, 0.248661071062088, 0.1607343703508377, 0.0, 0.0, 0.0], [0.5529289841651917, 0.18856702744960785, 0.14457568526268005, 0.11392828822135925, 0.0, 0.0], [0.4509408473968506, 0.16486787796020508, 0.17318038642406464, 0.11748015135526657, 0.0935308039188385, 0.0], [0.425724595785141, 0.17328645288944244, 0.15651950240135193, 0.07022645324468613, 0.08087008446455002, 0.09337276965379715]], [[1.0, 0.0, 0.0, 0.0, 0.0, 0.0], [0.6133622527122498, 0.38663774728775024, 0.0, 0.0, 0.0, 0.0], [0.06098509207367897, 0.03253461420536041, 0.9064803123474121, 0.0, 0.0, 0.0], [0.0067170788533985615, 0.00040128850378096104, 0.7572957873344421, 0.2355857938528061, 0.0, 0.0], [0.03722767531871796, 0.002948855748400092, 0.10081081837415695, 0.04142269492149353, 0.8175899982452393, 0.0], [0.04989771544933319, 0.0003075825225096196, 0.0024198247119784355, 0.003433493198826909, 0.0006823895964771509, 0.9432590007781982]], [[1.0, 0.0, 0.0, 0.0, 0.0, 0.0], [0.9489555954933167, 0.051044415682554245, 0.0, 0.0, 0.0, 0.0], [0.6821410059928894, 0.13952408730983734, 0.17833489179611206, 0.0, 0.0, 0.0], [0.20366333425045013, 0.05641487240791321, 0.06399296224117279, 0.6759288311004639, 0.0, 0.0], [0.34195476770401, 0.067254438996315, 0.0792618989944458, 0.1783618927001953, 0.33316701650619507, 0.0], [0.09464019536972046, 0.007428212556988001, 0.006983972620218992, 0.0071843755431473255, 0.01872425712645054, 0.8650389313697815]], [[1.0, 0.0, 0.0, 0.0, 0.0, 0.0], [0.33834606409072876, 0.6616539359092712, 0.0, 0.0, 0.0, 0.0], [0.07855986058712006, 0.006165452301502228, 0.9152746796607971, 0.0, 0.0, 0.0], [0.016775935888290405, 0.00040376963443122804, 0.0033404543064534664, 0.9794798493385315, 0.0, 0.0], [0.02760043926537037, 0.0004441527707967907, 0.0006541683105751872, 0.0002266185765620321, 0.971074640750885, 0.0], [0.010248193517327309, 3.701560490299016e-05, 0.00016064071678556502, 2.7341899112798274e-05, 1.0187313819187693e-05, 0.98951655626297]], [[1.0, 0.0, 0.0, 0.0, 0.0, 0.0], [0.982503354549408, 0.017496665939688683, 0.0, 0.0, 0.0, 0.0], [0.8874197006225586, 0.05467936769127846, 0.05790088325738907, 0.0, 0.0, 0.0], [0.6849910616874695, 0.12280683219432831, 0.04972026124596596, 0.14248184859752655, 0.0, 0.0], [0.601585328578949, 0.09881890565156937, 0.07070112973451614, 0.16652549803256989, 0.06236904487013817, 0.0], [0.32325059175491333, 0.12567417323589325, 0.044321779161691666, 0.07076981663703918, 0.06606655567884445, 0.36991721391677856]], [[1.0, 0.0, 0.0, 0.0, 0.0, 0.0], [0.9191647171974182, 0.08083529025316238, 0.0, 0.0, 0.0, 0.0], [0.45986413955688477, 0.39703115820884705, 0.14310477674007416, 0.0, 0.0, 0.0], [0.3003872036933899, 0.22181737422943115, 0.38161522150039673, 0.09618017077445984, 0.0, 0.0], [0.18963928520679474, 0.13763727247714996, 0.20173485577106476, 0.23632171750068665, 0.2346668690443039, 0.0], [0.1541045904159546, 0.09489500522613525, 0.1190255656838417, 0.10277963429689407, 0.43172192573547363, 0.09747321903705597]], [[1.0, 0.0, 0.0, 0.0, 0.0, 0.0], [0.3649998605251312, 0.6350001692771912, 0.0, 0.0, 0.0, 0.0], [0.24595212936401367, 0.5519201159477234, 0.20212773978710175, 0.0, 0.0, 0.0], [0.27213576436042786, 0.4073863625526428, 0.25186222791671753, 0.06861572712659836, 0.0, 0.0], [0.10242544114589691, 0.16683603823184967, 0.5248052477836609, 0.05445460230112076, 0.15147864818572998, 0.0], [0.2502950131893158, 0.22198130190372467, 0.18899977207183838, 0.10677114874124527, 0.1303267925977707, 0.10162603855133057]], [[1.0, 0.0, 0.0, 0.0, 0.0, 0.0], [0.6990506052970886, 0.30094942450523376, 0.0, 0.0, 0.0, 0.0], [0.5107942223548889, 0.2948642671108246, 0.1943415254354477, 0.0, 0.0, 0.0], [0.4604707360267639, 0.28051915764808655, 0.19174796342849731, 0.06726216524839401, 0.0, 0.0], [0.3764842450618744, 0.21120664477348328, 0.20214535295963287, 0.10207020491361618, 0.10809355974197388, 0.0], [0.30138447880744934, 0.20456182956695557, 0.18250328302383423, 0.11019382625818253, 0.16291272640228271, 0.03844383731484413]], [[1.0, 0.0, 0.0, 0.0, 0.0, 0.0], [0.713158130645752, 0.28684186935424805, 0.0, 0.0, 0.0, 0.0], [0.4058799147605896, 0.18063297867774963, 0.41348710656166077, 0.0, 0.0, 0.0], [0.26554611325263977, 0.16985860466957092, 0.3358592987060547, 0.22873595356941223, 0.0, 0.0], [0.3138541281223297, 0.1831669807434082, 0.14928357303142548, 0.05377669632434845, 0.29991865158081055, 0.0], [0.20466555655002594, 0.18731118738651276, 0.15959151089191437, 0.06381773203611374, 0.036423053592443466, 0.3481909930706024]], [[1.0, 0.0, 0.0, 0.0, 0.0, 0.0], [0.6586242318153381, 0.34137579798698425, 0.0, 0.0, 0.0, 0.0], [0.5917777419090271, 0.3160035312175751, 0.09221875667572021, 0.0, 0.0, 0.0], [0.5477152466773987, 0.23586949706077576, 0.061456020921468735, 0.15495926141738892, 0.0, 0.0], [0.4587061107158661, 0.22439998388290405, 0.07887423783540726, 0.0992034375667572, 0.13881632685661316, 0.0], [0.32743728160858154, 0.19600822031497955, 0.06805707514286041, 0.08925104886293411, 0.11618076264858246, 0.20306557416915894]]], [[[1.0, 0.0, 0.0, 0.0, 0.0, 0.0], [0.9961552023887634, 0.003844835329800844, 0.0, 0.0, 0.0, 0.0], [0.8594854474067688, 0.06906110048294067, 0.07145346701145172, 0.0, 0.0, 0.0], [0.38000521063804626, 0.041275616735219955, 0.54966139793396, 0.029057756066322327, 0.0, 0.0], [0.21445204317569733, 0.050887398421764374, 0.4317443072795868, 0.2586929202079773, 0.0442233681678772, 0.0], [0.11175268143415451, 0.01759307272732258, 0.02750745601952076, 0.040867745876312256, 0.775466799736023, 0.02681219018995762]], [[1.0, 0.0, 0.0, 0.0, 0.0, 0.0], [0.9285967946052551, 0.07140323519706726, 0.0, 0.0, 0.0, 0.0], [0.6077286005020142, 0.31214281916618347, 0.08012861013412476, 0.0, 0.0, 0.0], [0.49429091811180115, 0.28503698110580444, 0.11849319934844971, 0.10217894613742828, 0.0, 0.0], [0.4183879792690277, 0.23117893934249878, 0.08340618014335632, 0.11365946382284164, 0.15336738526821136, 0.0], [0.4221586287021637, 0.1291714459657669, 0.08740925043821335, 0.10163747519254684, 0.21230269968509674, 0.04732051491737366]], [[1.0, 0.0, 0.0, 0.0, 0.0, 0.0], [0.9786475896835327, 0.021352354437112808, 0.0, 0.0, 0.0, 0.0], [0.7749121189117432, 0.0651036873459816, 0.15998421609401703, 0.0, 0.0, 0.0], [0.6484924554824829, 0.07483132183551788, 0.14751607179641724, 0.12916018068790436, 0.0, 0.0], [0.5224636793136597, 0.06921812891960144, 0.13823413848876953, 0.11106584966182709, 0.15901818871498108, 0.0], [0.3964516520500183, 0.0732581615447998, 0.12938155233860016, 0.1064242273569107, 0.14864005148410797, 0.14584431052207947]], [[1.0, 0.0, 0.0, 0.0, 0.0, 0.0], [0.5525904297828674, 0.4474095404148102, 0.0, 0.0, 0.0, 0.0], [0.5585010647773743, 0.2176259309053421, 0.22387303411960602, 0.0, 0.0, 0.0], [0.5143128633499146, 0.15964676439762115, 0.15491963922977448, 0.1711207628250122, 0.0, 0.0], [0.5039963722229004, 0.11401880532503128, 0.11974018812179565, 0.1255258023738861, 0.13671886920928955, 0.0], [0.5061841607093811, 0.08567393571138382, 0.0890301764011383, 0.09759817272424698, 0.10275731980800629, 0.11875619739294052]], [[1.0, 0.0, 0.0, 0.0, 0.0, 0.0], [0.9242545366287231, 0.07574545592069626, 0.0, 0.0, 0.0, 0.0], [0.8257424235343933, 0.07932537794113159, 0.09493223577737808, 0.0, 0.0, 0.0], [0.7306379675865173, 0.08571833372116089, 0.08043934404850006, 0.10320435464382172, 0.0, 0.0], [0.638323962688446, 0.07886383682489395, 0.07815027981996536, 0.08758095651865005, 0.11708095669746399, 0.0], [0.5552157163619995, 0.07409119606018066, 0.06834889203310013, 0.07778601348400116, 0.0999932661652565, 0.12456496059894562]], [[1.0, 0.0, 0.0, 0.0, 0.0, 0.0], [0.8578913807868958, 0.14210854470729828, 0.0, 0.0, 0.0, 0.0], [0.6423035264015198, 0.1662902534008026, 0.19140619039535522, 0.0, 0.0, 0.0], [0.5530979037284851, 0.10609278082847595, 0.0782126635313034, 0.26259666681289673, 0.0, 0.0], [0.40121686458587646, 0.12223605066537857, 0.19347333908081055, 0.14164625108242035, 0.14142750203609467, 0.0], [0.4021257758140564, 0.1845075935125351, 0.07516810297966003, 0.05849039554595947, 0.14446337521076202, 0.13524474203586578]], [[1.0, 0.0, 0.0, 0.0, 0.0, 0.0], [0.9791558980941772, 0.020844031125307083, 0.0, 0.0, 0.0, 0.0], [0.8829841613769531, 0.062332455068826675, 0.05468333512544632, 0.0, 0.0, 0.0], [0.8105453848838806, 0.08617088943719864, 0.07321780174970627, 0.030065881088376045, 0.0, 0.0], [0.6819811463356018, 0.049908190965652466, 0.08296553790569305, 0.08369530737400055, 0.1014498919248581, 0.0], [0.405668705701828, 0.07337663322687149, 0.08601406961679459, 0.06170937046408653, 0.13226447999477386, 0.240966796875]], [[1.0, 0.0, 0.0, 0.0, 0.0, 0.0], [0.9670192003250122, 0.03298087790608406, 0.0, 0.0, 0.0, 0.0], [0.8449064493179321, 0.0851450264453888, 0.06994849443435669, 0.0, 0.0, 0.0], [0.7123572826385498, 0.07896047085523605, 0.05541074275970459, 0.15327152609825134, 0.0, 0.0], [0.6402611136436462, 0.073975570499897, 0.04439307004213333, 0.14322128891944885, 0.09814883768558502, 0.0], [0.5073902606964111, 0.07523061335086823, 0.07754652947187424, 0.11362481862306595, 0.13947957754135132, 0.08672824501991272]], [[1.0, 0.0, 0.0, 0.0, 0.0, 0.0], [0.8487569689750671, 0.15124304592609406, 0.0, 0.0, 0.0, 0.0], [0.8415648937225342, 0.12107229232788086, 0.03736274689435959, 0.0, 0.0, 0.0], [0.7505518198013306, 0.11348948627710342, 0.06179961562156677, 0.07415907829999924, 0.0, 0.0], [0.6614715456962585, 0.10242653638124466, 0.052934300154447556, 0.07529725879430771, 0.10787040740251541, 0.0], [0.6014202833175659, 0.11340392380952835, 0.056319281458854675, 0.07096721976995468, 0.10906264930963516, 0.04882660135626793]], [[1.0, 0.0, 0.0, 0.0, 0.0, 0.0], [0.944548487663269, 0.055451489984989166, 0.0, 0.0, 0.0, 0.0], [0.8874567747116089, 0.054742150008678436, 0.057801079005002975, 0.0, 0.0, 0.0], [0.8281888961791992, 0.06894998252391815, 0.05903468281030655, 0.043826378881931305, 0.0, 0.0], [0.642989456653595, 0.06747538596391678, 0.11629711091518402, 0.054179463535547256, 0.11905860900878906, 0.0], [0.7367823719978333, 0.05611896142363548, 0.06857290118932724, 0.03421955928206444, 0.07875378429889679, 0.025552401319146156]], [[1.0, 0.0, 0.0, 0.0, 0.0, 0.0], [0.0002913392090704292, 0.9997085928916931, 0.0, 0.0, 0.0, 0.0], [0.0007981209782883525, 0.5288336873054504, 0.4703682065010071, 0.0, 0.0, 0.0], [0.0007648469763807952, 0.34519827365875244, 0.30852675437927246, 0.3455101251602173, 0.0, 0.0], [0.0010283160954713821, 0.24135908484458923, 0.23320148885250092, 0.2555713951587677, 0.26883968710899353, 0.0], [0.0009746801224537194, 0.1778968870639801, 0.16743157804012299, 0.1858760416507721, 0.18734434247016907, 0.2804764211177826]], [[1.0, 0.0, 0.0, 0.0, 0.0, 0.0], [0.824492871761322, 0.17550711333751678, 0.0, 0.0, 0.0, 0.0], [0.12386846542358398, 0.04449981078505516, 0.8316317796707153, 0.0, 0.0, 0.0], [0.07924346625804901, 0.012965884059667587, 0.0015277144266292453, 0.9062629342079163, 0.0, 0.0], [0.08806424587965012, 0.021341096609830856, 0.0028886212967336178, 0.0028453862760215998, 0.884860634803772, 0.0], [0.09983223676681519, 0.03363394737243652, 0.0054999953135848045, 0.0024330506566911936, 0.0015082453610375524, 0.8570924997329712]]], [[[1.0, 0.0, 0.0, 0.0, 0.0, 0.0], [0.9646892547607422, 0.03531075641512871, 0.0, 0.0, 0.0, 0.0], [0.7529155015945435, 0.08733495324850082, 0.1597495675086975, 0.0, 0.0, 0.0], [0.42022883892059326, 0.0919511467218399, 0.23549814522266388, 0.25232186913490295, 0.0, 0.0], [0.3084897994995117, 0.059081483632326126, 0.38391271233558655, 0.15659141540527344, 0.09192456305027008, 0.0], [0.4479042589664459, 0.043293118476867676, 0.07969176769256592, 0.11081928014755249, 0.2212459295988083, 0.09704577177762985]], [[1.0, 0.0, 0.0, 0.0, 0.0, 0.0], [0.991096019744873, 0.008904009126126766, 0.0, 0.0, 0.0, 0.0], [0.9697675704956055, 0.02608446590602398, 0.004147919360548258, 0.0, 0.0, 0.0], [0.9082902073860168, 0.03320597484707832, 0.009421163238584995, 0.049082644283771515, 0.0, 0.0], [0.894913911819458, 0.0554453544318676, 0.005577594041824341, 0.0315067432820797, 0.012556524015963078, 0.0], [0.8497739434242249, 0.028890080749988556, 0.0036647969391196966, 0.03751986846327782, 0.038427915424108505, 0.04172342270612717]], [[1.0, 0.0, 0.0, 0.0, 0.0, 0.0], [0.9984525442123413, 0.001547450665384531, 0.0, 0.0, 0.0, 0.0], [0.4894770681858063, 0.48122069239616394, 0.029302235692739487, 0.0, 0.0, 0.0], [0.11772175878286362, 0.13121238350868225, 0.6702308654785156, 0.0808350145816803, 0.0, 0.0], [0.1304374784231186, 0.040686968713998795, 0.26520395278930664, 0.41143494844436646, 0.152236670255661, 0.0], [0.12661880254745483, 0.03275134041905403, 0.03567878156900406, 0.06039182096719742, 0.6021819710731506, 0.14237730205059052]], [[1.0, 0.0, 0.0, 0.0, 0.0, 0.0], [0.9805176854133606, 0.01948232762515545, 0.0, 0.0, 0.0, 0.0], [0.7948846220970154, 0.12061937153339386, 0.08449599891901016, 0.0, 0.0, 0.0], [0.5612356662750244, 0.1574317067861557, 0.20339688658714294, 0.07793568819761276, 0.0, 0.0], [0.4258381128311157, 0.10742028802633286, 0.15123653411865234, 0.08755000680685043, 0.22795502841472626, 0.0], [0.247526153922081, 0.024188296869397163, 0.03039521723985672, 0.08586956560611725, 0.5714338421821594, 0.04058681055903435]], [[1.0, 0.0, 0.0, 0.0, 0.0, 0.0], [0.9887767434120178, 0.011223209090530872, 0.0, 0.0, 0.0, 0.0], [0.7572687864303589, 0.22317403554916382, 0.019557084888219833, 0.0, 0.0, 0.0], [0.5341885089874268, 0.2210759073495865, 0.17621777951717377, 0.06851774454116821, 0.0, 0.0], [0.17095331847667694, 0.08229430764913559, 0.5760213136672974, 0.11097609996795654, 0.05975491553544998, 0.0], [0.24871070683002472, 0.08880821615457535, 0.08980180323123932, 0.0972934141755104, 0.4413094222545624, 0.034076470881700516]], [[1.0, 0.0, 0.0, 0.0, 0.0, 0.0], [0.84221351146698, 0.1577865034341812, 0.0, 0.0, 0.0, 0.0], [0.46841248869895935, 0.4610539972782135, 0.07053354382514954, 0.0, 0.0, 0.0], [0.25881415605545044, 0.46358922123908997, 0.18503476679325104, 0.09256186336278915, 0.0, 0.0], [0.1839958280324936, 0.291542112827301, 0.17031070590019226, 0.27172964811325073, 0.08242157846689224, 0.0], [0.1646985411643982, 0.2472696155309677, 0.08770553767681122, 0.22575010359287262, 0.17745362222194672, 0.09712257236242294]], [[1.0, 0.0, 0.0, 0.0, 0.0, 0.0], [0.9919946193695068, 0.008005402982234955, 0.0, 0.0, 0.0, 0.0], [0.9068724513053894, 0.044065143913030624, 0.04906244948506355, 0.0, 0.0, 0.0], [0.8582223653793335, 0.05534830689430237, 0.040419358760118484, 0.04601002484560013, 0.0, 0.0], [0.7855252027511597, 0.04124242439866066, 0.08369283378124237, 0.04887618124485016, 0.04066329449415207, 0.0], [0.7856318950653076, 0.050146445631980896, 0.047512661665678024, 0.027365926653146744, 0.056147489696741104, 0.03319565951824188]], [[1.0, 0.0, 0.0, 0.0, 0.0, 0.0], [0.9041035175323486, 0.09589648246765137, 0.0, 0.0, 0.0, 0.0], [0.5862313508987427, 0.07199835777282715, 0.34177035093307495, 0.0, 0.0, 0.0], [0.3878961205482483, 0.046608034521341324, 0.2027897834777832, 0.3627060353755951, 0.0, 0.0], [0.26652422547340393, 0.024533025920391083, 0.12211917340755463, 0.20041218400001526, 0.38641130924224854, 0.0], [0.23357410728931427, 0.020537324249744415, 0.09610319882631302, 0.13062264025211334, 0.22990496456623077, 0.2892577648162842]], [[1.0, 0.0, 0.0, 0.0, 0.0, 0.0], [0.9639912247657776, 0.036008838564157486, 0.0, 0.0, 0.0, 0.0], [0.7075548768043518, 0.2542780935764313, 0.038167089223861694, 0.0, 0.0, 0.0], [0.2566530108451843, 0.20589324831962585, 0.016656609252095222, 0.5207971334457397, 0.0, 0.0], [0.10379397869110107, 0.046390969306230545, 0.008698618039488792, 0.7866848111152649, 0.05443158000707626, 0.0], [0.22143350541591644, 0.0337974838912487, 0.029023949056863785, 0.5412923693656921, 0.1528611183166504, 0.02159162238240242]], [[1.0, 0.0, 0.0, 0.0, 0.0, 0.0], [0.9891703724861145, 0.010829650796949863, 0.0, 0.0, 0.0, 0.0], [0.7913152575492859, 0.12309656292200089, 0.08558818697929382, 0.0, 0.0, 0.0], [0.2954605221748352, 0.15808317065238953, 0.4217236042022705, 0.12473278492689133, 0.0, 0.0], [0.23441055417060852, 0.09886537492275238, 0.3316013813018799, 0.19713933765888214, 0.1379832923412323, 0.0], [0.19728364050388336, 0.05741839483380318, 0.06909026205539703, 0.16469842195510864, 0.27972766757011414, 0.23178154230117798]], [[1.0, 0.0, 0.0, 0.0, 0.0, 0.0], [0.9359127879142761, 0.06408718228340149, 0.0, 0.0, 0.0, 0.0], [0.7888628840446472, 0.08673476427793503, 0.12440235167741776, 0.0, 0.0, 0.0], [0.6535120010375977, 0.07573550939559937, 0.0973256453871727, 0.17342688143253326, 0.0, 0.0], [0.5222766995429993, 0.05827884376049042, 0.09920474141836166, 0.1702084094285965, 0.15003138780593872, 0.0], [0.4108838438987732, 0.047306086868047714, 0.07265675067901611, 0.10560750961303711, 0.10550015419721603, 0.25804567337036133]], [[1.0, 0.0, 0.0, 0.0, 0.0, 0.0], [0.9683833122253418, 0.0316167026758194, 0.0, 0.0, 0.0, 0.0], [0.896539568901062, 0.038870617747306824, 0.06458979845046997, 0.0, 0.0, 0.0], [0.8264952898025513, 0.03213466331362724, 0.051967162638902664, 0.089402936398983, 0.0, 0.0], [0.7718174457550049, 0.03040287271142006, 0.04582739993929863, 0.07118470221757889, 0.08076760917901993, 0.0], [0.7292330265045166, 0.021699870005249977, 0.033074751496315, 0.047200947999954224, 0.06474561244249344, 0.10404577851295471]]], [[[1.0, 0.0, 0.0, 0.0, 0.0, 0.0], [0.9979567527770996, 0.00204328796826303, 0.0, 0.0, 0.0, 0.0], [0.9552939534187317, 0.008025347255170345, 0.0366806760430336, 0.0, 0.0, 0.0], [0.9254711270332336, 0.0027555807027965784, 0.0020629854407161474, 0.06971034407615662, 0.0, 0.0], [0.8660573363304138, 0.0038883774541318417, 0.0006785991718061268, 0.0006981469923630357, 0.12867754697799683, 0.0], [0.8455931544303894, 0.003780404571443796, 0.0002534229133743793, 6.027047857060097e-05, 0.00011820707004517317, 0.1501944661140442]], [[1.0, 0.0, 0.0, 0.0, 0.0, 0.0], [0.9262452721595764, 0.0737547054886818, 0.0, 0.0, 0.0, 0.0], [0.771714448928833, 0.16242049634456635, 0.06586501747369766, 0.0, 0.0, 0.0], [0.8167632818222046, 0.0780719667673111, 0.06324046850204468, 0.0419243760406971, 0.0, 0.0], [0.6867174506187439, 0.07755203545093536, 0.10056933015584946, 0.05955098941922188, 0.0756102204322815, 0.0], [0.642116129398346, 0.11014923453330994, 0.07688189297914505, 0.05403328314423561, 0.1033363863825798, 0.013483120128512383]], [[1.0, 0.0, 0.0, 0.0, 0.0, 0.0], [0.9395954608917236, 0.06040447950363159, 0.0, 0.0, 0.0, 0.0], [0.23004506528377533, 0.6617387533187866, 0.10821617394685745, 0.0, 0.0, 0.0], [0.267022043466568, 0.3607955873012543, 0.3249627649784088, 0.047219596803188324, 0.0, 0.0], [0.5952025651931763, 0.12269236147403717, 0.06302028149366379, 0.0891677662730217, 0.1299169361591339, 0.0], [0.10284547507762909, 0.02938002720475197, 0.013738987036049366, 0.045860305428504944, 0.7698510885238647, 0.03832415118813515]], [[1.0, 0.0, 0.0, 0.0, 0.0, 0.0], [0.9040982723236084, 0.09590169787406921, 0.0, 0.0, 0.0, 0.0], [0.35723644495010376, 0.6274626851081848, 0.015300874598324299, 0.0, 0.0, 0.0], [0.591799795627594, 0.2764042615890503, 0.10476015508174896, 0.02703583426773548, 0.0, 0.0], [0.7254428267478943, 0.049830976873636246, 0.014982663094997406, 0.17781300842761993, 0.0319305956363678, 0.0], [0.7612771987915039, 0.06158892810344696, 0.005942140240222216, 0.0164266899228096, 0.12677925825119019, 0.027985796332359314]], [[1.0, 0.0, 0.0, 0.0, 0.0, 0.0], [0.9947587847709656, 0.005241230130195618, 0.0, 0.0, 0.0, 0.0], [0.963241457939148, 0.017816437408328056, 0.018942013382911682, 0.0, 0.0, 0.0], [0.9671077132225037, 0.00850959774106741, 0.008562230505049229, 0.01582047902047634, 0.0, 0.0], [0.9340998530387878, 0.01195238996297121, 0.02018016390502453, 0.02675076574087143, 0.007016898598521948, 0.0], [0.9587239027023315, 0.004657103214412928, 0.0033267743419855833, 0.006545271724462509, 0.010182424448430538, 0.0165645033121109]], [[1.0, 0.0, 0.0, 0.0, 0.0, 0.0], [0.9769991040229797, 0.02300093322992325, 0.0, 0.0, 0.0, 0.0], [0.7917603850364685, 0.17533251643180847, 0.03290712460875511, 0.0, 0.0, 0.0], [0.7949194312095642, 0.10531839728355408, 0.04021846503019333, 0.05954372510313988, 0.0, 0.0], [0.7097727060317993, 0.10552525520324707, 0.0659753605723381, 0.0576557032763958, 0.061070844531059265, 0.0], [0.7506603002548218, 0.026514455676078796, 0.021576007828116417, 0.03429664671421051, 0.08494452387094498, 0.08200806379318237]], [[1.0, 0.0, 0.0, 0.0, 0.0, 0.0], [0.9837515950202942, 0.016248395666480064, 0.0, 0.0, 0.0, 0.0], [0.5615492463111877, 0.08956854790449142, 0.3488822281360626, 0.0, 0.0, 0.0], [0.329291433095932, 0.024114886298775673, 0.5428049564361572, 0.10378872603178024, 0.0, 0.0], [0.343303382396698, 0.01308642327785492, 0.5121965408325195, 0.11146274954080582, 0.01995095983147621, 0.0], [0.4792810082435608, 0.017333555966615677, 0.11805301159620285, 0.06130288541316986, 0.20071962475776672, 0.12330992519855499]], [[1.0, 0.0, 0.0, 0.0, 0.0, 0.0], [0.9908847212791443, 0.009115329943597317, 0.0, 0.0, 0.0, 0.0], [0.5282691717147827, 0.3292273283004761, 0.1425034999847412, 0.0, 0.0, 0.0], [0.48788613080978394, 0.2336861491203308, 0.17578043043613434, 0.10264717042446136, 0.0, 0.0], [0.3144491910934448, 0.18065091967582703, 0.1687134951353073, 0.09506578743457794, 0.24112047255039215, 0.0], [0.5168766975402832, 0.03589700534939766, 0.02618802897632122, 0.04039722681045532, 0.18791724741458893, 0.19272375106811523]], [[1.0, 0.0, 0.0, 0.0, 0.0, 0.0], [0.8750306367874146, 0.12496941536664963, 0.0, 0.0, 0.0, 0.0], [0.45506176352500916, 0.4900422692298889, 0.054895948618650436, 0.0, 0.0, 0.0], [0.2933717370033264, 0.5449903607368469, 0.094443179666996, 0.06719467043876648, 0.0, 0.0], [0.4897089898586273, 0.27209895849227905, 0.06861945241689682, 0.14694863557815552, 0.022624000906944275, 0.0], [0.4729079604148865, 0.0810307189822197, 0.016052095219492912, 0.3067219853401184, 0.10120696574449539, 0.022080253809690475]], [[1.0, 0.0, 0.0, 0.0, 0.0, 0.0], [0.963021993637085, 0.036978039890527725, 0.0, 0.0, 0.0, 0.0], [0.7557183504104614, 0.16436469554901123, 0.0799170508980751, 0.0, 0.0, 0.0], [0.6947703957557678, 0.08409865200519562, 0.06382595002651215, 0.15730495750904083, 0.0, 0.0], [0.5821163654327393, 0.03297789394855499, 0.07936549931764603, 0.19441358745098114, 0.11112666875123978, 0.0], [0.5974531769752502, 0.04261104017496109, 0.0691971704363823, 0.14563491940498352, 0.12481778860092163, 0.020285896956920624]], [[1.0, 0.0, 0.0, 0.0, 0.0, 0.0], [0.9957821369171143, 0.004217822104692459, 0.0, 0.0, 0.0, 0.0], [0.9312829971313477, 0.01056026853621006, 0.05815673619508743, 0.0, 0.0, 0.0], [0.843532383441925, 0.01569501869380474, 0.04575123265385628, 0.0950213298201561, 0.0, 0.0], [0.772409975528717, 0.011981210671365261, 0.03504602983593941, 0.03876766189932823, 0.14179496467113495, 0.0], [0.7642903923988342, 0.009868811815977097, 0.008122761733829975, 0.013314392417669296, 0.048244111239910126, 0.15615953505039215]], [[1.0, 0.0, 0.0, 0.0, 0.0, 0.0], [0.9701175093650818, 0.029882505536079407, 0.0, 0.0, 0.0, 0.0], [0.6563993692398071, 0.22506245970726013, 0.11853815615177155, 0.0, 0.0, 0.0], [0.6958049535751343, 0.14701922237873077, 0.07145991176366806, 0.08571591973304749, 0.0, 0.0], [0.6353276371955872, 0.13460658490657806, 0.03099420852959156, 0.056916385889053345, 0.14215518534183502, 0.0], [0.6779400706291199, 0.05365418270230293, 0.01800628937780857, 0.06284527480602264, 0.11038205772638321, 0.0771721750497818]]], [[[1.0, 0.0, 0.0, 0.0, 0.0, 0.0], [0.9822334051132202, 0.017766665667295456, 0.0, 0.0, 0.0, 0.0], [0.9037665128707886, 0.065415158867836, 0.030818354338407516, 0.0, 0.0, 0.0], [0.8119191527366638, 0.03679022192955017, 0.060560934245586395, 0.09072975069284439, 0.0, 0.0], [0.4054649770259857, 0.10383883118629456, 0.10211241990327835, 0.3543415367603302, 0.03424226492643356, 0.0], [0.22824536263942719, 0.017278620973229408, 0.050554510205984116, 0.601572573184967, 0.09411750733852386, 0.008231481537222862]], [[1.0, 0.0, 0.0, 0.0, 0.0, 0.0], [0.9873148202896118, 0.012685130350291729, 0.0, 0.0, 0.0, 0.0], [0.35445839166641235, 0.5317592024803162, 0.1137823611497879, 0.0, 0.0, 0.0], [0.07823347300291061, 0.7221357822418213, 0.10936644673347473, 0.09026430547237396, 0.0, 0.0], [0.2196812778711319, 0.4048420488834381, 0.12358086556196213, 0.2001877874135971, 0.05170813947916031, 0.0], [0.3608981668949127, 0.10459020733833313, 0.06983822584152222, 0.29764774441719055, 0.13869886100292206, 0.028326814994215965]], [[1.0, 0.0, 0.0, 0.0, 0.0, 0.0], [0.9732162356376648, 0.026783764362335205, 0.0, 0.0, 0.0, 0.0], [0.9167554974555969, 0.06145259737968445, 0.021791869774460793, 0.0, 0.0, 0.0], [0.8543078899383545, 0.08049607276916504, 0.0303349606692791, 0.03486098721623421, 0.0, 0.0], [0.8919220566749573, 0.042807601392269135, 0.022044960409402847, 0.0234705600887537, 0.019754884764552116, 0.0], [0.811677098274231, 0.03413517028093338, 0.03567648306488991, 0.04748572036623955, 0.02539709024131298, 0.0456283800303936]], [[1.0, 0.0, 0.0, 0.0, 0.0, 0.0], [0.9502761363983154, 0.04972388222813606, 0.0, 0.0, 0.0, 0.0], [0.7637449502944946, 0.20073655247688293, 0.03551853075623512, 0.0, 0.0, 0.0], [0.6279082298278809, 0.03768140822649002, 0.199454665184021, 0.13495564460754395, 0.0, 0.0], [0.6397072672843933, 0.02700725570321083, 0.09082002192735672, 0.20653757452964783, 0.035927847027778625, 0.0], [0.4559422433376312, 0.021641207858920097, 0.12939605116844177, 0.21800902485847473, 0.10379832237958908, 0.07121314853429794]], [[1.0, 0.0, 0.0, 0.0, 0.0, 0.0], [0.9498406648635864, 0.05015937238931656, 0.0, 0.0, 0.0, 0.0], [0.8688725233078003, 0.08722186833620071, 0.04390569031238556, 0.0, 0.0, 0.0], [0.6937955021858215, 0.06359205394983292, 0.09179048240184784, 0.15082195401191711, 0.0, 0.0], [0.7266594767570496, 0.04389890283346176, 0.04683978855609894, 0.0985179916024208, 0.08408377319574356, 0.0], [0.7848992347717285, 0.03714786097407341, 0.012907834723591805, 0.010539373382925987, 0.12079215049743652, 0.033713553100824356]], [[1.0, 0.0, 0.0, 0.0, 0.0, 0.0], [0.9891054034233093, 0.010894596576690674, 0.0, 0.0, 0.0, 0.0], [0.8929513096809387, 0.0870010107755661, 0.020047670230269432, 0.0, 0.0, 0.0], [0.7891120910644531, 0.09797283262014389, 0.08633210510015488, 0.026583032682538033, 0.0, 0.0], [0.885064423084259, 0.03644983470439911, 0.053954124450683594, 0.012377163395285606, 0.012154505588114262, 0.0], [0.6861328482627869, 0.05720386281609535, 0.011636301875114441, 0.021660495549440384, 0.1748802363872528, 0.048486191779375076]], [[1.0, 0.0, 0.0, 0.0, 0.0, 0.0], [0.9396193027496338, 0.0603807270526886, 0.0, 0.0, 0.0, 0.0], [0.785180389881134, 0.19751356542110443, 0.017306042835116386, 0.0, 0.0, 0.0], [0.766051173210144, 0.15444661676883698, 0.031882960349321365, 0.04761934652924538, 0.0, 0.0], [0.703524112701416, 0.0517139807343483, 0.07760961353778839, 0.15338978171348572, 0.013762429356575012, 0.0], [0.712189257144928, 0.049942195415496826, 0.03772546723484993, 0.08649089932441711, 0.06541411578655243, 0.048238079994916916]], [[1.0, 0.0, 0.0, 0.0, 0.0, 0.0], [0.974072277545929, 0.025927728042006493, 0.0, 0.0, 0.0, 0.0], [0.7925395369529724, 0.01171558815985918, 0.19574490189552307, 0.0, 0.0, 0.0], [0.5106766819953918, 0.007296787574887276, 0.039620064198970795, 0.4424065053462982, 0.0, 0.0], [0.5862483978271484, 0.012099655345082283, 0.02458510734140873, 0.06737803667783737, 0.30968889594078064, 0.0], [0.30196306109428406, 0.007724014110863209, 0.011518129147589207, 0.04694722220301628, 0.2214674949645996, 0.41038012504577637]], [[1.0, 0.0, 0.0, 0.0, 0.0, 0.0], [0.9744554162025452, 0.02554456517100334, 0.0, 0.0, 0.0, 0.0], [0.9769196510314941, 0.015048498287796974, 0.00803191028535366, 0.0, 0.0, 0.0], [0.9060619473457336, 0.025875406339764595, 0.025954807177186012, 0.04210776463150978, 0.0, 0.0], [0.9400083422660828, 0.005556637421250343, 0.005828286986798048, 0.03175776079297066, 0.016849057748913765, 0.0], [0.9105738401412964, 0.0019752182997763157, 0.008646726608276367, 0.013360859826207161, 0.03543964400887489, 0.030003665015101433]], [[1.0, 0.0, 0.0, 0.0, 0.0, 0.0], [0.9791666865348816, 0.020833317190408707, 0.0, 0.0, 0.0, 0.0], [0.8444865345954895, 0.13507813215255737, 0.020435379818081856, 0.0, 0.0, 0.0], [0.7903086543083191, 0.14559145271778107, 0.037530072033405304, 0.026569802314043045, 0.0, 0.0], [0.7298941016197205, 0.05649605393409729, 0.032735422253608704, 0.10400405526161194, 0.0768703892827034, 0.0], [0.5684203505516052, 0.04388796165585518, 0.02629331685602665, 0.08117099851369858, 0.24314753711223602, 0.03707978501915932]], [[1.0, 0.0, 0.0, 0.0, 0.0, 0.0], [0.9499868154525757, 0.050013184547424316, 0.0, 0.0, 0.0, 0.0], [0.9336172342300415, 0.05848857760429382, 0.007894252426922321, 0.0, 0.0, 0.0], [0.7897834777832031, 0.1107180193066597, 0.05360184982419014, 0.04589661583304405, 0.0, 0.0], [0.8859302997589111, 0.05752965062856674, 0.013743256218731403, 0.0033877412788569927, 0.03940899297595024, 0.0], [0.9337607622146606, 0.026470622047781944, 0.004523398820310831, 0.006190491374582052, 0.014132981188595295, 0.014921731315553188]], [[1.0, 0.0, 0.0, 0.0, 0.0, 0.0], [1.0, 1.8521365552359725e-09, 0.0, 0.0, 0.0, 0.0], [6.675967142655281e-06, 0.9999804496765137, 1.2841219358961098e-05, 0.0, 0.0, 0.0], [2.2193900051092896e-08, 2.6685140763760273e-09, 0.9999971389770508, 2.813725814121426e-06, 0.0, 0.0], [1.014512122310407e-06, 4.4640316332333896e-08, 0.0003535542346071452, 0.9993677735328674, 0.00027762833633460104, 0.0], [9.43658595708996e-10, 1.3820204529391145e-11, 5.017662951800617e-10, 2.9651443522737964e-09, 0.9999971389770508, 2.8643657969951164e-06]]], [[[1.0, 0.0, 0.0, 0.0, 0.0, 0.0], [0.9948632121086121, 0.005136778578162193, 0.0, 0.0, 0.0, 0.0], [0.9274216890335083, 0.018323859199881554, 0.05425445735454559, 0.0, 0.0, 0.0], [0.9678993225097656, 0.0041434201411902905, 0.004314451012760401, 0.023642854765057564, 0.0, 0.0], [0.8999073505401611, 0.0014671653043478727, 0.00029133757925592363, 0.002585027366876602, 0.09574910998344421, 0.0], [0.9386116862297058, 0.00022248283494263887, 0.0006146669038571417, 0.0015495712868869305, 0.03068929724395275, 0.028312446549534798]], [[1.0, 0.0, 0.0, 0.0, 0.0, 0.0], [0.9999959468841553, 4.042743512400193e-06, 0.0, 0.0, 0.0, 0.0], [0.9982761144638062, 3.2613863822916755e-06, 0.0017206594347953796, 0.0, 0.0, 0.0], [0.9998809099197388, 5.328855934294552e-08, 6.376245664796443e-07, 0.00011847172572743148, 0.0, 0.0], [0.9996154308319092, 3.4731860409920046e-07, 3.892082389711504e-08, 4.468454335437855e-07, 0.0003836970718111843, 0.0], [0.9994840621948242, 1.6550172787788142e-08, 2.8715502864429254e-08, 1.0638284493325045e-06, 0.00021266496332827955, 0.0003021183656528592]], [[1.0, 0.0, 0.0, 0.0, 0.0, 0.0], [0.9514135718345642, 0.04858645051717758, 0.0, 0.0, 0.0, 0.0], [0.5749930143356323, 0.3902827203273773, 0.034724291414022446, 0.0, 0.0, 0.0], [0.7442324161529541, 0.1752409040927887, 0.07564739137887955, 0.004879284650087357, 0.0, 0.0], [0.5232052803039551, 0.09429336339235306, 0.11381907016038895, 0.19979435205459595, 0.06888794153928757, 0.0], [0.474724680185318, 0.056365929543972015, 0.04530365392565727, 0.06967296451330185, 0.30980315804481506, 0.04412969946861267]], [[1.0, 0.0, 0.0, 0.0, 0.0, 0.0], [0.8734645843505859, 0.12653541564941406, 0.0, 0.0, 0.0, 0.0], [0.6097902059555054, 0.3541737198829651, 0.03603604808449745, 0.0, 0.0, 0.0], [0.4598419964313507, 0.38697895407676697, 0.09960073232650757, 0.05357826128602028, 0.0, 0.0], [0.5722200274467468, 0.2363627851009369, 0.08344550430774689, 0.06921941041946411, 0.038752224296331406, 0.0], [0.5143576860427856, 0.16723018884658813, 0.09019361436367035, 0.07654473185539246, 0.1057809591293335, 0.045892875641584396]], [[1.0, 0.0, 0.0, 0.0, 0.0, 0.0], [0.981228768825531, 0.018771234899759293, 0.0, 0.0, 0.0, 0.0], [0.6142945289611816, 0.35039740800857544, 0.03530804067850113, 0.0, 0.0, 0.0], [0.577068567276001, 0.32858458161354065, 0.055082596838474274, 0.03926429897546768, 0.0, 0.0], [0.17188039422035217, 0.011042509227991104, 0.054578736424446106, 0.7326597571372986, 0.029838504269719124, 0.0], [0.37830233573913574, 0.017070071771740913, 0.02175411954522133, 0.44096839427948, 0.06093824282288551, 0.08096682280302048]], [[1.0, 0.0, 0.0, 0.0, 0.0, 0.0], [0.9923112392425537, 0.0076887463219463825, 0.0, 0.0, 0.0, 0.0], [0.9498787522315979, 0.016709759831428528, 0.033411458134651184, 0.0, 0.0, 0.0], [0.9961295127868652, 0.0008787286351434886, 0.0006868182099424303, 0.0023048492148518562, 0.0, 0.0], [0.9935757517814636, 0.0032634998206049204, 0.0009993839776143432, 0.00027932407101616263, 0.001882052980363369, 0.0], [0.9907532930374146, 0.00021344318520277739, 0.0004595255304593593, 0.000790563877671957, 0.004424727521836758, 0.0033583652693778276]], [[1.0, 0.0, 0.0, 0.0, 0.0, 0.0], [0.9647741317749023, 0.03522586449980736, 0.0, 0.0, 0.0, 0.0], [0.8194129467010498, 0.13654384016990662, 0.04404321312904358, 0.0, 0.0, 0.0], [0.7584246397018433, 0.00687895342707634, 0.206533744931221, 0.02816266380250454, 0.0, 0.0], [0.5298115611076355, 0.0026788057293742895, 0.07857996970415115, 0.359838604927063, 0.029090987518429756, 0.0], [0.754442036151886, 0.0003678233188111335, 0.001971346326172352, 0.0032400586642324924, 0.19423361122608185, 0.0457451269030571]], [[1.0, 0.0, 0.0, 0.0, 0.0, 0.0], [0.9749132394790649, 0.025086700916290283, 0.0, 0.0, 0.0, 0.0], [0.930647075176239, 0.05705665796995163, 0.012296255677938461, 0.0, 0.0, 0.0], [0.9305251836776733, 0.0527709424495697, 0.011119427159428596, 0.005584423430263996, 0.0, 0.0], [0.8863323926925659, 0.012924124486744404, 0.017724618315696716, 0.06150177866220474, 0.02151699736714363, 0.0], [0.7916854023933411, 0.015036028809845448, 0.03174786642193794, 0.03392200171947479, 0.03707967698574066, 0.09052903205156326]], [[1.0, 0.0, 0.0, 0.0, 0.0, 0.0], [0.9608501195907593, 0.03914988785982132, 0.0, 0.0, 0.0, 0.0], [0.9121274352073669, 0.022576434537768364, 0.06529611349105835, 0.0, 0.0, 0.0], [0.9364105463027954, 0.015584442764520645, 0.02454502508044243, 0.023460011929273605, 0.0, 0.0], [0.9454619288444519, 0.0067622778005898, 0.022026244550943375, 0.009137828834354877, 0.016611825674772263, 0.0], [0.8346168398857117, 0.001881699077785015, 0.0056090462021529675, 0.01887360028922558, 0.12449157238006592, 0.014527094550430775]], [[1.0, 0.0, 0.0, 0.0, 0.0, 0.0], [0.9964227080345154, 0.0035772775299847126, 0.0, 0.0, 0.0, 0.0], [0.9713928699493408, 0.024453055113554, 0.004154072608798742, 0.0, 0.0, 0.0], [0.9735793471336365, 0.01900338940322399, 0.0036644060164690018, 0.003752913326025009, 0.0, 0.0], [0.9586310982704163, 0.007116206921637058, 0.009218432009220123, 0.02272571623325348, 0.002308485796675086, 0.0], [0.973607063293457, 0.008490574546158314, 0.0032512517645955086, 0.0036064486484974623, 0.004877468571066856, 0.006167220883071423]], [[1.0, 0.0, 0.0, 0.0, 0.0, 0.0], [0.97598797082901, 0.024011997506022453, 0.0, 0.0, 0.0, 0.0], [0.9460638165473938, 0.04211371764540672, 0.01182244811207056, 0.0, 0.0, 0.0], [0.8446815013885498, 0.04293101653456688, 0.052181921899318695, 0.060205552726984024, 0.0, 0.0], [0.9378372430801392, 0.033548563718795776, 0.008826462551951408, 0.0028792351949959993, 0.01690848544239998, 0.0], [0.8124936819076538, 0.026967516168951988, 0.05999176576733589, 0.03445721045136452, 0.011011840775609016, 0.05507803335785866]], [[1.0, 0.0, 0.0, 0.0, 0.0, 0.0], [0.9001205563545227, 0.0998794212937355, 0.0, 0.0, 0.0, 0.0], [0.6271928548812866, 0.0798872709274292, 0.2929198443889618, 0.0, 0.0, 0.0], [0.7624077796936035, 0.02734431065618992, 0.03867945075035095, 0.1715683788061142, 0.0, 0.0], [0.7995961308479309, 0.01433626189827919, 0.014375651255249977, 0.025438480079174042, 0.146253302693367, 0.0], [0.785197377204895, 0.04204045236110687, 0.02525358274579048, 0.029083941131830215, 0.02930629253387451, 0.08911837637424469]]], [[[1.0, 0.0, 0.0, 0.0, 0.0, 0.0], [0.9954467415809631, 0.004553190432488918, 0.0, 0.0, 0.0, 0.0], [0.9356002807617188, 0.044767413288354874, 0.019632335752248764, 0.0, 0.0, 0.0], [0.5605546832084656, 0.09861988574266434, 0.2998330295085907, 0.04099240154027939, 0.0, 0.0], [0.5893709659576416, 0.11000965535640717, 0.08033649623394012, 0.1675405502319336, 0.05274239555001259, 0.0], [0.22305917739868164, 0.05680795758962631, 0.05467958003282547, 0.24733997881412506, 0.31112396717071533, 0.10698934644460678]], [[1.0, 0.0, 0.0, 0.0, 0.0, 0.0], [0.9301449656486511, 0.06985507905483246, 0.0, 0.0, 0.0, 0.0], [0.8936482071876526, 0.08535679429769516, 0.020994946360588074, 0.0, 0.0, 0.0], [0.8404541611671448, 0.1061919704079628, 0.02363673597574234, 0.029717275872826576, 0.0, 0.0], [0.8927382826805115, 0.024784771725535393, 0.008319041691720486, 0.051654569804668427, 0.022503243759274483, 0.0], [0.8646607995033264, 0.009503168053925037, 0.002432984532788396, 0.047967538237571716, 0.042732179164886475, 0.032703325152397156]], [[1.0, 0.0, 0.0, 0.0, 0.0, 0.0], [0.9859625697135925, 0.014037375338375568, 0.0, 0.0, 0.0, 0.0], [0.9702038764953613, 0.016807015985250473, 0.012989096343517303, 0.0, 0.0, 0.0], [0.9524770379066467, 0.016064422205090523, 0.013456214219331741, 0.01800231821835041, 0.0, 0.0], [0.9332927465438843, 0.018971972167491913, 0.020146850496530533, 0.017023758962750435, 0.010564553551375866, 0.0], [0.911359429359436, 0.01252858154475689, 0.02209615148603916, 0.017518557608127594, 0.018517879769206047, 0.017979314550757408]], [[1.0, 0.0, 0.0, 0.0, 0.0, 0.0], [0.9681769013404846, 0.0318230465054512, 0.0, 0.0, 0.0, 0.0], [0.9096420407295227, 0.07916668057441711, 0.01119122002273798, 0.0, 0.0, 0.0], [0.8379938006401062, 0.13078227639198303, 0.012140986509621143, 0.01908300258219242, 0.0, 0.0], [0.9116524457931519, 0.054519642144441605, 0.009499377571046352, 0.007465855684131384, 0.016862759366631508, 0.0], [0.8510288000106812, 0.07338204979896545, 0.008022506721317768, 0.009083160199224949, 0.04261014983057976, 0.015873335301876068]], [[1.0, 0.0, 0.0, 0.0, 0.0, 0.0], [0.9799023866653442, 0.02009764313697815, 0.0, 0.0, 0.0, 0.0], [0.9558743238449097, 0.029063209891319275, 0.015062469989061356, 0.0, 0.0, 0.0], [0.7943131923675537, 0.060740936547517776, 0.06907673925161362, 0.07586909830570221, 0.0, 0.0], [0.5494318604469299, 0.031547125428915024, 0.054820187389850616, 0.05788073316216469, 0.30632004141807556, 0.0], [0.6453979015350342, 0.01077093556523323, 0.01752808690071106, 0.02157985419034958, 0.2495829313993454, 0.05514019355177879]], [[1.0, 0.0, 0.0, 0.0, 0.0, 0.0], [0.9506809115409851, 0.04931905120611191, 0.0, 0.0, 0.0, 0.0], [0.8553212285041809, 0.09256283193826675, 0.05211593955755234, 0.0, 0.0, 0.0], [0.8508521914482117, 0.04734605923295021, 0.04417739436030388, 0.05762434005737305, 0.0, 0.0], [0.7697129249572754, 0.027885815128684044, 0.03101726993918419, 0.0684250071644783, 0.10295894742012024, 0.0], [0.7931903004646301, 0.04052191227674484, 0.029241997748613358, 0.04478129744529724, 0.0489470511674881, 0.04331749677658081]], [[1.0, 0.0, 0.0, 0.0, 0.0, 0.0], [0.9770310521125793, 0.022968875244259834, 0.0, 0.0, 0.0, 0.0], [0.9429817199707031, 0.01732148788869381, 0.039696820080280304, 0.0, 0.0, 0.0], [0.9144344925880432, 0.008583564311265945, 0.013035798445343971, 0.06394599378108978, 0.0, 0.0], [0.9222429990768433, 0.003644024720415473, 0.0037402652669698, 0.01041034422814846, 0.05996229872107506, 0.0], [0.9198878407478333, 0.003082259325310588, 0.0034827457275241613, 0.004206804558634758, 0.02125430479645729, 0.04808596149086952]], [[1.0, 0.0, 0.0, 0.0, 0.0, 0.0], [0.977458119392395, 0.02254187874495983, 0.0, 0.0, 0.0, 0.0], [0.8929322957992554, 0.07475488632917404, 0.032312795519828796, 0.0, 0.0, 0.0], [0.842351496219635, 0.059802811592817307, 0.037400729954242706, 0.060445014387369156, 0.0, 0.0], [0.7674627304077148, 0.035363517701625824, 0.0421551950275898, 0.06658639758825302, 0.08843210339546204, 0.0], [0.6182611584663391, 0.016110649332404137, 0.02016764134168625, 0.03868899121880531, 0.231469988822937, 0.0753016322851181]], [[1.0, 0.0, 0.0, 0.0, 0.0, 0.0], [0.9634856581687927, 0.036514319479465485, 0.0, 0.0, 0.0, 0.0], [0.4363939166069031, 0.522637128829956, 0.040968988090753555, 0.0, 0.0, 0.0], [0.3608611226081848, 0.351297527551651, 0.2655101716518402, 0.022331135347485542, 0.0, 0.0], [0.39429211616516113, 0.02170463092625141, 0.07794342935085297, 0.37168920040130615, 0.13437063992023468, 0.0], [0.6310714483261108, 0.0169840045273304, 0.02594204619526863, 0.08615933358669281, 0.21832022070884705, 0.02152305282652378]], [[1.0, 0.0, 0.0, 0.0, 0.0, 0.0], [0.9988250136375427, 0.001175024313852191, 0.0, 0.0, 0.0, 0.0], [0.9944871068000793, 0.00048263854114338756, 0.005030238069593906, 0.0, 0.0, 0.0], [0.9981209635734558, 2.7051604774896987e-05, 0.00011307429667795077, 0.0017389451386407018, 0.0, 0.0], [0.9982239603996277, 6.83655816828832e-05, 0.00010199945245403796, 6.028387360856868e-05, 0.0015453092055395246, 0.0], [0.9982888102531433, 1.05522076410125e-06, 3.278103031334467e-05, 0.00013039002078585327, 0.0006605869275517762, 0.0008863709517754614]], [[1.0, 0.0, 0.0, 0.0, 0.0, 0.0], [0.9936710596084595, 0.006328918971121311, 0.0, 0.0, 0.0, 0.0], [0.9727688431739807, 0.001856132410466671, 0.025375070050358772, 0.0, 0.0, 0.0], [0.9724299907684326, 0.001958609325811267, 0.01119242887943983, 0.014418890699744225, 0.0, 0.0], [0.9782041311264038, 0.000958915741648525, 0.0018706456758081913, 0.006326562725007534, 0.012639695778489113, 0.0], [0.9592596888542175, 0.002455513458698988, 0.0016124167013913393, 0.005019672214984894, 0.0066871196031570435, 0.02496572956442833]], [[1.0, 0.0, 0.0, 0.0, 0.0, 0.0], [0.9629000425338745, 0.037099920213222504, 0.0, 0.0, 0.0, 0.0], [0.36802059412002563, 0.6152245998382568, 0.016754750162363052, 0.0, 0.0, 0.0], [0.31735095381736755, 0.614001452922821, 0.05375155806541443, 0.014896104112267494, 0.0, 0.0], [0.4898739755153656, 0.21071402728557587, 0.04693015292286873, 0.20700417459011078, 0.04547762870788574, 0.0], [0.4877415895462036, 0.17695252597332, 0.06915224343538284, 0.09849336743354797, 0.12091454118490219, 0.046745747327804565]]], [[[1.0, 0.0, 0.0, 0.0, 0.0, 0.0], [0.9794419407844543, 0.020558087155222893, 0.0, 0.0, 0.0, 0.0], [0.6677891612052917, 0.3103247284889221, 0.021886071190238, 0.0, 0.0, 0.0], [0.7118751406669617, 0.1110856756567955, 0.14187407493591309, 0.03516511991620064, 0.0, 0.0], [0.450146347284317, 0.04036048799753189, 0.04045822098851204, 0.388569712638855, 0.08046520501375198, 0.0], [0.4934616982936859, 0.013696945272386074, 0.008126803673803806, 0.13074517250061035, 0.3086143136024475, 0.045355066657066345]], [[1.0, 0.0, 0.0, 0.0, 0.0, 0.0], [0.9846053123474121, 0.015394614078104496, 0.0, 0.0, 0.0, 0.0], [0.9806739091873169, 0.00771379517391324, 0.011612341739237309, 0.0, 0.0, 0.0], [0.9326630234718323, 0.019578440114855766, 0.02410358190536499, 0.023654965683817863, 0.0, 0.0], [0.9422018527984619, 0.0009538951562717557, 0.0010898022446781397, 0.00319336517713964, 0.052561067044734955, 0.0], [0.9352928400039673, 0.0010279389098286629, 0.004444438964128494, 0.0016371398232877254, 0.010590991005301476, 0.04700661823153496]], [[1.0, 0.0, 0.0, 0.0, 0.0, 0.0], [0.9985783100128174, 0.0014216797426342964, 0.0, 0.0, 0.0, 0.0], [0.9893348813056946, 0.001117891282774508, 0.009547133930027485, 0.0, 0.0, 0.0], [0.9979978203773499, 7.997080683708191e-05, 0.00013218875392340124, 0.0017900324892252684, 0.0, 0.0], [0.9986976385116577, 4.104400068172254e-05, 3.868332441925304e-06, 2.367614615650382e-05, 0.0012337085790932178, 0.0], [0.9971562623977661, 1.8522179743740708e-05, 1.8826575569619308e-06, 2.7900150598725304e-05, 0.0006533475825563073, 0.0021419981494545937]], [[1.0, 0.0, 0.0, 0.0, 0.0, 0.0], [0.9768233299255371, 0.0231766514480114, 0.0, 0.0, 0.0, 0.0], [0.9194678068161011, 0.050881870090961456, 0.029650308191776276, 0.0, 0.0, 0.0], [0.8474553823471069, 0.06100171431899071, 0.04372374713420868, 0.047819167375564575, 0.0, 0.0], [0.8011623620986938, 0.041867006570100784, 0.04375806450843811, 0.041894737631082535, 0.07131786644458771, 0.0], [0.8031870722770691, 0.024504873901605606, 0.01732351817190647, 0.04744390770792961, 0.061099398881196976, 0.046441253274679184]], [[1.0, 0.0, 0.0, 0.0, 0.0, 0.0], [0.9829428195953369, 0.017057176679372787, 0.0, 0.0, 0.0, 0.0], [0.8863736391067505, 0.0949266105890274, 0.018699802458286285, 0.0, 0.0, 0.0], [0.9231084585189819, 0.03696349635720253, 0.03219837695360184, 0.007729674223810434, 0.0, 0.0], [0.9068529009819031, 0.016046574339270592, 0.014310498721897602, 0.0454377681016922, 0.017352230846881866, 0.0], [0.6555964946746826, 0.05091026425361633, 0.028384972363710403, 0.12565548717975616, 0.10546879470348358, 0.033983998000621796]], [[1.0, 0.0, 0.0, 0.0, 0.0, 0.0], [0.9502318501472473, 0.04976813867688179, 0.0, 0.0, 0.0, 0.0], [0.8829866647720337, 0.10009622573852539, 0.016917144879698753, 0.0, 0.0, 0.0], [0.8057458400726318, 0.14463554322719574, 0.03018922172486782, 0.0194294061511755, 0.0, 0.0], [0.8706232905387878, 0.03244059905409813, 0.02695159800350666, 0.04410294070839882, 0.025881554931402206, 0.0], [0.6883642673492432, 0.009681475348770618, 0.01644935831427574, 0.09871120750904083, 0.08971215039491653, 0.09708152711391449]], [[1.0, 0.0, 0.0, 0.0, 0.0, 0.0], [0.9792683124542236, 0.020731722936034203, 0.0, 0.0, 0.0, 0.0], [0.9523284435272217, 0.025933850556612015, 0.02173774503171444, 0.0, 0.0, 0.0], [0.9144353866577148, 0.01767127215862274, 0.022358529269695282, 0.04553481936454773, 0.0, 0.0], [0.9448293447494507, 0.006467591971158981, 0.006386054679751396, 0.032630838453769684, 0.009686144068837166, 0.0], [0.9347907304763794, 0.007862495258450508, 0.007788173388689756, 0.021432779729366302, 0.008491129614412785, 0.01963479444384575]], [[1.0, 0.0, 0.0, 0.0, 0.0, 0.0], [0.983370304107666, 0.016629694029688835, 0.0, 0.0, 0.0, 0.0], [0.9631112813949585, 0.009229938499629498, 0.027658741921186447, 0.0, 0.0, 0.0], [0.9706628322601318, 0.004149412736296654, 0.00681313406676054, 0.01837465912103653, 0.0, 0.0], [0.987951934337616, 0.0021658847108483315, 0.0003490109520498663, 0.0015838132239878178, 0.00794943980872631, 0.0], [0.9457950592041016, 0.014583553187549114, 0.00036529620410874486, 0.0009569551330059767, 0.01362164318561554, 0.024677526205778122]], [[1.0, 0.0, 0.0, 0.0, 0.0, 0.0], [0.9878059029579163, 0.012194057926535606, 0.0, 0.0, 0.0, 0.0], [0.8710363507270813, 0.09448186308145523, 0.0344817228615284, 0.0, 0.0, 0.0], [0.630977213382721, 0.11090408265590668, 0.19230294227600098, 0.06581571698188782, 0.0, 0.0], [0.5360495448112488, 0.04618941619992256, 0.13605305552482605, 0.26455456018447876, 0.01715337112545967, 0.0], [0.8287509679794312, 0.023732837289571762, 0.020080462098121643, 0.07245317101478577, 0.030431464314460754, 0.024551058188080788]], [[1.0, 0.0, 0.0, 0.0, 0.0, 0.0], [0.8995683789253235, 0.10043162852525711, 0.0, 0.0, 0.0, 0.0], [0.27034252882003784, 0.6504339575767517, 0.07922349125146866, 0.0, 0.0, 0.0], [0.20541679859161377, 0.5892516374588013, 0.18085816502571106, 0.024473469704389572, 0.0, 0.0], [0.5573872327804565, 0.17741306126117706, 0.08806795626878738, 0.09881811589002609, 0.0783136636018753, 0.0], [0.5922900438308716, 0.08700650930404663, 0.05643290653824806, 0.05685901641845703, 0.12181542813777924, 0.0855959951877594]], [[1.0, 0.0, 0.0, 0.0, 0.0, 0.0], [0.9316378831863403, 0.06836217641830444, 0.0, 0.0, 0.0, 0.0], [0.9572948217391968, 0.026243489235639572, 0.016461728140711784, 0.0, 0.0, 0.0], [0.9880544543266296, 0.004273333121091127, 0.002954584313556552, 0.004717658273875713, 0.0, 0.0], [0.99403977394104, 0.00094134162645787, 0.00047398178139701486, 0.0001164695349871181, 0.0044284239411354065, 0.0], [0.9806033968925476, 2.5469029424129985e-05, 0.00016239423712249845, 0.00014764168008696288, 0.0013442422496154904, 0.017716875299811363]], [[1.0, 0.0, 0.0, 0.0, 0.0, 0.0], [0.993178129196167, 0.006821854040026665, 0.0, 0.0, 0.0, 0.0], [0.9756524562835693, 0.013184082694351673, 0.011163434945046902, 0.0, 0.0, 0.0], [0.9418965578079224, 0.00472175981849432, 0.0023818155750632286, 0.05099981278181076, 0.0, 0.0], [0.9905040860176086, 0.0022848148364573717, 6.19848578935489e-05, 0.0005984479794278741, 0.0065506696701049805, 0.0], [0.9697661399841309, 0.0008878817316144705, 0.0002346673863939941, 0.0017040761886164546, 0.00412834482267499, 0.02327890321612358]]], [[[1.0, 0.0, 0.0, 0.0, 0.0, 0.0], [0.9716230630874634, 0.02837691642343998, 0.0, 0.0, 0.0, 0.0], [0.9223618507385254, 0.028907328844070435, 0.04873083159327507, 0.0, 0.0, 0.0], [0.8426313400268555, 0.02387220785021782, 0.047481417655944824, 0.08601494878530502, 0.0, 0.0], [0.8521119356155396, 0.02074427902698517, 0.044946253299713135, 0.05765008181333542, 0.024547452107071877, 0.0], [0.880072295665741, 0.02244856208562851, 0.01823575422167778, 0.01925484463572502, 0.015854274854063988, 0.044134173542261124]], [[1.0, 0.0, 0.0, 0.0, 0.0, 0.0], [0.9412722587585449, 0.0587276890873909, 0.0, 0.0, 0.0, 0.0], [0.9163137674331665, 0.057592038065195084, 0.026094114407896996, 0.0, 0.0, 0.0], [0.839242160320282, 0.057690609246492386, 0.013829072006046772, 0.08923812210559845, 0.0, 0.0], [0.8987159132957458, 0.013477910310029984, 0.0003456466947682202, 0.0032987643498927355, 0.08416172116994858, 0.0], [0.8701688647270203, 0.0027008680626749992, 0.0014350017299875617, 0.0056661805137991905, 0.08874335139989853, 0.031285788863897324]], [[1.0, 0.0, 0.0, 0.0, 0.0, 0.0], [0.9656724333763123, 0.03432755172252655, 0.0, 0.0, 0.0, 0.0], [0.9178614020347595, 0.062258072197437286, 0.019880497828125954, 0.0, 0.0, 0.0], [0.8233147263526917, 0.06282397359609604, 0.03670434653759003, 0.07715696096420288, 0.0, 0.0], [0.8501747846603394, 0.0381692536175251, 0.0319649800658226, 0.05160142108798027, 0.028089581057429314, 0.0], [0.657240092754364, 0.05877406895160675, 0.04336019605398178, 0.09013209491968155, 0.08146589994430542, 0.06902763247489929]], [[1.0, 0.0, 0.0, 0.0, 0.0, 0.0], [0.916206419467926, 0.08379358053207397, 0.0, 0.0, 0.0, 0.0], [0.9451773762702942, 0.04099278151988983, 0.013829839415848255, 0.0, 0.0, 0.0], [0.8928354978561401, 0.05368672311306, 0.017596988007426262, 0.035880789160728455, 0.0, 0.0], [0.8337052464485168, 0.04799607768654823, 0.03351325914263725, 0.04680858924984932, 0.037976838648319244, 0.0], [0.8167193531990051, 0.06337122619152069, 0.013286272995173931, 0.020469756796956062, 0.0252922922372818, 0.06086103618144989]], [[1.0, 0.0, 0.0, 0.0, 0.0, 0.0], [0.9525134563446045, 0.047486573457717896, 0.0, 0.0, 0.0, 0.0], [0.3019861578941345, 0.6520946621894836, 0.04591917246580124, 0.0, 0.0, 0.0], [0.28558361530303955, 0.5569518208503723, 0.14447401463985443, 0.01299047190696001, 0.0, 0.0], [0.8438038229942322, 0.03225136920809746, 0.039542973041534424, 0.06848172843456268, 0.015920117497444153, 0.0], [0.6664936542510986, 0.0609591081738472, 0.040643513202667236, 0.06804484128952026, 0.09186362475156784, 0.07199534773826599]], [[1.0, 0.0, 0.0, 0.0, 0.0, 0.0], [0.9682655334472656, 0.031734492629766464, 0.0, 0.0, 0.0, 0.0], [0.7385213971138, 0.22856901586055756, 0.03290960192680359, 0.0, 0.0, 0.0], [0.5946672558784485, 0.2303318977355957, 0.14867626130580902, 0.026324599981307983, 0.0, 0.0], [0.6339263916015625, 0.05813021957874298, 0.09654279798269272, 0.1429191678762436, 0.06848140060901642, 0.0], [0.40375739336013794, 0.0894537940621376, 0.07635077089071274, 0.25587037205696106, 0.1433037519454956, 0.031263891607522964]], [[1.0, 0.0, 0.0, 0.0, 0.0, 0.0], [0.9869793653488159, 0.013020649552345276, 0.0, 0.0, 0.0, 0.0], [0.8631384968757629, 0.1105666235089302, 0.026294879615306854, 0.0, 0.0, 0.0], [0.9488076567649841, 0.02861509658396244, 0.006535593420267105, 0.01604161225259304, 0.0, 0.0], [0.9672170877456665, 0.006604999303817749, 0.0004517166526056826, 0.00484442850574851, 0.02088175341486931, 0.0], [0.935462236404419, 0.02047804556787014, 0.0011700242757797241, 0.0070569440722465515, 0.01631813496351242, 0.01951463334262371]], [[1.0, 0.0, 0.0, 0.0, 0.0, 0.0], [0.9846673011779785, 0.015332716517150402, 0.0, 0.0, 0.0, 0.0], [0.9052746295928955, 0.08373615145683289, 0.010989219881594181, 0.0, 0.0, 0.0], [0.8145942091941833, 0.0428374782204628, 0.10568251460790634, 0.036885764449834824, 0.0, 0.0], [0.2351962924003601, 0.012018454261124134, 0.05280090495944023, 0.6516204476356506, 0.048363883048295975, 0.0], [0.31818535923957825, 0.01863240823149681, 0.039481744170188904, 0.37555593252182007, 0.2078719288110733, 0.040272705256938934]], [[1.0, 0.0, 0.0, 0.0, 0.0, 0.0], [0.9811733365058899, 0.018826736137270927, 0.0, 0.0, 0.0, 0.0], [0.8618942499160767, 0.06479164212942123, 0.07331419736146927, 0.0, 0.0, 0.0], [0.7664539813995361, 0.07330439239740372, 0.10353518277406693, 0.05670655146241188, 0.0, 0.0], [0.8128499388694763, 0.032154884189367294, 0.05900554731488228, 0.05416525900363922, 0.04182448238134384, 0.0], [0.8687861561775208, 0.026987800374627113, 0.020469924435019493, 0.01629735343158245, 0.03218373283743858, 0.03527507558465004]], [[1.0, 0.0, 0.0, 0.0, 0.0, 0.0], [0.9264581799507141, 0.07354187220335007, 0.0, 0.0, 0.0, 0.0], [0.8403534293174744, 0.06373783200979233, 0.0959087386727333, 0.0, 0.0, 0.0], [0.733099102973938, 0.06451135128736496, 0.10380092263221741, 0.09858869761228561, 0.0, 0.0], [0.9143611788749695, 0.00825780350714922, 0.007320395205169916, 0.017966296523809433, 0.052094414830207825, 0.0], [0.8971913456916809, 0.008555509150028229, 0.0070194522850215435, 0.014860562980175018, 0.03399771451950073, 0.0383753776550293]], [[1.0, 0.0, 0.0, 0.0, 0.0, 0.0], [0.9180346727371216, 0.0819653645157814, 0.0, 0.0, 0.0, 0.0], [0.8328660726547241, 0.12199067324399948, 0.04514329880475998, 0.0, 0.0, 0.0], [0.7994153499603271, 0.08744149655103683, 0.036057859659194946, 0.07708526402711868, 0.0, 0.0], [0.8809850811958313, 0.02074965462088585, 0.02055460214614868, 0.01712082512676716, 0.06058979406952858, 0.0], [0.7453035712242126, 0.044334039092063904, 0.022549239918589592, 0.0331527441740036, 0.03357039764523506, 0.12108995020389557]], [[1.0, 0.0, 0.0, 0.0, 0.0, 0.0], [0.9867061972618103, 0.013293863274157047, 0.0, 0.0, 0.0, 0.0], [0.982177734375, 0.012414142489433289, 0.005408093333244324, 0.0, 0.0, 0.0], [0.96304851770401, 0.015290772542357445, 0.010345697402954102, 0.011314946226775646, 0.0, 0.0], [0.9213568568229675, 0.01413250993937254, 0.017639199271798134, 0.01656770519912243, 0.030303746461868286, 0.0], [0.9373326301574707, 0.009064320474863052, 0.007548361551016569, 0.0065764556638896465, 0.011827622540295124, 0.02765044942498207]]], [[[1.0, 0.0, 0.0, 0.0, 0.0, 0.0], [0.9951004385948181, 0.004899632651358843, 0.0, 0.0, 0.0, 0.0], [0.9476008415222168, 0.04140789806842804, 0.010991244576871395, 0.0, 0.0, 0.0], [0.9142175316810608, 0.02352377586066723, 0.03914502263069153, 0.02311362884938717, 0.0, 0.0], [0.9534734487533569, 0.008932989090681076, 0.01527285948395729, 0.00790830422192812, 0.014412342570722103, 0.0], [0.9427104592323303, 0.008233066648244858, 0.00465098861604929, 0.004178104922175407, 0.00546351308003068, 0.03476402163505554]], [[1.0, 0.0, 0.0, 0.0, 0.0, 0.0], [0.9543376564979553, 0.04566233977675438, 0.0, 0.0, 0.0, 0.0], [0.9696040749549866, 0.019547613337635994, 0.010848305188119411, 0.0, 0.0, 0.0], [0.9710449576377869, 0.012425409629940987, 0.008068887516856194, 0.008460711687803268, 0.0, 0.0], [0.9726192951202393, 0.0026976598892360926, 0.0004483134835027158, 0.0013814751291647553, 0.0228531863540411, 0.0], [0.9675466418266296, 0.009613432921469212, 0.003203024622052908, 0.00424882723018527, 0.007442239206284285, 0.007945878431200981]], [[1.0, 0.0, 0.0, 0.0, 0.0, 0.0], [0.9887008666992188, 0.011299137957394123, 0.0, 0.0, 0.0, 0.0], [0.9382632374763489, 0.04204239696264267, 0.019694384187459946, 0.0, 0.0, 0.0], [0.8351994752883911, 0.034878555685281754, 0.05134480446577072, 0.07857716083526611, 0.0, 0.0], [0.9042678475379944, 0.010541572235524654, 0.016426734626293182, 0.025921905413269997, 0.04284191504120827, 0.0], [0.8913140296936035, 0.008912680670619011, 0.005010716151446104, 0.008175616152584553, 0.013514742255210876, 0.07307226955890656]], [[1.0, 0.0, 0.0, 0.0, 0.0, 0.0], [0.8693910241127014, 0.1306089460849762, 0.0, 0.0, 0.0, 0.0], [0.3507995009422302, 0.6063514351844788, 0.04284907132387161, 0.0, 0.0, 0.0], [0.3547574281692505, 0.35020166635513306, 0.2472236454486847, 0.04781726747751236, 0.0, 0.0], [0.35370728373527527, 0.03527730330824852, 0.09567105025053024, 0.44979560375213623, 0.06554874777793884, 0.0], [0.4132589101791382, 0.09055539965629578, 0.05286574363708496, 0.17468002438545227, 0.17384833097457886, 0.09479160606861115]], [[1.0, 0.0, 0.0, 0.0, 0.0, 0.0], [0.9629756212234497, 0.037024326622486115, 0.0, 0.0, 0.0, 0.0], [0.9756426811218262, 0.019658571109175682, 0.004698721691966057, 0.0, 0.0, 0.0], [0.9775736331939697, 0.013286286033689976, 0.0025590381119400263, 0.006581075489521027, 0.0, 0.0], [0.9870141744613647, 0.007388256955891848, 0.0009579194593243301, 0.0018318305956199765, 0.0028077608440071344, 0.0], [0.9409245848655701, 0.01663370616734028, 0.0022979099303483963, 0.005890648812055588, 0.005512924864888191, 0.028740206733345985]], [[1.0, 0.0, 0.0, 0.0, 0.0, 0.0], [0.9628270864486694, 0.03717287629842758, 0.0, 0.0, 0.0, 0.0], [0.9582237601280212, 0.02464187517762184, 0.01713441126048565, 0.0, 0.0, 0.0], [0.9351301193237305, 0.015331569127738476, 0.014810970053076744, 0.034727420657873154, 0.0, 0.0], [0.9225173592567444, 0.010528738610446453, 0.011010141111910343, 0.01943998970091343, 0.03650377318263054, 0.0], [0.8420166969299316, 0.043571993708610535, 0.0074882726185023785, 0.014961534179747105, 0.023852836340665817, 0.0681087076663971]], [[1.0, 0.0, 0.0, 0.0, 0.0, 0.0], [0.9926387071609497, 0.007361325901001692, 0.0, 0.0, 0.0, 0.0], [0.9957393407821655, 0.0033469772897660732, 0.0009136898443102837, 0.0, 0.0, 0.0], [0.9869900345802307, 0.0019747838377952576, 0.0015245531685650349, 0.009510681964457035, 0.0, 0.0], [0.9933527708053589, 0.0010203277925029397, 0.0003433738893363625, 0.0010291136568412185, 0.004254387691617012, 0.0], [0.9749016761779785, 0.00043480086605995893, 0.0004306553164497018, 0.0012364365393295884, 0.0015347714070230722, 0.0214616060256958]], [[1.0, 0.0, 0.0, 0.0, 0.0, 0.0], [0.9897475242614746, 0.010252452455461025, 0.0, 0.0, 0.0, 0.0], [0.9790639281272888, 0.0165090411901474, 0.0044270846992731094, 0.0, 0.0, 0.0], [0.9521436095237732, 0.029432358220219612, 0.008943158201873302, 0.009480919688940048, 0.0, 0.0], [0.9395941495895386, 0.02151094377040863, 0.010278528556227684, 0.004555225372314453, 0.024061109870672226, 0.0], [0.9205074310302734, 0.016153667122125626, 0.010818603448569775, 0.016644423827528954, 0.014566424302756786, 0.02130945399403572]], [[1.0, 0.0, 0.0, 0.0, 0.0, 0.0], [0.9898501634597778, 0.010149785317480564, 0.0, 0.0, 0.0, 0.0], [0.9820908904075623, 0.006907532922923565, 0.011001549661159515, 0.0, 0.0, 0.0], [0.9684997200965881, 0.008987602777779102, 0.01534257736057043, 0.007170080207288265, 0.0, 0.0], [0.9274120330810547, 0.00948525220155716, 0.02206609584391117, 0.032228823751211166, 0.008807658217847347, 0.0], [0.9006661176681519, 0.021623708307743073, 0.013808243907988071, 0.009843830019235611, 0.008521359413862228, 0.04553686082363129]], [[1.0, 0.0, 0.0, 0.0, 0.0, 0.0], [0.9954444169998169, 0.004555590450763702, 0.0, 0.0, 0.0, 0.0], [0.995254397392273, 0.0024602378252893686, 0.0022854867856949568, 0.0, 0.0, 0.0], [0.9862446188926697, 0.0015168129466474056, 0.0040722922421991825, 0.00816634576767683, 0.0, 0.0], [0.9889963865280151, 0.0012260453077033162, 0.0007996386848390102, 0.0006774256471544504, 0.008300586603581905, 0.0], [0.9865202903747559, 0.0003942708426620811, 0.0009571781265549362, 0.0004954367759637535, 0.0009604956139810383, 0.010672271251678467]], [[1.0, 0.0, 0.0, 0.0, 0.0, 0.0], [0.9821295142173767, 0.01787050999701023, 0.0, 0.0, 0.0, 0.0], [0.7489444017410278, 0.22002646327018738, 0.031029101461172104, 0.0, 0.0, 0.0], [0.2854782044887543, 0.2112564593553543, 0.47871601581573486, 0.024549296125769615, 0.0, 0.0], [0.8056644201278687, 0.026974566280841827, 0.043028030544519424, 0.06993728131055832, 0.054395731538534164, 0.0], [0.33072179555892944, 0.022326543927192688, 0.016627060249447823, 0.08019446581602097, 0.41574761271476746, 0.13438251614570618]], [[1.0, 0.0, 0.0, 0.0, 0.0, 0.0], [0.9697747826576233, 0.030225243419408798, 0.0, 0.0, 0.0, 0.0], [0.9800565838813782, 0.015018879435956478, 0.004924533423036337, 0.0, 0.0, 0.0], [0.9237861037254333, 0.05276470631361008, 0.006302401423454285, 0.017146700993180275, 0.0, 0.0], [0.9451842904090881, 0.03618048503994942, 0.0019892107229679823, 0.003958720248192549, 0.01268728543072939, 0.0], [0.9633325934410095, 0.01866300031542778, 0.0030418490059673786, 0.007070909254252911, 0.0050094230100512505, 0.00288207083940506]]], [[[1.0, 0.0, 0.0, 0.0, 0.0, 0.0], [0.9873244762420654, 0.01267546508461237, 0.0, 0.0, 0.0, 0.0], [0.9904569983482361, 0.0055419523268938065, 0.00400111498311162, 0.0, 0.0, 0.0], [0.9814972877502441, 0.004653451964259148, 0.00372527027502656, 0.010124017484486103, 0.0, 0.0], [0.9744364619255066, 0.004632266703993082, 0.00237999833188951, 0.006518086884170771, 0.012033074162900448, 0.0], [0.9624499678611755, 0.003374350257217884, 0.0013198534725233912, 0.0017274925485253334, 0.002944676671177149, 0.02818371169269085]], [[1.0, 0.0, 0.0, 0.0, 0.0, 0.0], [0.9807674288749695, 0.01923258788883686, 0.0, 0.0, 0.0, 0.0], [0.9664245843887329, 0.015413948334753513, 0.018161438405513763, 0.0, 0.0, 0.0], [0.9632683396339417, 0.004538118373602629, 0.0029253833927214146, 0.029268108308315277, 0.0, 0.0], [0.9562349319458008, 0.0012223648373037577, 0.0005304075893945992, 0.008671483024954796, 0.03334081918001175, 0.0], [0.9657101035118103, 0.0009808284230530262, 0.0016686219023540616, 0.0026348258834332228, 0.0058663529343903065, 0.02313929796218872]], [[1.0, 0.0, 0.0, 0.0, 0.0, 0.0], [0.9639714956283569, 0.036028504371643066, 0.0, 0.0, 0.0, 0.0], [0.9562799334526062, 0.03373320773243904, 0.009986845776438713, 0.0, 0.0, 0.0], [0.8539997339248657, 0.08073030412197113, 0.03334445506334305, 0.03192548826336861, 0.0, 0.0], [0.9547489881515503, 0.0096050426363945, 0.0041461666114628315, 0.0020133235957473516, 0.02948644384741783, 0.0], [0.933113694190979, 0.028699707239866257, 0.005477473139762878, 0.006368068978190422, 0.012613070197403431, 0.013728084973990917]], [[1.0, 0.0, 0.0, 0.0, 0.0, 0.0], [0.9392993450164795, 0.060700688511133194, 0.0, 0.0, 0.0, 0.0], [0.9298389554023743, 0.06189555302262306, 0.008265506476163864, 0.0, 0.0, 0.0], [0.8471822738647461, 0.09035059064626694, 0.017636103555560112, 0.0448310486972332, 0.0, 0.0], [0.8857701420783997, 0.03918180987238884, 0.007867713458836079, 0.0227658748626709, 0.04441450908780098, 0.0], [0.8563280701637268, 0.1008898988366127, 0.006531442981213331, 0.008485902100801468, 0.007368441205471754, 0.020396225154399872]], [[1.0, 0.0, 0.0, 0.0, 0.0, 0.0], [0.8353263735771179, 0.1646736115217209, 0.0, 0.0, 0.0, 0.0], [0.6160857081413269, 0.31376516819000244, 0.07014915347099304, 0.0, 0.0, 0.0], [0.343163400888443, 0.27584975957870483, 0.1196601614356041, 0.2613266706466675, 0.0, 0.0], [0.5908162593841553, 0.05029090866446495, 0.04166603460907936, 0.21994978189468384, 0.09727699309587479, 0.0], [0.8481417894363403, 0.06318075954914093, 0.014733638614416122, 0.05526724457740784, 0.009014974348247051, 0.00966163445264101]], [[1.0, 0.0, 0.0, 0.0, 0.0, 0.0], [0.9627320766448975, 0.03726793825626373, 0.0, 0.0, 0.0, 0.0], [0.7757524251937866, 0.1799626648426056, 0.04428498446941376, 0.0, 0.0, 0.0], [0.6317059397697449, 0.24380728602409363, 0.10925653576850891, 0.01523028314113617, 0.0, 0.0], [0.9539909958839417, 0.01818229816854, 0.011601812206208706, 0.01229910645633936, 0.00392577052116394, 0.0], [0.4035704433917999, 0.14237545430660248, 0.05661192536354065, 0.19757333397865295, 0.0929916650056839, 0.10687712579965591]], [[1.0, 0.0, 0.0, 0.0, 0.0, 0.0], [0.9802619218826294, 0.01973811723291874, 0.0, 0.0, 0.0, 0.0], [0.9873908162117004, 0.007800452411174774, 0.00480868574231863, 0.0, 0.0, 0.0], [0.9283919334411621, 0.008301219902932644, 0.013305614702403545, 0.0500011146068573, 0.0, 0.0], [0.8981052041053772, 0.015591354109346867, 0.010177597403526306, 0.03998708724975586, 0.03613870218396187, 0.0], [0.975350022315979, 0.0003543293569236994, 0.0005866012652404606, 0.0011877465294674039, 0.0010750875808298588, 0.021446354687213898]], [[1.0, 0.0, 0.0, 0.0, 0.0, 0.0], [0.9295329451560974, 0.07046709209680557, 0.0, 0.0, 0.0, 0.0], [0.9361505508422852, 0.04116690158843994, 0.022682547569274902, 0.0, 0.0, 0.0], [0.8486821055412292, 0.05802801251411438, 0.02485615387558937, 0.06843377649784088, 0.0, 0.0], [0.8661177754402161, 0.02232472412288189, 0.010369136929512024, 0.026001974940299988, 0.07518628984689713, 0.0], [0.807442307472229, 0.04438251629471779, 0.01849709264934063, 0.03357788547873497, 0.01856123097240925, 0.07753894478082657]], [[1.0, 0.0, 0.0, 0.0, 0.0, 0.0], [0.9680535197257996, 0.03194640576839447, 0.0, 0.0, 0.0, 0.0], [0.9693689942359924, 0.025684943422675133, 0.004946070723235607, 0.0, 0.0, 0.0], [0.9620568156242371, 0.022552426904439926, 0.005471321754157543, 0.00991943757981062, 0.0, 0.0], [0.9727528095245361, 0.010137123987078667, 0.0007573259063065052, 0.0028828901704400778, 0.013469826430082321, 0.0], [0.9624637365341187, 0.0031108998227864504, 0.0010007566306740046, 0.0019475880544632673, 0.008266217075288296, 0.02321082539856434]], [[1.0, 0.0, 0.0, 0.0, 0.0, 0.0], [0.8542505502700806, 0.14574944972991943, 0.0, 0.0, 0.0, 0.0], [0.9725968837738037, 0.014116310514509678, 0.013286844827234745, 0.0, 0.0, 0.0], [0.9257622957229614, 0.03257264941930771, 0.014612086117267609, 0.027053099125623703, 0.0, 0.0], [0.792343258857727, 0.02730495296418667, 0.018806645646691322, 0.13854117691516876, 0.023003915324807167, 0.0], [0.6152057647705078, 0.026655277237296104, 0.02935294434428215, 0.05590888485312462, 0.11611244082450867, 0.1567646861076355]], [[1.0, 0.0, 0.0, 0.0, 0.0, 0.0], [0.9804654121398926, 0.019534608349204063, 0.0, 0.0, 0.0, 0.0], [0.9882452487945557, 0.0075094737112522125, 0.004245333839207888, 0.0, 0.0, 0.0], [0.9584206342697144, 0.010963579639792442, 0.010456090793013573, 0.02015974558889866, 0.0, 0.0], [0.9604811668395996, 0.007182634435594082, 0.003072342136874795, 0.006898920051753521, 0.02236509881913662, 0.0], [0.966888964176178, 0.0032812876161187887, 0.005500525701791048, 0.004234071355313063, 0.005038036964833736, 0.015057153068482876]], [[1.0, 0.0, 0.0, 0.0, 0.0, 0.0], [0.9498194456100464, 0.05018056929111481, 0.0, 0.0, 0.0, 0.0], [0.9781363606452942, 0.016430014744400978, 0.0054335566237568855, 0.0, 0.0, 0.0], [0.8618696928024292, 0.03609359264373779, 0.07555550336837769, 0.02648121677339077, 0.0, 0.0], [0.5449833273887634, 0.015411170199513435, 0.023516561836004257, 0.25743651390075684, 0.1586524099111557, 0.0], [0.9571872353553772, 0.0030803862027823925, 0.001444687251932919, 0.006861570756882429, 0.014818773604929447, 0.01660725846886635]]], [[[1.0, 0.0, 0.0, 0.0, 0.0, 0.0], [0.6156558990478516, 0.38434410095214844, 0.0, 0.0, 0.0, 0.0], [0.36760637164115906, 0.4281635284423828, 0.20423008501529694, 0.0, 0.0, 0.0], [0.16471554338932037, 0.4136790931224823, 0.25092369318008423, 0.17068170011043549, 0.0, 0.0], [0.41844603419303894, 0.1524759829044342, 0.10305387526750565, 0.11071505397558212, 0.2153090536594391, 0.0], [0.19686944782733917, 0.2014620006084442, 0.12827245891094208, 0.09203250706195831, 0.09167572110891342, 0.2896878719329834]], [[1.0, 0.0, 0.0, 0.0, 0.0, 0.0], [0.9027364253997803, 0.09726354479789734, 0.0, 0.0, 0.0, 0.0], [0.9736634492874146, 0.014004308730363846, 0.012332304380834103, 0.0, 0.0, 0.0], [0.8504458069801331, 0.05690572410821915, 0.0320608876645565, 0.060587674379348755, 0.0, 0.0], [0.7661210298538208, 0.035303983837366104, 0.034330468624830246, 0.09675202518701553, 0.06749249994754791, 0.0], [0.8650374412536621, 0.020085250958800316, 0.011498045176267624, 0.018558338284492493, 0.01843029074370861, 0.06639048457145691]], [[1.0, 0.0, 0.0, 0.0, 0.0, 0.0], [0.9653082489967346, 0.03469175845384598, 0.0, 0.0, 0.0, 0.0], [0.9816323518753052, 0.014176120050251484, 0.004191520158201456, 0.0, 0.0, 0.0], [0.9275255799293518, 0.047372229397296906, 0.01152825728058815, 0.013573972508311272, 0.0, 0.0], [0.9293116331100464, 0.025833334773778915, 0.00722711905837059, 0.014300617389380932, 0.02332731895148754, 0.0], [0.8895061612129211, 0.04689623787999153, 0.004717108327895403, 0.006286590360105038, 0.006090145092457533, 0.046503737568855286]], [[1.0, 0.0, 0.0, 0.0, 0.0, 0.0], [0.8938026428222656, 0.10619734972715378, 0.0, 0.0, 0.0, 0.0], [0.8221704959869385, 0.0630449652671814, 0.11478453874588013, 0.0, 0.0, 0.0], [0.504737913608551, 0.15375745296478271, 0.2277037650346756, 0.11380090564489365, 0.0, 0.0], [0.408207505941391, 0.09066356718540192, 0.11696860939264297, 0.24553196132183075, 0.13862837851047516, 0.0], [0.7291039824485779, 0.06638889759778976, 0.023112764582037926, 0.03110308013856411, 0.057143207639455795, 0.09314805269241333]], [[1.0, 0.0, 0.0, 0.0, 0.0, 0.0], [0.9247532486915588, 0.07524667680263519, 0.0, 0.0, 0.0, 0.0], [0.8957375288009644, 0.0698956698179245, 0.03436680883169174, 0.0, 0.0, 0.0], [0.7924939393997192, 0.09601141512393951, 0.055091116577386856, 0.05640348419547081, 0.0, 0.0], [0.7891505360603333, 0.07880303263664246, 0.038401566445827484, 0.05396980792284012, 0.03967497497797012, 0.0], [0.7807857990264893, 0.07993537932634354, 0.04253169521689415, 0.0323420912027359, 0.01781693659722805, 0.046588022261857986]], [[1.0, 0.0, 0.0, 0.0, 0.0, 0.0], [0.9480886459350586, 0.051911361515522, 0.0, 0.0, 0.0, 0.0], [0.8636947274208069, 0.047562114894390106, 0.08874311298131943, 0.0, 0.0, 0.0], [0.9341371059417725, 0.022224102169275284, 0.02262447215616703, 0.021014317870140076, 0.0, 0.0], [0.9588143229484558, 0.008020913228392601, 0.00449007423594594, 0.005862290970981121, 0.022812429815530777, 0.0], [0.9385915994644165, 0.021227732300758362, 0.004872470628470182, 0.010940169915556908, 0.00952459778636694, 0.014843432232737541]], [[1.0, 0.0, 0.0, 0.0, 0.0, 0.0], [0.9763734340667725, 0.023626575246453285, 0.0, 0.0, 0.0, 0.0], [0.9884802103042603, 0.005189401097595692, 0.006330376956611872, 0.0, 0.0, 0.0], [0.9477092027664185, 0.01798512227833271, 0.01015659049153328, 0.024148991331458092, 0.0, 0.0], [0.967192530632019, 0.006552820093929768, 0.003322787582874298, 0.005563332233577967, 0.017368430271744728, 0.0], [0.9584562182426453, 0.007502950727939606, 0.005136321298778057, 0.008071633987128735, 0.005997124593704939, 0.014835822395980358]], [[1.0, 0.0, 0.0, 0.0, 0.0, 0.0], [0.8840707540512085, 0.11592917889356613, 0.0, 0.0, 0.0, 0.0], [0.993125319480896, 0.005070813000202179, 0.001803804305382073, 0.0, 0.0, 0.0], [0.9534159302711487, 0.02382904477417469, 0.007748977281153202, 0.015006083063781261, 0.0, 0.0], [0.9151288270950317, 0.010873109102249146, 0.013190994039177895, 0.011050457134842873, 0.04975670576095581, 0.0], [0.8769673109054565, 0.03385206684470177, 0.008486486040055752, 0.00996914878487587, 0.03468582034111023, 0.036039143800735474]], [[1.0, 0.0, 0.0, 0.0, 0.0, 0.0], [0.00037095232983119786, 0.999629020690918, 0.0, 0.0, 0.0, 0.0], [6.52503440505825e-05, 0.3737829029560089, 0.6261518597602844, 0.0, 0.0, 0.0], [4.606043148669414e-05, 0.2105088084936142, 0.41159671545028687, 0.37784847617149353, 0.0, 0.0], [4.753101893584244e-05, 0.11616963148117065, 0.23264296352863312, 0.39853277802467346, 0.2526070773601532, 0.0], [1.2476490383050987e-06, 0.14819712936878204, 0.15813180804252625, 0.3007434010505676, 0.1193903386592865, 0.2735360860824585]], [[1.0, 0.0, 0.0, 0.0, 0.0, 0.0], [0.971555769443512, 0.028444208204746246, 0.0, 0.0, 0.0, 0.0], [0.9529064297676086, 0.03233075514435768, 0.014762774109840393, 0.0, 0.0, 0.0], [0.9343128204345703, 0.023512959480285645, 0.020498039200901985, 0.021676229313015938, 0.0, 0.0], [0.9529678225517273, 0.008551419712603092, 0.004359327722340822, 0.008064564317464828, 0.026056963950395584, 0.0], [0.9653593897819519, 0.008487634360790253, 0.0034992769360542297, 0.002721574855968356, 0.003282879013568163, 0.016649359837174416]], [[1.0, 0.0, 0.0, 0.0, 0.0, 0.0], [0.8630780577659607, 0.1369219571352005, 0.0, 0.0, 0.0, 0.0], [0.7696154713630676, 0.08513347804546356, 0.14525099098682404, 0.0, 0.0, 0.0], [0.7133335471153259, 0.1017090231180191, 0.11931280791759491, 0.06564461439847946, 0.0, 0.0], [0.7186217904090881, 0.05444299057126045, 0.013868164271116257, 0.07808036357164383, 0.13498666882514954, 0.0], [0.7990153431892395, 0.05805588886141777, 0.009446998126804829, 0.017770439386367798, 0.021138519048690796, 0.09457285702228546]], [[1.0, 0.0, 0.0, 0.0, 0.0, 0.0], [0.9518987536430359, 0.048101164400577545, 0.0, 0.0, 0.0, 0.0], [0.858065128326416, 0.029445793479681015, 0.1124889999628067, 0.0, 0.0, 0.0], [0.6577739715576172, 0.08513444662094116, 0.12613075971603394, 0.13096076250076294, 0.0, 0.0], [0.8087368011474609, 0.03230167180299759, 0.018418176099658012, 0.06856147944927216, 0.07198195159435272, 0.0], [0.6683297753334045, 0.13281387090682983, 0.021880609914660454, 0.027877431362867355, 0.0492340512573719, 0.09986425191164017]]]], \"left_text\": [\"No\", \",\", \" I\", \" am\", \" your\", \" father\"], \"right_text\": [\"No\", \",\", \" I\", \" am\", \" your\", \" father\"]}], \"default_filter\": \"0\", \"display_mode\": \"dark\", \"root_div_id\": \"bertviz-02b3e196663447f29febaa8f9ac1b7cb\", \"include_layers\": [0, 1, 2, 3, 4, 5, 6, 7, 8, 9, 10, 11], \"include_heads\": [0, 1, 2, 3, 4, 5, 6, 7, 8, 9, 10, 11], \"total_heads\": 12}; // HACK: {\"attention\": [{\"name\": null, \"attn\": [[[[1.0, 0.0, 0.0, 0.0, 0.0, 0.0], [0.961219847202301, 0.038780149072408676, 0.0, 0.0, 0.0, 0.0], [0.7466979026794434, 0.11987313628196716, 0.1334289014339447, 0.0, 0.0, 0.0], [0.5885030031204224, 0.13792075216770172, 0.21213726699352264, 0.061438970267772675, 0.0, 0.0], [0.6570857763290405, 0.08996304124593735, 0.1275128275156021, 0.08361561596393585, 0.04182283207774162, 0.0], [0.272887259721756, 0.11203357577323914, 0.16639848053455353, 0.08467116206884384, 0.16952726244926453, 0.1944822371006012]], [[1.0, 0.0, 0.0, 0.0, 0.0, 0.0], [0.010616553016006947, 0.9893833994865417, 0.0, 0.0, 0.0, 0.0], [0.002467755926772952, 0.008448007516562939, 0.9890841841697693, 0.0, 0.0, 0.0], [0.00012328448065090925, 0.0018733146134763956, 0.013126945123076439, 0.9848763942718506, 0.0, 0.0], [0.0010669530602172017, 0.0011366248363628983, 0.0030349851585924625, 0.0015735035995021462, 0.9931879043579102, 0.0], [0.00019792020611930639, 0.0010528132552281022, 0.0015437372494488955, 0.0009642765508033335, 3.4924432839034125e-05, 0.9962062835693359]], [[1.0, 0.0, 0.0, 0.0, 0.0, 0.0], [0.47578439116477966, 0.5242156386375427, 0.0, 0.0, 0.0, 0.0], [0.5906045436859131, 0.248661071062088, 0.1607343703508377, 0.0, 0.0, 0.0], [0.5529289841651917, 0.18856702744960785, 0.14457568526268005, 0.11392828822135925, 0.0, 0.0], [0.4509408473968506, 0.16486787796020508, 0.17318038642406464, 0.11748015135526657, 0.0935308039188385, 0.0], [0.425724595785141, 0.17328645288944244, 0.15651950240135193, 0.07022645324468613, 0.08087008446455002, 0.09337276965379715]], [[1.0, 0.0, 0.0, 0.0, 0.0, 0.0], [0.6133622527122498, 0.38663774728775024, 0.0, 0.0, 0.0, 0.0], [0.06098509207367897, 0.03253461420536041, 0.9064803123474121, 0.0, 0.0, 0.0], [0.0067170788533985615, 0.00040128850378096104, 0.7572957873344421, 0.2355857938528061, 0.0, 0.0], [0.03722767531871796, 0.002948855748400092, 0.10081081837415695, 0.04142269492149353, 0.8175899982452393, 0.0], [0.04989771544933319, 0.0003075825225096196, 0.0024198247119784355, 0.003433493198826909, 0.0006823895964771509, 0.9432590007781982]], [[1.0, 0.0, 0.0, 0.0, 0.0, 0.0], [0.9489555954933167, 0.051044415682554245, 0.0, 0.0, 0.0, 0.0], [0.6821410059928894, 0.13952408730983734, 0.17833489179611206, 0.0, 0.0, 0.0], [0.20366333425045013, 0.05641487240791321, 0.06399296224117279, 0.6759288311004639, 0.0, 0.0], [0.34195476770401, 0.067254438996315, 0.0792618989944458, 0.1783618927001953, 0.33316701650619507, 0.0], [0.09464019536972046, 0.007428212556988001, 0.006983972620218992, 0.0071843755431473255, 0.01872425712645054, 0.8650389313697815]], [[1.0, 0.0, 0.0, 0.0, 0.0, 0.0], [0.33834606409072876, 0.6616539359092712, 0.0, 0.0, 0.0, 0.0], [0.07855986058712006, 0.006165452301502228, 0.9152746796607971, 0.0, 0.0, 0.0], [0.016775935888290405, 0.00040376963443122804, 0.0033404543064534664, 0.9794798493385315, 0.0, 0.0], [0.02760043926537037, 0.0004441527707967907, 0.0006541683105751872, 0.0002266185765620321, 0.971074640750885, 0.0], [0.010248193517327309, 3.701560490299016e-05, 0.00016064071678556502, 2.7341899112798274e-05, 1.0187313819187693e-05, 0.98951655626297]], [[1.0, 0.0, 0.0, 0.0, 0.0, 0.0], [0.982503354549408, 0.017496665939688683, 0.0, 0.0, 0.0, 0.0], [0.8874197006225586, 0.05467936769127846, 0.05790088325738907, 0.0, 0.0, 0.0], [0.6849910616874695, 0.12280683219432831, 0.04972026124596596, 0.14248184859752655, 0.0, 0.0], [0.601585328578949, 0.09881890565156937, 0.07070112973451614, 0.16652549803256989, 0.06236904487013817, 0.0], [0.32325059175491333, 0.12567417323589325, 0.044321779161691666, 0.07076981663703918, 0.06606655567884445, 0.36991721391677856]], [[1.0, 0.0, 0.0, 0.0, 0.0, 0.0], [0.9191647171974182, 0.08083529025316238, 0.0, 0.0, 0.0, 0.0], [0.45986413955688477, 0.39703115820884705, 0.14310477674007416, 0.0, 0.0, 0.0], [0.3003872036933899, 0.22181737422943115, 0.38161522150039673, 0.09618017077445984, 0.0, 0.0], [0.18963928520679474, 0.13763727247714996, 0.20173485577106476, 0.23632171750068665, 0.2346668690443039, 0.0], [0.1541045904159546, 0.09489500522613525, 0.1190255656838417, 0.10277963429689407, 0.43172192573547363, 0.09747321903705597]], [[1.0, 0.0, 0.0, 0.0, 0.0, 0.0], [0.3649998605251312, 0.6350001692771912, 0.0, 0.0, 0.0, 0.0], [0.24595212936401367, 0.5519201159477234, 0.20212773978710175, 0.0, 0.0, 0.0], [0.27213576436042786, 0.4073863625526428, 0.25186222791671753, 0.06861572712659836, 0.0, 0.0], [0.10242544114589691, 0.16683603823184967, 0.5248052477836609, 0.05445460230112076, 0.15147864818572998, 0.0], [0.2502950131893158, 0.22198130190372467, 0.18899977207183838, 0.10677114874124527, 0.1303267925977707, 0.10162603855133057]], [[1.0, 0.0, 0.0, 0.0, 0.0, 0.0], [0.6990506052970886, 0.30094942450523376, 0.0, 0.0, 0.0, 0.0], [0.5107942223548889, 0.2948642671108246, 0.1943415254354477, 0.0, 0.0, 0.0], [0.4604707360267639, 0.28051915764808655, 0.19174796342849731, 0.06726216524839401, 0.0, 0.0], [0.3764842450618744, 0.21120664477348328, 0.20214535295963287, 0.10207020491361618, 0.10809355974197388, 0.0], [0.30138447880744934, 0.20456182956695557, 0.18250328302383423, 0.11019382625818253, 0.16291272640228271, 0.03844383731484413]], [[1.0, 0.0, 0.0, 0.0, 0.0, 0.0], [0.713158130645752, 0.28684186935424805, 0.0, 0.0, 0.0, 0.0], [0.4058799147605896, 0.18063297867774963, 0.41348710656166077, 0.0, 0.0, 0.0], [0.26554611325263977, 0.16985860466957092, 0.3358592987060547, 0.22873595356941223, 0.0, 0.0], [0.3138541281223297, 0.1831669807434082, 0.14928357303142548, 0.05377669632434845, 0.29991865158081055, 0.0], [0.20466555655002594, 0.18731118738651276, 0.15959151089191437, 0.06381773203611374, 0.036423053592443466, 0.3481909930706024]], [[1.0, 0.0, 0.0, 0.0, 0.0, 0.0], [0.6586242318153381, 0.34137579798698425, 0.0, 0.0, 0.0, 0.0], [0.5917777419090271, 0.3160035312175751, 0.09221875667572021, 0.0, 0.0, 0.0], [0.5477152466773987, 0.23586949706077576, 0.061456020921468735, 0.15495926141738892, 0.0, 0.0], [0.4587061107158661, 0.22439998388290405, 0.07887423783540726, 0.0992034375667572, 0.13881632685661316, 0.0], [0.32743728160858154, 0.19600822031497955, 0.06805707514286041, 0.08925104886293411, 0.11618076264858246, 0.20306557416915894]]], [[[1.0, 0.0, 0.0, 0.0, 0.0, 0.0], [0.9961552023887634, 0.003844835329800844, 0.0, 0.0, 0.0, 0.0], [0.8594854474067688, 0.06906110048294067, 0.07145346701145172, 0.0, 0.0, 0.0], [0.38000521063804626, 0.041275616735219955, 0.54966139793396, 0.029057756066322327, 0.0, 0.0], [0.21445204317569733, 0.050887398421764374, 0.4317443072795868, 0.2586929202079773, 0.0442233681678772, 0.0], [0.11175268143415451, 0.01759307272732258, 0.02750745601952076, 0.040867745876312256, 0.775466799736023, 0.02681219018995762]], [[1.0, 0.0, 0.0, 0.0, 0.0, 0.0], [0.9285967946052551, 0.07140323519706726, 0.0, 0.0, 0.0, 0.0], [0.6077286005020142, 0.31214281916618347, 0.08012861013412476, 0.0, 0.0, 0.0], [0.49429091811180115, 0.28503698110580444, 0.11849319934844971, 0.10217894613742828, 0.0, 0.0], [0.4183879792690277, 0.23117893934249878, 0.08340618014335632, 0.11365946382284164, 0.15336738526821136, 0.0], [0.4221586287021637, 0.1291714459657669, 0.08740925043821335, 0.10163747519254684, 0.21230269968509674, 0.04732051491737366]], [[1.0, 0.0, 0.0, 0.0, 0.0, 0.0], [0.9786475896835327, 0.021352354437112808, 0.0, 0.0, 0.0, 0.0], [0.7749121189117432, 0.0651036873459816, 0.15998421609401703, 0.0, 0.0, 0.0], [0.6484924554824829, 0.07483132183551788, 0.14751607179641724, 0.12916018068790436, 0.0, 0.0], [0.5224636793136597, 0.06921812891960144, 0.13823413848876953, 0.11106584966182709, 0.15901818871498108, 0.0], [0.3964516520500183, 0.0732581615447998, 0.12938155233860016, 0.1064242273569107, 0.14864005148410797, 0.14584431052207947]], [[1.0, 0.0, 0.0, 0.0, 0.0, 0.0], [0.5525904297828674, 0.4474095404148102, 0.0, 0.0, 0.0, 0.0], [0.5585010647773743, 0.2176259309053421, 0.22387303411960602, 0.0, 0.0, 0.0], [0.5143128633499146, 0.15964676439762115, 0.15491963922977448, 0.1711207628250122, 0.0, 0.0], [0.5039963722229004, 0.11401880532503128, 0.11974018812179565, 0.1255258023738861, 0.13671886920928955, 0.0], [0.5061841607093811, 0.08567393571138382, 0.0890301764011383, 0.09759817272424698, 0.10275731980800629, 0.11875619739294052]], [[1.0, 0.0, 0.0, 0.0, 0.0, 0.0], [0.9242545366287231, 0.07574545592069626, 0.0, 0.0, 0.0, 0.0], [0.8257424235343933, 0.07932537794113159, 0.09493223577737808, 0.0, 0.0, 0.0], [0.7306379675865173, 0.08571833372116089, 0.08043934404850006, 0.10320435464382172, 0.0, 0.0], [0.638323962688446, 0.07886383682489395, 0.07815027981996536, 0.08758095651865005, 0.11708095669746399, 0.0], [0.5552157163619995, 0.07409119606018066, 0.06834889203310013, 0.07778601348400116, 0.0999932661652565, 0.12456496059894562]], [[1.0, 0.0, 0.0, 0.0, 0.0, 0.0], [0.8578913807868958, 0.14210854470729828, 0.0, 0.0, 0.0, 0.0], [0.6423035264015198, 0.1662902534008026, 0.19140619039535522, 0.0, 0.0, 0.0], [0.5530979037284851, 0.10609278082847595, 0.0782126635313034, 0.26259666681289673, 0.0, 0.0], [0.40121686458587646, 0.12223605066537857, 0.19347333908081055, 0.14164625108242035, 0.14142750203609467, 0.0], [0.4021257758140564, 0.1845075935125351, 0.07516810297966003, 0.05849039554595947, 0.14446337521076202, 0.13524474203586578]], [[1.0, 0.0, 0.0, 0.0, 0.0, 0.0], [0.9791558980941772, 0.020844031125307083, 0.0, 0.0, 0.0, 0.0], [0.8829841613769531, 0.062332455068826675, 0.05468333512544632, 0.0, 0.0, 0.0], [0.8105453848838806, 0.08617088943719864, 0.07321780174970627, 0.030065881088376045, 0.0, 0.0], [0.6819811463356018, 0.049908190965652466, 0.08296553790569305, 0.08369530737400055, 0.1014498919248581, 0.0], [0.405668705701828, 0.07337663322687149, 0.08601406961679459, 0.06170937046408653, 0.13226447999477386, 0.240966796875]], [[1.0, 0.0, 0.0, 0.0, 0.0, 0.0], [0.9670192003250122, 0.03298087790608406, 0.0, 0.0, 0.0, 0.0], [0.8449064493179321, 0.0851450264453888, 0.06994849443435669, 0.0, 0.0, 0.0], [0.7123572826385498, 0.07896047085523605, 0.05541074275970459, 0.15327152609825134, 0.0, 0.0], [0.6402611136436462, 0.073975570499897, 0.04439307004213333, 0.14322128891944885, 0.09814883768558502, 0.0], [0.5073902606964111, 0.07523061335086823, 0.07754652947187424, 0.11362481862306595, 0.13947957754135132, 0.08672824501991272]], [[1.0, 0.0, 0.0, 0.0, 0.0, 0.0], [0.8487569689750671, 0.15124304592609406, 0.0, 0.0, 0.0, 0.0], [0.8415648937225342, 0.12107229232788086, 0.03736274689435959, 0.0, 0.0, 0.0], [0.7505518198013306, 0.11348948627710342, 0.06179961562156677, 0.07415907829999924, 0.0, 0.0], [0.6614715456962585, 0.10242653638124466, 0.052934300154447556, 0.07529725879430771, 0.10787040740251541, 0.0], [0.6014202833175659, 0.11340392380952835, 0.056319281458854675, 0.07096721976995468, 0.10906264930963516, 0.04882660135626793]], [[1.0, 0.0, 0.0, 0.0, 0.0, 0.0], [0.944548487663269, 0.055451489984989166, 0.0, 0.0, 0.0, 0.0], [0.8874567747116089, 0.054742150008678436, 0.057801079005002975, 0.0, 0.0, 0.0], [0.8281888961791992, 0.06894998252391815, 0.05903468281030655, 0.043826378881931305, 0.0, 0.0], [0.642989456653595, 0.06747538596391678, 0.11629711091518402, 0.054179463535547256, 0.11905860900878906, 0.0], [0.7367823719978333, 0.05611896142363548, 0.06857290118932724, 0.03421955928206444, 0.07875378429889679, 0.025552401319146156]], [[1.0, 0.0, 0.0, 0.0, 0.0, 0.0], [0.0002913392090704292, 0.9997085928916931, 0.0, 0.0, 0.0, 0.0], [0.0007981209782883525, 0.5288336873054504, 0.4703682065010071, 0.0, 0.0, 0.0], [0.0007648469763807952, 0.34519827365875244, 0.30852675437927246, 0.3455101251602173, 0.0, 0.0], [0.0010283160954713821, 0.24135908484458923, 0.23320148885250092, 0.2555713951587677, 0.26883968710899353, 0.0], [0.0009746801224537194, 0.1778968870639801, 0.16743157804012299, 0.1858760416507721, 0.18734434247016907, 0.2804764211177826]], [[1.0, 0.0, 0.0, 0.0, 0.0, 0.0], [0.824492871761322, 0.17550711333751678, 0.0, 0.0, 0.0, 0.0], [0.12386846542358398, 0.04449981078505516, 0.8316317796707153, 0.0, 0.0, 0.0], [0.07924346625804901, 0.012965884059667587, 0.0015277144266292453, 0.9062629342079163, 0.0, 0.0], [0.08806424587965012, 0.021341096609830856, 0.0028886212967336178, 0.0028453862760215998, 0.884860634803772, 0.0], [0.09983223676681519, 0.03363394737243652, 0.0054999953135848045, 0.0024330506566911936, 0.0015082453610375524, 0.8570924997329712]]], [[[1.0, 0.0, 0.0, 0.0, 0.0, 0.0], [0.9646892547607422, 0.03531075641512871, 0.0, 0.0, 0.0, 0.0], [0.7529155015945435, 0.08733495324850082, 0.1597495675086975, 0.0, 0.0, 0.0], [0.42022883892059326, 0.0919511467218399, 0.23549814522266388, 0.25232186913490295, 0.0, 0.0], [0.3084897994995117, 0.059081483632326126, 0.38391271233558655, 0.15659141540527344, 0.09192456305027008, 0.0], [0.4479042589664459, 0.043293118476867676, 0.07969176769256592, 0.11081928014755249, 0.2212459295988083, 0.09704577177762985]], [[1.0, 0.0, 0.0, 0.0, 0.0, 0.0], [0.991096019744873, 0.008904009126126766, 0.0, 0.0, 0.0, 0.0], [0.9697675704956055, 0.02608446590602398, 0.004147919360548258, 0.0, 0.0, 0.0], [0.9082902073860168, 0.03320597484707832, 0.009421163238584995, 0.049082644283771515, 0.0, 0.0], [0.894913911819458, 0.0554453544318676, 0.005577594041824341, 0.0315067432820797, 0.012556524015963078, 0.0], [0.8497739434242249, 0.028890080749988556, 0.0036647969391196966, 0.03751986846327782, 0.038427915424108505, 0.04172342270612717]], [[1.0, 0.0, 0.0, 0.0, 0.0, 0.0], [0.9984525442123413, 0.001547450665384531, 0.0, 0.0, 0.0, 0.0], [0.4894770681858063, 0.48122069239616394, 0.029302235692739487, 0.0, 0.0, 0.0], [0.11772175878286362, 0.13121238350868225, 0.6702308654785156, 0.0808350145816803, 0.0, 0.0], [0.1304374784231186, 0.040686968713998795, 0.26520395278930664, 0.41143494844436646, 0.152236670255661, 0.0], [0.12661880254745483, 0.03275134041905403, 0.03567878156900406, 0.06039182096719742, 0.6021819710731506, 0.14237730205059052]], [[1.0, 0.0, 0.0, 0.0, 0.0, 0.0], [0.9805176854133606, 0.01948232762515545, 0.0, 0.0, 0.0, 0.0], [0.7948846220970154, 0.12061937153339386, 0.08449599891901016, 0.0, 0.0, 0.0], [0.5612356662750244, 0.1574317067861557, 0.20339688658714294, 0.07793568819761276, 0.0, 0.0], [0.4258381128311157, 0.10742028802633286, 0.15123653411865234, 0.08755000680685043, 0.22795502841472626, 0.0], [0.247526153922081, 0.024188296869397163, 0.03039521723985672, 0.08586956560611725, 0.5714338421821594, 0.04058681055903435]], [[1.0, 0.0, 0.0, 0.0, 0.0, 0.0], [0.9887767434120178, 0.011223209090530872, 0.0, 0.0, 0.0, 0.0], [0.7572687864303589, 0.22317403554916382, 0.019557084888219833, 0.0, 0.0, 0.0], [0.5341885089874268, 0.2210759073495865, 0.17621777951717377, 0.06851774454116821, 0.0, 0.0], [0.17095331847667694, 0.08229430764913559, 0.5760213136672974, 0.11097609996795654, 0.05975491553544998, 0.0], [0.24871070683002472, 0.08880821615457535, 0.08980180323123932, 0.0972934141755104, 0.4413094222545624, 0.034076470881700516]], [[1.0, 0.0, 0.0, 0.0, 0.0, 0.0], [0.84221351146698, 0.1577865034341812, 0.0, 0.0, 0.0, 0.0], [0.46841248869895935, 0.4610539972782135, 0.07053354382514954, 0.0, 0.0, 0.0], [0.25881415605545044, 0.46358922123908997, 0.18503476679325104, 0.09256186336278915, 0.0, 0.0], [0.1839958280324936, 0.291542112827301, 0.17031070590019226, 0.27172964811325073, 0.08242157846689224, 0.0], [0.1646985411643982, 0.2472696155309677, 0.08770553767681122, 0.22575010359287262, 0.17745362222194672, 0.09712257236242294]], [[1.0, 0.0, 0.0, 0.0, 0.0, 0.0], [0.9919946193695068, 0.008005402982234955, 0.0, 0.0, 0.0, 0.0], [0.9068724513053894, 0.044065143913030624, 0.04906244948506355, 0.0, 0.0, 0.0], [0.8582223653793335, 0.05534830689430237, 0.040419358760118484, 0.04601002484560013, 0.0, 0.0], [0.7855252027511597, 0.04124242439866066, 0.08369283378124237, 0.04887618124485016, 0.04066329449415207, 0.0], [0.7856318950653076, 0.050146445631980896, 0.047512661665678024, 0.027365926653146744, 0.056147489696741104, 0.03319565951824188]], [[1.0, 0.0, 0.0, 0.0, 0.0, 0.0], [0.9041035175323486, 0.09589648246765137, 0.0, 0.0, 0.0, 0.0], [0.5862313508987427, 0.07199835777282715, 0.34177035093307495, 0.0, 0.0, 0.0], [0.3878961205482483, 0.046608034521341324, 0.2027897834777832, 0.3627060353755951, 0.0, 0.0], [0.26652422547340393, 0.024533025920391083, 0.12211917340755463, 0.20041218400001526, 0.38641130924224854, 0.0], [0.23357410728931427, 0.020537324249744415, 0.09610319882631302, 0.13062264025211334, 0.22990496456623077, 0.2892577648162842]], [[1.0, 0.0, 0.0, 0.0, 0.0, 0.0], [0.9639912247657776, 0.036008838564157486, 0.0, 0.0, 0.0, 0.0], [0.7075548768043518, 0.2542780935764313, 0.038167089223861694, 0.0, 0.0, 0.0], [0.2566530108451843, 0.20589324831962585, 0.016656609252095222, 0.5207971334457397, 0.0, 0.0], [0.10379397869110107, 0.046390969306230545, 0.008698618039488792, 0.7866848111152649, 0.05443158000707626, 0.0], [0.22143350541591644, 0.0337974838912487, 0.029023949056863785, 0.5412923693656921, 0.1528611183166504, 0.02159162238240242]], [[1.0, 0.0, 0.0, 0.0, 0.0, 0.0], [0.9891703724861145, 0.010829650796949863, 0.0, 0.0, 0.0, 0.0], [0.7913152575492859, 0.12309656292200089, 0.08558818697929382, 0.0, 0.0, 0.0], [0.2954605221748352, 0.15808317065238953, 0.4217236042022705, 0.12473278492689133, 0.0, 0.0], [0.23441055417060852, 0.09886537492275238, 0.3316013813018799, 0.19713933765888214, 0.1379832923412323, 0.0], [0.19728364050388336, 0.05741839483380318, 0.06909026205539703, 0.16469842195510864, 0.27972766757011414, 0.23178154230117798]], [[1.0, 0.0, 0.0, 0.0, 0.0, 0.0], [0.9359127879142761, 0.06408718228340149, 0.0, 0.0, 0.0, 0.0], [0.7888628840446472, 0.08673476427793503, 0.12440235167741776, 0.0, 0.0, 0.0], [0.6535120010375977, 0.07573550939559937, 0.0973256453871727, 0.17342688143253326, 0.0, 0.0], [0.5222766995429993, 0.05827884376049042, 0.09920474141836166, 0.1702084094285965, 0.15003138780593872, 0.0], [0.4108838438987732, 0.047306086868047714, 0.07265675067901611, 0.10560750961303711, 0.10550015419721603, 0.25804567337036133]], [[1.0, 0.0, 0.0, 0.0, 0.0, 0.0], [0.9683833122253418, 0.0316167026758194, 0.0, 0.0, 0.0, 0.0], [0.896539568901062, 0.038870617747306824, 0.06458979845046997, 0.0, 0.0, 0.0], [0.8264952898025513, 0.03213466331362724, 0.051967162638902664, 0.089402936398983, 0.0, 0.0], [0.7718174457550049, 0.03040287271142006, 0.04582739993929863, 0.07118470221757889, 0.08076760917901993, 0.0], [0.7292330265045166, 0.021699870005249977, 0.033074751496315, 0.047200947999954224, 0.06474561244249344, 0.10404577851295471]]], [[[1.0, 0.0, 0.0, 0.0, 0.0, 0.0], [0.9979567527770996, 0.00204328796826303, 0.0, 0.0, 0.0, 0.0], [0.9552939534187317, 0.008025347255170345, 0.0366806760430336, 0.0, 0.0, 0.0], [0.9254711270332336, 0.0027555807027965784, 0.0020629854407161474, 0.06971034407615662, 0.0, 0.0], [0.8660573363304138, 0.0038883774541318417, 0.0006785991718061268, 0.0006981469923630357, 0.12867754697799683, 0.0], [0.8455931544303894, 0.003780404571443796, 0.0002534229133743793, 6.027047857060097e-05, 0.00011820707004517317, 0.1501944661140442]], [[1.0, 0.0, 0.0, 0.0, 0.0, 0.0], [0.9262452721595764, 0.0737547054886818, 0.0, 0.0, 0.0, 0.0], [0.771714448928833, 0.16242049634456635, 0.06586501747369766, 0.0, 0.0, 0.0], [0.8167632818222046, 0.0780719667673111, 0.06324046850204468, 0.0419243760406971, 0.0, 0.0], [0.6867174506187439, 0.07755203545093536, 0.10056933015584946, 0.05955098941922188, 0.0756102204322815, 0.0], [0.642116129398346, 0.11014923453330994, 0.07688189297914505, 0.05403328314423561, 0.1033363863825798, 0.013483120128512383]], [[1.0, 0.0, 0.0, 0.0, 0.0, 0.0], [0.9395954608917236, 0.06040447950363159, 0.0, 0.0, 0.0, 0.0], [0.23004506528377533, 0.6617387533187866, 0.10821617394685745, 0.0, 0.0, 0.0], [0.267022043466568, 0.3607955873012543, 0.3249627649784088, 0.047219596803188324, 0.0, 0.0], [0.5952025651931763, 0.12269236147403717, 0.06302028149366379, 0.0891677662730217, 0.1299169361591339, 0.0], [0.10284547507762909, 0.02938002720475197, 0.013738987036049366, 0.045860305428504944, 0.7698510885238647, 0.03832415118813515]], [[1.0, 0.0, 0.0, 0.0, 0.0, 0.0], [0.9040982723236084, 0.09590169787406921, 0.0, 0.0, 0.0, 0.0], [0.35723644495010376, 0.6274626851081848, 0.015300874598324299, 0.0, 0.0, 0.0], [0.591799795627594, 0.2764042615890503, 0.10476015508174896, 0.02703583426773548, 0.0, 0.0], [0.7254428267478943, 0.049830976873636246, 0.014982663094997406, 0.17781300842761993, 0.0319305956363678, 0.0], [0.7612771987915039, 0.06158892810344696, 0.005942140240222216, 0.0164266899228096, 0.12677925825119019, 0.027985796332359314]], [[1.0, 0.0, 0.0, 0.0, 0.0, 0.0], [0.9947587847709656, 0.005241230130195618, 0.0, 0.0, 0.0, 0.0], [0.963241457939148, 0.017816437408328056, 0.018942013382911682, 0.0, 0.0, 0.0], [0.9671077132225037, 0.00850959774106741, 0.008562230505049229, 0.01582047902047634, 0.0, 0.0], [0.9340998530387878, 0.01195238996297121, 0.02018016390502453, 0.02675076574087143, 0.007016898598521948, 0.0], [0.9587239027023315, 0.004657103214412928, 0.0033267743419855833, 0.006545271724462509, 0.010182424448430538, 0.0165645033121109]], [[1.0, 0.0, 0.0, 0.0, 0.0, 0.0], [0.9769991040229797, 0.02300093322992325, 0.0, 0.0, 0.0, 0.0], [0.7917603850364685, 0.17533251643180847, 0.03290712460875511, 0.0, 0.0, 0.0], [0.7949194312095642, 0.10531839728355408, 0.04021846503019333, 0.05954372510313988, 0.0, 0.0], [0.7097727060317993, 0.10552525520324707, 0.0659753605723381, 0.0576557032763958, 0.061070844531059265, 0.0], [0.7506603002548218, 0.026514455676078796, 0.021576007828116417, 0.03429664671421051, 0.08494452387094498, 0.08200806379318237]], [[1.0, 0.0, 0.0, 0.0, 0.0, 0.0], [0.9837515950202942, 0.016248395666480064, 0.0, 0.0, 0.0, 0.0], [0.5615492463111877, 0.08956854790449142, 0.3488822281360626, 0.0, 0.0, 0.0], [0.329291433095932, 0.024114886298775673, 0.5428049564361572, 0.10378872603178024, 0.0, 0.0], [0.343303382396698, 0.01308642327785492, 0.5121965408325195, 0.11146274954080582, 0.01995095983147621, 0.0], [0.4792810082435608, 0.017333555966615677, 0.11805301159620285, 0.06130288541316986, 0.20071962475776672, 0.12330992519855499]], [[1.0, 0.0, 0.0, 0.0, 0.0, 0.0], [0.9908847212791443, 0.009115329943597317, 0.0, 0.0, 0.0, 0.0], [0.5282691717147827, 0.3292273283004761, 0.1425034999847412, 0.0, 0.0, 0.0], [0.48788613080978394, 0.2336861491203308, 0.17578043043613434, 0.10264717042446136, 0.0, 0.0], [0.3144491910934448, 0.18065091967582703, 0.1687134951353073, 0.09506578743457794, 0.24112047255039215, 0.0], [0.5168766975402832, 0.03589700534939766, 0.02618802897632122, 0.04039722681045532, 0.18791724741458893, 0.19272375106811523]], [[1.0, 0.0, 0.0, 0.0, 0.0, 0.0], [0.8750306367874146, 0.12496941536664963, 0.0, 0.0, 0.0, 0.0], [0.45506176352500916, 0.4900422692298889, 0.054895948618650436, 0.0, 0.0, 0.0], [0.2933717370033264, 0.5449903607368469, 0.094443179666996, 0.06719467043876648, 0.0, 0.0], [0.4897089898586273, 0.27209895849227905, 0.06861945241689682, 0.14694863557815552, 0.022624000906944275, 0.0], [0.4729079604148865, 0.0810307189822197, 0.016052095219492912, 0.3067219853401184, 0.10120696574449539, 0.022080253809690475]], [[1.0, 0.0, 0.0, 0.0, 0.0, 0.0], [0.963021993637085, 0.036978039890527725, 0.0, 0.0, 0.0, 0.0], [0.7557183504104614, 0.16436469554901123, 0.0799170508980751, 0.0, 0.0, 0.0], [0.6947703957557678, 0.08409865200519562, 0.06382595002651215, 0.15730495750904083, 0.0, 0.0], [0.5821163654327393, 0.03297789394855499, 0.07936549931764603, 0.19441358745098114, 0.11112666875123978, 0.0], [0.5974531769752502, 0.04261104017496109, 0.0691971704363823, 0.14563491940498352, 0.12481778860092163, 0.020285896956920624]], [[1.0, 0.0, 0.0, 0.0, 0.0, 0.0], [0.9957821369171143, 0.004217822104692459, 0.0, 0.0, 0.0, 0.0], [0.9312829971313477, 0.01056026853621006, 0.05815673619508743, 0.0, 0.0, 0.0], [0.843532383441925, 0.01569501869380474, 0.04575123265385628, 0.0950213298201561, 0.0, 0.0], [0.772409975528717, 0.011981210671365261, 0.03504602983593941, 0.03876766189932823, 0.14179496467113495, 0.0], [0.7642903923988342, 0.009868811815977097, 0.008122761733829975, 0.013314392417669296, 0.048244111239910126, 0.15615953505039215]], [[1.0, 0.0, 0.0, 0.0, 0.0, 0.0], [0.9701175093650818, 0.029882505536079407, 0.0, 0.0, 0.0, 0.0], [0.6563993692398071, 0.22506245970726013, 0.11853815615177155, 0.0, 0.0, 0.0], [0.6958049535751343, 0.14701922237873077, 0.07145991176366806, 0.08571591973304749, 0.0, 0.0], [0.6353276371955872, 0.13460658490657806, 0.03099420852959156, 0.056916385889053345, 0.14215518534183502, 0.0], [0.6779400706291199, 0.05365418270230293, 0.01800628937780857, 0.06284527480602264, 0.11038205772638321, 0.0771721750497818]]], [[[1.0, 0.0, 0.0, 0.0, 0.0, 0.0], [0.9822334051132202, 0.017766665667295456, 0.0, 0.0, 0.0, 0.0], [0.9037665128707886, 0.065415158867836, 0.030818354338407516, 0.0, 0.0, 0.0], [0.8119191527366638, 0.03679022192955017, 0.060560934245586395, 0.09072975069284439, 0.0, 0.0], [0.4054649770259857, 0.10383883118629456, 0.10211241990327835, 0.3543415367603302, 0.03424226492643356, 0.0], [0.22824536263942719, 0.017278620973229408, 0.050554510205984116, 0.601572573184967, 0.09411750733852386, 0.008231481537222862]], [[1.0, 0.0, 0.0, 0.0, 0.0, 0.0], [0.9873148202896118, 0.012685130350291729, 0.0, 0.0, 0.0, 0.0], [0.35445839166641235, 0.5317592024803162, 0.1137823611497879, 0.0, 0.0, 0.0], [0.07823347300291061, 0.7221357822418213, 0.10936644673347473, 0.09026430547237396, 0.0, 0.0], [0.2196812778711319, 0.4048420488834381, 0.12358086556196213, 0.2001877874135971, 0.05170813947916031, 0.0], [0.3608981668949127, 0.10459020733833313, 0.06983822584152222, 0.29764774441719055, 0.13869886100292206, 0.028326814994215965]], [[1.0, 0.0, 0.0, 0.0, 0.0, 0.0], [0.9732162356376648, 0.026783764362335205, 0.0, 0.0, 0.0, 0.0], [0.9167554974555969, 0.06145259737968445, 0.021791869774460793, 0.0, 0.0, 0.0], [0.8543078899383545, 0.08049607276916504, 0.0303349606692791, 0.03486098721623421, 0.0, 0.0], [0.8919220566749573, 0.042807601392269135, 0.022044960409402847, 0.0234705600887537, 0.019754884764552116, 0.0], [0.811677098274231, 0.03413517028093338, 0.03567648306488991, 0.04748572036623955, 0.02539709024131298, 0.0456283800303936]], [[1.0, 0.0, 0.0, 0.0, 0.0, 0.0], [0.9502761363983154, 0.04972388222813606, 0.0, 0.0, 0.0, 0.0], [0.7637449502944946, 0.20073655247688293, 0.03551853075623512, 0.0, 0.0, 0.0], [0.6279082298278809, 0.03768140822649002, 0.199454665184021, 0.13495564460754395, 0.0, 0.0], [0.6397072672843933, 0.02700725570321083, 0.09082002192735672, 0.20653757452964783, 0.035927847027778625, 0.0], [0.4559422433376312, 0.021641207858920097, 0.12939605116844177, 0.21800902485847473, 0.10379832237958908, 0.07121314853429794]], [[1.0, 0.0, 0.0, 0.0, 0.0, 0.0], [0.9498406648635864, 0.05015937238931656, 0.0, 0.0, 0.0, 0.0], [0.8688725233078003, 0.08722186833620071, 0.04390569031238556, 0.0, 0.0, 0.0], [0.6937955021858215, 0.06359205394983292, 0.09179048240184784, 0.15082195401191711, 0.0, 0.0], [0.7266594767570496, 0.04389890283346176, 0.04683978855609894, 0.0985179916024208, 0.08408377319574356, 0.0], [0.7848992347717285, 0.03714786097407341, 0.012907834723591805, 0.010539373382925987, 0.12079215049743652, 0.033713553100824356]], [[1.0, 0.0, 0.0, 0.0, 0.0, 0.0], [0.9891054034233093, 0.010894596576690674, 0.0, 0.0, 0.0, 0.0], [0.8929513096809387, 0.0870010107755661, 0.020047670230269432, 0.0, 0.0, 0.0], [0.7891120910644531, 0.09797283262014389, 0.08633210510015488, 0.026583032682538033, 0.0, 0.0], [0.885064423084259, 0.03644983470439911, 0.053954124450683594, 0.012377163395285606, 0.012154505588114262, 0.0], [0.6861328482627869, 0.05720386281609535, 0.011636301875114441, 0.021660495549440384, 0.1748802363872528, 0.048486191779375076]], [[1.0, 0.0, 0.0, 0.0, 0.0, 0.0], [0.9396193027496338, 0.0603807270526886, 0.0, 0.0, 0.0, 0.0], [0.785180389881134, 0.19751356542110443, 0.017306042835116386, 0.0, 0.0, 0.0], [0.766051173210144, 0.15444661676883698, 0.031882960349321365, 0.04761934652924538, 0.0, 0.0], [0.703524112701416, 0.0517139807343483, 0.07760961353778839, 0.15338978171348572, 0.013762429356575012, 0.0], [0.712189257144928, 0.049942195415496826, 0.03772546723484993, 0.08649089932441711, 0.06541411578655243, 0.048238079994916916]], [[1.0, 0.0, 0.0, 0.0, 0.0, 0.0], [0.974072277545929, 0.025927728042006493, 0.0, 0.0, 0.0, 0.0], [0.7925395369529724, 0.01171558815985918, 0.19574490189552307, 0.0, 0.0, 0.0], [0.5106766819953918, 0.007296787574887276, 0.039620064198970795, 0.4424065053462982, 0.0, 0.0], [0.5862483978271484, 0.012099655345082283, 0.02458510734140873, 0.06737803667783737, 0.30968889594078064, 0.0], [0.30196306109428406, 0.007724014110863209, 0.011518129147589207, 0.04694722220301628, 0.2214674949645996, 0.41038012504577637]], [[1.0, 0.0, 0.0, 0.0, 0.0, 0.0], [0.9744554162025452, 0.02554456517100334, 0.0, 0.0, 0.0, 0.0], [0.9769196510314941, 0.015048498287796974, 0.00803191028535366, 0.0, 0.0, 0.0], [0.9060619473457336, 0.025875406339764595, 0.025954807177186012, 0.04210776463150978, 0.0, 0.0], [0.9400083422660828, 0.005556637421250343, 0.005828286986798048, 0.03175776079297066, 0.016849057748913765, 0.0], [0.9105738401412964, 0.0019752182997763157, 0.008646726608276367, 0.013360859826207161, 0.03543964400887489, 0.030003665015101433]], [[1.0, 0.0, 0.0, 0.0, 0.0, 0.0], [0.9791666865348816, 0.020833317190408707, 0.0, 0.0, 0.0, 0.0], [0.8444865345954895, 0.13507813215255737, 0.020435379818081856, 0.0, 0.0, 0.0], [0.7903086543083191, 0.14559145271778107, 0.037530072033405304, 0.026569802314043045, 0.0, 0.0], [0.7298941016197205, 0.05649605393409729, 0.032735422253608704, 0.10400405526161194, 0.0768703892827034, 0.0], [0.5684203505516052, 0.04388796165585518, 0.02629331685602665, 0.08117099851369858, 0.24314753711223602, 0.03707978501915932]], [[1.0, 0.0, 0.0, 0.0, 0.0, 0.0], [0.9499868154525757, 0.050013184547424316, 0.0, 0.0, 0.0, 0.0], [0.9336172342300415, 0.05848857760429382, 0.007894252426922321, 0.0, 0.0, 0.0], [0.7897834777832031, 0.1107180193066597, 0.05360184982419014, 0.04589661583304405, 0.0, 0.0], [0.8859302997589111, 0.05752965062856674, 0.013743256218731403, 0.0033877412788569927, 0.03940899297595024, 0.0], [0.9337607622146606, 0.026470622047781944, 0.004523398820310831, 0.006190491374582052, 0.014132981188595295, 0.014921731315553188]], [[1.0, 0.0, 0.0, 0.0, 0.0, 0.0], [1.0, 1.8521365552359725e-09, 0.0, 0.0, 0.0, 0.0], [6.675967142655281e-06, 0.9999804496765137, 1.2841219358961098e-05, 0.0, 0.0, 0.0], [2.2193900051092896e-08, 2.6685140763760273e-09, 0.9999971389770508, 2.813725814121426e-06, 0.0, 0.0], [1.014512122310407e-06, 4.4640316332333896e-08, 0.0003535542346071452, 0.9993677735328674, 0.00027762833633460104, 0.0], [9.43658595708996e-10, 1.3820204529391145e-11, 5.017662951800617e-10, 2.9651443522737964e-09, 0.9999971389770508, 2.8643657969951164e-06]]], [[[1.0, 0.0, 0.0, 0.0, 0.0, 0.0], [0.9948632121086121, 0.005136778578162193, 0.0, 0.0, 0.0, 0.0], [0.9274216890335083, 0.018323859199881554, 0.05425445735454559, 0.0, 0.0, 0.0], [0.9678993225097656, 0.0041434201411902905, 0.004314451012760401, 0.023642854765057564, 0.0, 0.0], [0.8999073505401611, 0.0014671653043478727, 0.00029133757925592363, 0.002585027366876602, 0.09574910998344421, 0.0], [0.9386116862297058, 0.00022248283494263887, 0.0006146669038571417, 0.0015495712868869305, 0.03068929724395275, 0.028312446549534798]], [[1.0, 0.0, 0.0, 0.0, 0.0, 0.0], [0.9999959468841553, 4.042743512400193e-06, 0.0, 0.0, 0.0, 0.0], [0.9982761144638062, 3.2613863822916755e-06, 0.0017206594347953796, 0.0, 0.0, 0.0], [0.9998809099197388, 5.328855934294552e-08, 6.376245664796443e-07, 0.00011847172572743148, 0.0, 0.0], [0.9996154308319092, 3.4731860409920046e-07, 3.892082389711504e-08, 4.468454335437855e-07, 0.0003836970718111843, 0.0], [0.9994840621948242, 1.6550172787788142e-08, 2.8715502864429254e-08, 1.0638284493325045e-06, 0.00021266496332827955, 0.0003021183656528592]], [[1.0, 0.0, 0.0, 0.0, 0.0, 0.0], [0.9514135718345642, 0.04858645051717758, 0.0, 0.0, 0.0, 0.0], [0.5749930143356323, 0.3902827203273773, 0.034724291414022446, 0.0, 0.0, 0.0], [0.7442324161529541, 0.1752409040927887, 0.07564739137887955, 0.004879284650087357, 0.0, 0.0], [0.5232052803039551, 0.09429336339235306, 0.11381907016038895, 0.19979435205459595, 0.06888794153928757, 0.0], [0.474724680185318, 0.056365929543972015, 0.04530365392565727, 0.06967296451330185, 0.30980315804481506, 0.04412969946861267]], [[1.0, 0.0, 0.0, 0.0, 0.0, 0.0], [0.8734645843505859, 0.12653541564941406, 0.0, 0.0, 0.0, 0.0], [0.6097902059555054, 0.3541737198829651, 0.03603604808449745, 0.0, 0.0, 0.0], [0.4598419964313507, 0.38697895407676697, 0.09960073232650757, 0.05357826128602028, 0.0, 0.0], [0.5722200274467468, 0.2363627851009369, 0.08344550430774689, 0.06921941041946411, 0.038752224296331406, 0.0], [0.5143576860427856, 0.16723018884658813, 0.09019361436367035, 0.07654473185539246, 0.1057809591293335, 0.045892875641584396]], [[1.0, 0.0, 0.0, 0.0, 0.0, 0.0], [0.981228768825531, 0.018771234899759293, 0.0, 0.0, 0.0, 0.0], [0.6142945289611816, 0.35039740800857544, 0.03530804067850113, 0.0, 0.0, 0.0], [0.577068567276001, 0.32858458161354065, 0.055082596838474274, 0.03926429897546768, 0.0, 0.0], [0.17188039422035217, 0.011042509227991104, 0.054578736424446106, 0.7326597571372986, 0.029838504269719124, 0.0], [0.37830233573913574, 0.017070071771740913, 0.02175411954522133, 0.44096839427948, 0.06093824282288551, 0.08096682280302048]], [[1.0, 0.0, 0.0, 0.0, 0.0, 0.0], [0.9923112392425537, 0.0076887463219463825, 0.0, 0.0, 0.0, 0.0], [0.9498787522315979, 0.016709759831428528, 0.033411458134651184, 0.0, 0.0, 0.0], [0.9961295127868652, 0.0008787286351434886, 0.0006868182099424303, 0.0023048492148518562, 0.0, 0.0], [0.9935757517814636, 0.0032634998206049204, 0.0009993839776143432, 0.00027932407101616263, 0.001882052980363369, 0.0], [0.9907532930374146, 0.00021344318520277739, 0.0004595255304593593, 0.000790563877671957, 0.004424727521836758, 0.0033583652693778276]], [[1.0, 0.0, 0.0, 0.0, 0.0, 0.0], [0.9647741317749023, 0.03522586449980736, 0.0, 0.0, 0.0, 0.0], [0.8194129467010498, 0.13654384016990662, 0.04404321312904358, 0.0, 0.0, 0.0], [0.7584246397018433, 0.00687895342707634, 0.206533744931221, 0.02816266380250454, 0.0, 0.0], [0.5298115611076355, 0.0026788057293742895, 0.07857996970415115, 0.359838604927063, 0.029090987518429756, 0.0], [0.754442036151886, 0.0003678233188111335, 0.001971346326172352, 0.0032400586642324924, 0.19423361122608185, 0.0457451269030571]], [[1.0, 0.0, 0.0, 0.0, 0.0, 0.0], [0.9749132394790649, 0.025086700916290283, 0.0, 0.0, 0.0, 0.0], [0.930647075176239, 0.05705665796995163, 0.012296255677938461, 0.0, 0.0, 0.0], [0.9305251836776733, 0.0527709424495697, 0.011119427159428596, 0.005584423430263996, 0.0, 0.0], [0.8863323926925659, 0.012924124486744404, 0.017724618315696716, 0.06150177866220474, 0.02151699736714363, 0.0], [0.7916854023933411, 0.015036028809845448, 0.03174786642193794, 0.03392200171947479, 0.03707967698574066, 0.09052903205156326]], [[1.0, 0.0, 0.0, 0.0, 0.0, 0.0], [0.9608501195907593, 0.03914988785982132, 0.0, 0.0, 0.0, 0.0], [0.9121274352073669, 0.022576434537768364, 0.06529611349105835, 0.0, 0.0, 0.0], [0.9364105463027954, 0.015584442764520645, 0.02454502508044243, 0.023460011929273605, 0.0, 0.0], [0.9454619288444519, 0.0067622778005898, 0.022026244550943375, 0.009137828834354877, 0.016611825674772263, 0.0], [0.8346168398857117, 0.001881699077785015, 0.0056090462021529675, 0.01887360028922558, 0.12449157238006592, 0.014527094550430775]], [[1.0, 0.0, 0.0, 0.0, 0.0, 0.0], [0.9964227080345154, 0.0035772775299847126, 0.0, 0.0, 0.0, 0.0], [0.9713928699493408, 0.024453055113554, 0.004154072608798742, 0.0, 0.0, 0.0], [0.9735793471336365, 0.01900338940322399, 0.0036644060164690018, 0.003752913326025009, 0.0, 0.0], [0.9586310982704163, 0.007116206921637058, 0.009218432009220123, 0.02272571623325348, 0.002308485796675086, 0.0], [0.973607063293457, 0.008490574546158314, 0.0032512517645955086, 0.0036064486484974623, 0.004877468571066856, 0.006167220883071423]], [[1.0, 0.0, 0.0, 0.0, 0.0, 0.0], [0.97598797082901, 0.024011997506022453, 0.0, 0.0, 0.0, 0.0], [0.9460638165473938, 0.04211371764540672, 0.01182244811207056, 0.0, 0.0, 0.0], [0.8446815013885498, 0.04293101653456688, 0.052181921899318695, 0.060205552726984024, 0.0, 0.0], [0.9378372430801392, 0.033548563718795776, 0.008826462551951408, 0.0028792351949959993, 0.01690848544239998, 0.0], [0.8124936819076538, 0.026967516168951988, 0.05999176576733589, 0.03445721045136452, 0.011011840775609016, 0.05507803335785866]], [[1.0, 0.0, 0.0, 0.0, 0.0, 0.0], [0.9001205563545227, 0.0998794212937355, 0.0, 0.0, 0.0, 0.0], [0.6271928548812866, 0.0798872709274292, 0.2929198443889618, 0.0, 0.0, 0.0], [0.7624077796936035, 0.02734431065618992, 0.03867945075035095, 0.1715683788061142, 0.0, 0.0], [0.7995961308479309, 0.01433626189827919, 0.014375651255249977, 0.025438480079174042, 0.146253302693367, 0.0], [0.785197377204895, 0.04204045236110687, 0.02525358274579048, 0.029083941131830215, 0.02930629253387451, 0.08911837637424469]]], [[[1.0, 0.0, 0.0, 0.0, 0.0, 0.0], [0.9954467415809631, 0.004553190432488918, 0.0, 0.0, 0.0, 0.0], [0.9356002807617188, 0.044767413288354874, 0.019632335752248764, 0.0, 0.0, 0.0], [0.5605546832084656, 0.09861988574266434, 0.2998330295085907, 0.04099240154027939, 0.0, 0.0], [0.5893709659576416, 0.11000965535640717, 0.08033649623394012, 0.1675405502319336, 0.05274239555001259, 0.0], [0.22305917739868164, 0.05680795758962631, 0.05467958003282547, 0.24733997881412506, 0.31112396717071533, 0.10698934644460678]], [[1.0, 0.0, 0.0, 0.0, 0.0, 0.0], [0.9301449656486511, 0.06985507905483246, 0.0, 0.0, 0.0, 0.0], [0.8936482071876526, 0.08535679429769516, 0.020994946360588074, 0.0, 0.0, 0.0], [0.8404541611671448, 0.1061919704079628, 0.02363673597574234, 0.029717275872826576, 0.0, 0.0], [0.8927382826805115, 0.024784771725535393, 0.008319041691720486, 0.051654569804668427, 0.022503243759274483, 0.0], [0.8646607995033264, 0.009503168053925037, 0.002432984532788396, 0.047967538237571716, 0.042732179164886475, 0.032703325152397156]], [[1.0, 0.0, 0.0, 0.0, 0.0, 0.0], [0.9859625697135925, 0.014037375338375568, 0.0, 0.0, 0.0, 0.0], [0.9702038764953613, 0.016807015985250473, 0.012989096343517303, 0.0, 0.0, 0.0], [0.9524770379066467, 0.016064422205090523, 0.013456214219331741, 0.01800231821835041, 0.0, 0.0], [0.9332927465438843, 0.018971972167491913, 0.020146850496530533, 0.017023758962750435, 0.010564553551375866, 0.0], [0.911359429359436, 0.01252858154475689, 0.02209615148603916, 0.017518557608127594, 0.018517879769206047, 0.017979314550757408]], [[1.0, 0.0, 0.0, 0.0, 0.0, 0.0], [0.9681769013404846, 0.0318230465054512, 0.0, 0.0, 0.0, 0.0], [0.9096420407295227, 0.07916668057441711, 0.01119122002273798, 0.0, 0.0, 0.0], [0.8379938006401062, 0.13078227639198303, 0.012140986509621143, 0.01908300258219242, 0.0, 0.0], [0.9116524457931519, 0.054519642144441605, 0.009499377571046352, 0.007465855684131384, 0.016862759366631508, 0.0], [0.8510288000106812, 0.07338204979896545, 0.008022506721317768, 0.009083160199224949, 0.04261014983057976, 0.015873335301876068]], [[1.0, 0.0, 0.0, 0.0, 0.0, 0.0], [0.9799023866653442, 0.02009764313697815, 0.0, 0.0, 0.0, 0.0], [0.9558743238449097, 0.029063209891319275, 0.015062469989061356, 0.0, 0.0, 0.0], [0.7943131923675537, 0.060740936547517776, 0.06907673925161362, 0.07586909830570221, 0.0, 0.0], [0.5494318604469299, 0.031547125428915024, 0.054820187389850616, 0.05788073316216469, 0.30632004141807556, 0.0], [0.6453979015350342, 0.01077093556523323, 0.01752808690071106, 0.02157985419034958, 0.2495829313993454, 0.05514019355177879]], [[1.0, 0.0, 0.0, 0.0, 0.0, 0.0], [0.9506809115409851, 0.04931905120611191, 0.0, 0.0, 0.0, 0.0], [0.8553212285041809, 0.09256283193826675, 0.05211593955755234, 0.0, 0.0, 0.0], [0.8508521914482117, 0.04734605923295021, 0.04417739436030388, 0.05762434005737305, 0.0, 0.0], [0.7697129249572754, 0.027885815128684044, 0.03101726993918419, 0.0684250071644783, 0.10295894742012024, 0.0], [0.7931903004646301, 0.04052191227674484, 0.029241997748613358, 0.04478129744529724, 0.0489470511674881, 0.04331749677658081]], [[1.0, 0.0, 0.0, 0.0, 0.0, 0.0], [0.9770310521125793, 0.022968875244259834, 0.0, 0.0, 0.0, 0.0], [0.9429817199707031, 0.01732148788869381, 0.039696820080280304, 0.0, 0.0, 0.0], [0.9144344925880432, 0.008583564311265945, 0.013035798445343971, 0.06394599378108978, 0.0, 0.0], [0.9222429990768433, 0.003644024720415473, 0.0037402652669698, 0.01041034422814846, 0.05996229872107506, 0.0], [0.9198878407478333, 0.003082259325310588, 0.0034827457275241613, 0.004206804558634758, 0.02125430479645729, 0.04808596149086952]], [[1.0, 0.0, 0.0, 0.0, 0.0, 0.0], [0.977458119392395, 0.02254187874495983, 0.0, 0.0, 0.0, 0.0], [0.8929322957992554, 0.07475488632917404, 0.032312795519828796, 0.0, 0.0, 0.0], [0.842351496219635, 0.059802811592817307, 0.037400729954242706, 0.060445014387369156, 0.0, 0.0], [0.7674627304077148, 0.035363517701625824, 0.0421551950275898, 0.06658639758825302, 0.08843210339546204, 0.0], [0.6182611584663391, 0.016110649332404137, 0.02016764134168625, 0.03868899121880531, 0.231469988822937, 0.0753016322851181]], [[1.0, 0.0, 0.0, 0.0, 0.0, 0.0], [0.9634856581687927, 0.036514319479465485, 0.0, 0.0, 0.0, 0.0], [0.4363939166069031, 0.522637128829956, 0.040968988090753555, 0.0, 0.0, 0.0], [0.3608611226081848, 0.351297527551651, 0.2655101716518402, 0.022331135347485542, 0.0, 0.0], [0.39429211616516113, 0.02170463092625141, 0.07794342935085297, 0.37168920040130615, 0.13437063992023468, 0.0], [0.6310714483261108, 0.0169840045273304, 0.02594204619526863, 0.08615933358669281, 0.21832022070884705, 0.02152305282652378]], [[1.0, 0.0, 0.0, 0.0, 0.0, 0.0], [0.9988250136375427, 0.001175024313852191, 0.0, 0.0, 0.0, 0.0], [0.9944871068000793, 0.00048263854114338756, 0.005030238069593906, 0.0, 0.0, 0.0], [0.9981209635734558, 2.7051604774896987e-05, 0.00011307429667795077, 0.0017389451386407018, 0.0, 0.0], [0.9982239603996277, 6.83655816828832e-05, 0.00010199945245403796, 6.028387360856868e-05, 0.0015453092055395246, 0.0], [0.9982888102531433, 1.05522076410125e-06, 3.278103031334467e-05, 0.00013039002078585327, 0.0006605869275517762, 0.0008863709517754614]], [[1.0, 0.0, 0.0, 0.0, 0.0, 0.0], [0.9936710596084595, 0.006328918971121311, 0.0, 0.0, 0.0, 0.0], [0.9727688431739807, 0.001856132410466671, 0.025375070050358772, 0.0, 0.0, 0.0], [0.9724299907684326, 0.001958609325811267, 0.01119242887943983, 0.014418890699744225, 0.0, 0.0], [0.9782041311264038, 0.000958915741648525, 0.0018706456758081913, 0.006326562725007534, 0.012639695778489113, 0.0], [0.9592596888542175, 0.002455513458698988, 0.0016124167013913393, 0.005019672214984894, 0.0066871196031570435, 0.02496572956442833]], [[1.0, 0.0, 0.0, 0.0, 0.0, 0.0], [0.9629000425338745, 0.037099920213222504, 0.0, 0.0, 0.0, 0.0], [0.36802059412002563, 0.6152245998382568, 0.016754750162363052, 0.0, 0.0, 0.0], [0.31735095381736755, 0.614001452922821, 0.05375155806541443, 0.014896104112267494, 0.0, 0.0], [0.4898739755153656, 0.21071402728557587, 0.04693015292286873, 0.20700417459011078, 0.04547762870788574, 0.0], [0.4877415895462036, 0.17695252597332, 0.06915224343538284, 0.09849336743354797, 0.12091454118490219, 0.046745747327804565]]], [[[1.0, 0.0, 0.0, 0.0, 0.0, 0.0], [0.9794419407844543, 0.020558087155222893, 0.0, 0.0, 0.0, 0.0], [0.6677891612052917, 0.3103247284889221, 0.021886071190238, 0.0, 0.0, 0.0], [0.7118751406669617, 0.1110856756567955, 0.14187407493591309, 0.03516511991620064, 0.0, 0.0], [0.450146347284317, 0.04036048799753189, 0.04045822098851204, 0.388569712638855, 0.08046520501375198, 0.0], [0.4934616982936859, 0.013696945272386074, 0.008126803673803806, 0.13074517250061035, 0.3086143136024475, 0.045355066657066345]], [[1.0, 0.0, 0.0, 0.0, 0.0, 0.0], [0.9846053123474121, 0.015394614078104496, 0.0, 0.0, 0.0, 0.0], [0.9806739091873169, 0.00771379517391324, 0.011612341739237309, 0.0, 0.0, 0.0], [0.9326630234718323, 0.019578440114855766, 0.02410358190536499, 0.023654965683817863, 0.0, 0.0], [0.9422018527984619, 0.0009538951562717557, 0.0010898022446781397, 0.00319336517713964, 0.052561067044734955, 0.0], [0.9352928400039673, 0.0010279389098286629, 0.004444438964128494, 0.0016371398232877254, 0.010590991005301476, 0.04700661823153496]], [[1.0, 0.0, 0.0, 0.0, 0.0, 0.0], [0.9985783100128174, 0.0014216797426342964, 0.0, 0.0, 0.0, 0.0], [0.9893348813056946, 0.001117891282774508, 0.009547133930027485, 0.0, 0.0, 0.0], [0.9979978203773499, 7.997080683708191e-05, 0.00013218875392340124, 0.0017900324892252684, 0.0, 0.0], [0.9986976385116577, 4.104400068172254e-05, 3.868332441925304e-06, 2.367614615650382e-05, 0.0012337085790932178, 0.0], [0.9971562623977661, 1.8522179743740708e-05, 1.8826575569619308e-06, 2.7900150598725304e-05, 0.0006533475825563073, 0.0021419981494545937]], [[1.0, 0.0, 0.0, 0.0, 0.0, 0.0], [0.9768233299255371, 0.0231766514480114, 0.0, 0.0, 0.0, 0.0], [0.9194678068161011, 0.050881870090961456, 0.029650308191776276, 0.0, 0.0, 0.0], [0.8474553823471069, 0.06100171431899071, 0.04372374713420868, 0.047819167375564575, 0.0, 0.0], [0.8011623620986938, 0.041867006570100784, 0.04375806450843811, 0.041894737631082535, 0.07131786644458771, 0.0], [0.8031870722770691, 0.024504873901605606, 0.01732351817190647, 0.04744390770792961, 0.061099398881196976, 0.046441253274679184]], [[1.0, 0.0, 0.0, 0.0, 0.0, 0.0], [0.9829428195953369, 0.017057176679372787, 0.0, 0.0, 0.0, 0.0], [0.8863736391067505, 0.0949266105890274, 0.018699802458286285, 0.0, 0.0, 0.0], [0.9231084585189819, 0.03696349635720253, 0.03219837695360184, 0.007729674223810434, 0.0, 0.0], [0.9068529009819031, 0.016046574339270592, 0.014310498721897602, 0.0454377681016922, 0.017352230846881866, 0.0], [0.6555964946746826, 0.05091026425361633, 0.028384972363710403, 0.12565548717975616, 0.10546879470348358, 0.033983998000621796]], [[1.0, 0.0, 0.0, 0.0, 0.0, 0.0], [0.9502318501472473, 0.04976813867688179, 0.0, 0.0, 0.0, 0.0], [0.8829866647720337, 0.10009622573852539, 0.016917144879698753, 0.0, 0.0, 0.0], [0.8057458400726318, 0.14463554322719574, 0.03018922172486782, 0.0194294061511755, 0.0, 0.0], [0.8706232905387878, 0.03244059905409813, 0.02695159800350666, 0.04410294070839882, 0.025881554931402206, 0.0], [0.6883642673492432, 0.009681475348770618, 0.01644935831427574, 0.09871120750904083, 0.08971215039491653, 0.09708152711391449]], [[1.0, 0.0, 0.0, 0.0, 0.0, 0.0], [0.9792683124542236, 0.020731722936034203, 0.0, 0.0, 0.0, 0.0], [0.9523284435272217, 0.025933850556612015, 0.02173774503171444, 0.0, 0.0, 0.0], [0.9144353866577148, 0.01767127215862274, 0.022358529269695282, 0.04553481936454773, 0.0, 0.0], [0.9448293447494507, 0.006467591971158981, 0.006386054679751396, 0.032630838453769684, 0.009686144068837166, 0.0], [0.9347907304763794, 0.007862495258450508, 0.007788173388689756, 0.021432779729366302, 0.008491129614412785, 0.01963479444384575]], [[1.0, 0.0, 0.0, 0.0, 0.0, 0.0], [0.983370304107666, 0.016629694029688835, 0.0, 0.0, 0.0, 0.0], [0.9631112813949585, 0.009229938499629498, 0.027658741921186447, 0.0, 0.0, 0.0], [0.9706628322601318, 0.004149412736296654, 0.00681313406676054, 0.01837465912103653, 0.0, 0.0], [0.987951934337616, 0.0021658847108483315, 0.0003490109520498663, 0.0015838132239878178, 0.00794943980872631, 0.0], [0.9457950592041016, 0.014583553187549114, 0.00036529620410874486, 0.0009569551330059767, 0.01362164318561554, 0.024677526205778122]], [[1.0, 0.0, 0.0, 0.0, 0.0, 0.0], [0.9878059029579163, 0.012194057926535606, 0.0, 0.0, 0.0, 0.0], [0.8710363507270813, 0.09448186308145523, 0.0344817228615284, 0.0, 0.0, 0.0], [0.630977213382721, 0.11090408265590668, 0.19230294227600098, 0.06581571698188782, 0.0, 0.0], [0.5360495448112488, 0.04618941619992256, 0.13605305552482605, 0.26455456018447876, 0.01715337112545967, 0.0], [0.8287509679794312, 0.023732837289571762, 0.020080462098121643, 0.07245317101478577, 0.030431464314460754, 0.024551058188080788]], [[1.0, 0.0, 0.0, 0.0, 0.0, 0.0], [0.8995683789253235, 0.10043162852525711, 0.0, 0.0, 0.0, 0.0], [0.27034252882003784, 0.6504339575767517, 0.07922349125146866, 0.0, 0.0, 0.0], [0.20541679859161377, 0.5892516374588013, 0.18085816502571106, 0.024473469704389572, 0.0, 0.0], [0.5573872327804565, 0.17741306126117706, 0.08806795626878738, 0.09881811589002609, 0.0783136636018753, 0.0], [0.5922900438308716, 0.08700650930404663, 0.05643290653824806, 0.05685901641845703, 0.12181542813777924, 0.0855959951877594]], [[1.0, 0.0, 0.0, 0.0, 0.0, 0.0], [0.9316378831863403, 0.06836217641830444, 0.0, 0.0, 0.0, 0.0], [0.9572948217391968, 0.026243489235639572, 0.016461728140711784, 0.0, 0.0, 0.0], [0.9880544543266296, 0.004273333121091127, 0.002954584313556552, 0.004717658273875713, 0.0, 0.0], [0.99403977394104, 0.00094134162645787, 0.00047398178139701486, 0.0001164695349871181, 0.0044284239411354065, 0.0], [0.9806033968925476, 2.5469029424129985e-05, 0.00016239423712249845, 0.00014764168008696288, 0.0013442422496154904, 0.017716875299811363]], [[1.0, 0.0, 0.0, 0.0, 0.0, 0.0], [0.993178129196167, 0.006821854040026665, 0.0, 0.0, 0.0, 0.0], [0.9756524562835693, 0.013184082694351673, 0.011163434945046902, 0.0, 0.0, 0.0], [0.9418965578079224, 0.00472175981849432, 0.0023818155750632286, 0.05099981278181076, 0.0, 0.0], [0.9905040860176086, 0.0022848148364573717, 6.19848578935489e-05, 0.0005984479794278741, 0.0065506696701049805, 0.0], [0.9697661399841309, 0.0008878817316144705, 0.0002346673863939941, 0.0017040761886164546, 0.00412834482267499, 0.02327890321612358]]], [[[1.0, 0.0, 0.0, 0.0, 0.0, 0.0], [0.9716230630874634, 0.02837691642343998, 0.0, 0.0, 0.0, 0.0], [0.9223618507385254, 0.028907328844070435, 0.04873083159327507, 0.0, 0.0, 0.0], [0.8426313400268555, 0.02387220785021782, 0.047481417655944824, 0.08601494878530502, 0.0, 0.0], [0.8521119356155396, 0.02074427902698517, 0.044946253299713135, 0.05765008181333542, 0.024547452107071877, 0.0], [0.880072295665741, 0.02244856208562851, 0.01823575422167778, 0.01925484463572502, 0.015854274854063988, 0.044134173542261124]], [[1.0, 0.0, 0.0, 0.0, 0.0, 0.0], [0.9412722587585449, 0.0587276890873909, 0.0, 0.0, 0.0, 0.0], [0.9163137674331665, 0.057592038065195084, 0.026094114407896996, 0.0, 0.0, 0.0], [0.839242160320282, 0.057690609246492386, 0.013829072006046772, 0.08923812210559845, 0.0, 0.0], [0.8987159132957458, 0.013477910310029984, 0.0003456466947682202, 0.0032987643498927355, 0.08416172116994858, 0.0], [0.8701688647270203, 0.0027008680626749992, 0.0014350017299875617, 0.0056661805137991905, 0.08874335139989853, 0.031285788863897324]], [[1.0, 0.0, 0.0, 0.0, 0.0, 0.0], [0.9656724333763123, 0.03432755172252655, 0.0, 0.0, 0.0, 0.0], [0.9178614020347595, 0.062258072197437286, 0.019880497828125954, 0.0, 0.0, 0.0], [0.8233147263526917, 0.06282397359609604, 0.03670434653759003, 0.07715696096420288, 0.0, 0.0], [0.8501747846603394, 0.0381692536175251, 0.0319649800658226, 0.05160142108798027, 0.028089581057429314, 0.0], [0.657240092754364, 0.05877406895160675, 0.04336019605398178, 0.09013209491968155, 0.08146589994430542, 0.06902763247489929]], [[1.0, 0.0, 0.0, 0.0, 0.0, 0.0], [0.916206419467926, 0.08379358053207397, 0.0, 0.0, 0.0, 0.0], [0.9451773762702942, 0.04099278151988983, 0.013829839415848255, 0.0, 0.0, 0.0], [0.8928354978561401, 0.05368672311306, 0.017596988007426262, 0.035880789160728455, 0.0, 0.0], [0.8337052464485168, 0.04799607768654823, 0.03351325914263725, 0.04680858924984932, 0.037976838648319244, 0.0], [0.8167193531990051, 0.06337122619152069, 0.013286272995173931, 0.020469756796956062, 0.0252922922372818, 0.06086103618144989]], [[1.0, 0.0, 0.0, 0.0, 0.0, 0.0], [0.9525134563446045, 0.047486573457717896, 0.0, 0.0, 0.0, 0.0], [0.3019861578941345, 0.6520946621894836, 0.04591917246580124, 0.0, 0.0, 0.0], [0.28558361530303955, 0.5569518208503723, 0.14447401463985443, 0.01299047190696001, 0.0, 0.0], [0.8438038229942322, 0.03225136920809746, 0.039542973041534424, 0.06848172843456268, 0.015920117497444153, 0.0], [0.6664936542510986, 0.0609591081738472, 0.040643513202667236, 0.06804484128952026, 0.09186362475156784, 0.07199534773826599]], [[1.0, 0.0, 0.0, 0.0, 0.0, 0.0], [0.9682655334472656, 0.031734492629766464, 0.0, 0.0, 0.0, 0.0], [0.7385213971138, 0.22856901586055756, 0.03290960192680359, 0.0, 0.0, 0.0], [0.5946672558784485, 0.2303318977355957, 0.14867626130580902, 0.026324599981307983, 0.0, 0.0], [0.6339263916015625, 0.05813021957874298, 0.09654279798269272, 0.1429191678762436, 0.06848140060901642, 0.0], [0.40375739336013794, 0.0894537940621376, 0.07635077089071274, 0.25587037205696106, 0.1433037519454956, 0.031263891607522964]], [[1.0, 0.0, 0.0, 0.0, 0.0, 0.0], [0.9869793653488159, 0.013020649552345276, 0.0, 0.0, 0.0, 0.0], [0.8631384968757629, 0.1105666235089302, 0.026294879615306854, 0.0, 0.0, 0.0], [0.9488076567649841, 0.02861509658396244, 0.006535593420267105, 0.01604161225259304, 0.0, 0.0], [0.9672170877456665, 0.006604999303817749, 0.0004517166526056826, 0.00484442850574851, 0.02088175341486931, 0.0], [0.935462236404419, 0.02047804556787014, 0.0011700242757797241, 0.0070569440722465515, 0.01631813496351242, 0.01951463334262371]], [[1.0, 0.0, 0.0, 0.0, 0.0, 0.0], [0.9846673011779785, 0.015332716517150402, 0.0, 0.0, 0.0, 0.0], [0.9052746295928955, 0.08373615145683289, 0.010989219881594181, 0.0, 0.0, 0.0], [0.8145942091941833, 0.0428374782204628, 0.10568251460790634, 0.036885764449834824, 0.0, 0.0], [0.2351962924003601, 0.012018454261124134, 0.05280090495944023, 0.6516204476356506, 0.048363883048295975, 0.0], [0.31818535923957825, 0.01863240823149681, 0.039481744170188904, 0.37555593252182007, 0.2078719288110733, 0.040272705256938934]], [[1.0, 0.0, 0.0, 0.0, 0.0, 0.0], [0.9811733365058899, 0.018826736137270927, 0.0, 0.0, 0.0, 0.0], [0.8618942499160767, 0.06479164212942123, 0.07331419736146927, 0.0, 0.0, 0.0], [0.7664539813995361, 0.07330439239740372, 0.10353518277406693, 0.05670655146241188, 0.0, 0.0], [0.8128499388694763, 0.032154884189367294, 0.05900554731488228, 0.05416525900363922, 0.04182448238134384, 0.0], [0.8687861561775208, 0.026987800374627113, 0.020469924435019493, 0.01629735343158245, 0.03218373283743858, 0.03527507558465004]], [[1.0, 0.0, 0.0, 0.0, 0.0, 0.0], [0.9264581799507141, 0.07354187220335007, 0.0, 0.0, 0.0, 0.0], [0.8403534293174744, 0.06373783200979233, 0.0959087386727333, 0.0, 0.0, 0.0], [0.733099102973938, 0.06451135128736496, 0.10380092263221741, 0.09858869761228561, 0.0, 0.0], [0.9143611788749695, 0.00825780350714922, 0.007320395205169916, 0.017966296523809433, 0.052094414830207825, 0.0], [0.8971913456916809, 0.008555509150028229, 0.0070194522850215435, 0.014860562980175018, 0.03399771451950073, 0.0383753776550293]], [[1.0, 0.0, 0.0, 0.0, 0.0, 0.0], [0.9180346727371216, 0.0819653645157814, 0.0, 0.0, 0.0, 0.0], [0.8328660726547241, 0.12199067324399948, 0.04514329880475998, 0.0, 0.0, 0.0], [0.7994153499603271, 0.08744149655103683, 0.036057859659194946, 0.07708526402711868, 0.0, 0.0], [0.8809850811958313, 0.02074965462088585, 0.02055460214614868, 0.01712082512676716, 0.06058979406952858, 0.0], [0.7453035712242126, 0.044334039092063904, 0.022549239918589592, 0.0331527441740036, 0.03357039764523506, 0.12108995020389557]], [[1.0, 0.0, 0.0, 0.0, 0.0, 0.0], [0.9867061972618103, 0.013293863274157047, 0.0, 0.0, 0.0, 0.0], [0.982177734375, 0.012414142489433289, 0.005408093333244324, 0.0, 0.0, 0.0], [0.96304851770401, 0.015290772542357445, 0.010345697402954102, 0.011314946226775646, 0.0, 0.0], [0.9213568568229675, 0.01413250993937254, 0.017639199271798134, 0.01656770519912243, 0.030303746461868286, 0.0], [0.9373326301574707, 0.009064320474863052, 0.007548361551016569, 0.0065764556638896465, 0.011827622540295124, 0.02765044942498207]]], [[[1.0, 0.0, 0.0, 0.0, 0.0, 0.0], [0.9951004385948181, 0.004899632651358843, 0.0, 0.0, 0.0, 0.0], [0.9476008415222168, 0.04140789806842804, 0.010991244576871395, 0.0, 0.0, 0.0], [0.9142175316810608, 0.02352377586066723, 0.03914502263069153, 0.02311362884938717, 0.0, 0.0], [0.9534734487533569, 0.008932989090681076, 0.01527285948395729, 0.00790830422192812, 0.014412342570722103, 0.0], [0.9427104592323303, 0.008233066648244858, 0.00465098861604929, 0.004178104922175407, 0.00546351308003068, 0.03476402163505554]], [[1.0, 0.0, 0.0, 0.0, 0.0, 0.0], [0.9543376564979553, 0.04566233977675438, 0.0, 0.0, 0.0, 0.0], [0.9696040749549866, 0.019547613337635994, 0.010848305188119411, 0.0, 0.0, 0.0], [0.9710449576377869, 0.012425409629940987, 0.008068887516856194, 0.008460711687803268, 0.0, 0.0], [0.9726192951202393, 0.0026976598892360926, 0.0004483134835027158, 0.0013814751291647553, 0.0228531863540411, 0.0], [0.9675466418266296, 0.009613432921469212, 0.003203024622052908, 0.00424882723018527, 0.007442239206284285, 0.007945878431200981]], [[1.0, 0.0, 0.0, 0.0, 0.0, 0.0], [0.9887008666992188, 0.011299137957394123, 0.0, 0.0, 0.0, 0.0], [0.9382632374763489, 0.04204239696264267, 0.019694384187459946, 0.0, 0.0, 0.0], [0.8351994752883911, 0.034878555685281754, 0.05134480446577072, 0.07857716083526611, 0.0, 0.0], [0.9042678475379944, 0.010541572235524654, 0.016426734626293182, 0.025921905413269997, 0.04284191504120827, 0.0], [0.8913140296936035, 0.008912680670619011, 0.005010716151446104, 0.008175616152584553, 0.013514742255210876, 0.07307226955890656]], [[1.0, 0.0, 0.0, 0.0, 0.0, 0.0], [0.8693910241127014, 0.1306089460849762, 0.0, 0.0, 0.0, 0.0], [0.3507995009422302, 0.6063514351844788, 0.04284907132387161, 0.0, 0.0, 0.0], [0.3547574281692505, 0.35020166635513306, 0.2472236454486847, 0.04781726747751236, 0.0, 0.0], [0.35370728373527527, 0.03527730330824852, 0.09567105025053024, 0.44979560375213623, 0.06554874777793884, 0.0], [0.4132589101791382, 0.09055539965629578, 0.05286574363708496, 0.17468002438545227, 0.17384833097457886, 0.09479160606861115]], [[1.0, 0.0, 0.0, 0.0, 0.0, 0.0], [0.9629756212234497, 0.037024326622486115, 0.0, 0.0, 0.0, 0.0], [0.9756426811218262, 0.019658571109175682, 0.004698721691966057, 0.0, 0.0, 0.0], [0.9775736331939697, 0.013286286033689976, 0.0025590381119400263, 0.006581075489521027, 0.0, 0.0], [0.9870141744613647, 0.007388256955891848, 0.0009579194593243301, 0.0018318305956199765, 0.0028077608440071344, 0.0], [0.9409245848655701, 0.01663370616734028, 0.0022979099303483963, 0.005890648812055588, 0.005512924864888191, 0.028740206733345985]], [[1.0, 0.0, 0.0, 0.0, 0.0, 0.0], [0.9628270864486694, 0.03717287629842758, 0.0, 0.0, 0.0, 0.0], [0.9582237601280212, 0.02464187517762184, 0.01713441126048565, 0.0, 0.0, 0.0], [0.9351301193237305, 0.015331569127738476, 0.014810970053076744, 0.034727420657873154, 0.0, 0.0], [0.9225173592567444, 0.010528738610446453, 0.011010141111910343, 0.01943998970091343, 0.03650377318263054, 0.0], [0.8420166969299316, 0.043571993708610535, 0.0074882726185023785, 0.014961534179747105, 0.023852836340665817, 0.0681087076663971]], [[1.0, 0.0, 0.0, 0.0, 0.0, 0.0], [0.9926387071609497, 0.007361325901001692, 0.0, 0.0, 0.0, 0.0], [0.9957393407821655, 0.0033469772897660732, 0.0009136898443102837, 0.0, 0.0, 0.0], [0.9869900345802307, 0.0019747838377952576, 0.0015245531685650349, 0.009510681964457035, 0.0, 0.0], [0.9933527708053589, 0.0010203277925029397, 0.0003433738893363625, 0.0010291136568412185, 0.004254387691617012, 0.0], [0.9749016761779785, 0.00043480086605995893, 0.0004306553164497018, 0.0012364365393295884, 0.0015347714070230722, 0.0214616060256958]], [[1.0, 0.0, 0.0, 0.0, 0.0, 0.0], [0.9897475242614746, 0.010252452455461025, 0.0, 0.0, 0.0, 0.0], [0.9790639281272888, 0.0165090411901474, 0.0044270846992731094, 0.0, 0.0, 0.0], [0.9521436095237732, 0.029432358220219612, 0.008943158201873302, 0.009480919688940048, 0.0, 0.0], [0.9395941495895386, 0.02151094377040863, 0.010278528556227684, 0.004555225372314453, 0.024061109870672226, 0.0], [0.9205074310302734, 0.016153667122125626, 0.010818603448569775, 0.016644423827528954, 0.014566424302756786, 0.02130945399403572]], [[1.0, 0.0, 0.0, 0.0, 0.0, 0.0], [0.9898501634597778, 0.010149785317480564, 0.0, 0.0, 0.0, 0.0], [0.9820908904075623, 0.006907532922923565, 0.011001549661159515, 0.0, 0.0, 0.0], [0.9684997200965881, 0.008987602777779102, 0.01534257736057043, 0.007170080207288265, 0.0, 0.0], [0.9274120330810547, 0.00948525220155716, 0.02206609584391117, 0.032228823751211166, 0.008807658217847347, 0.0], [0.9006661176681519, 0.021623708307743073, 0.013808243907988071, 0.009843830019235611, 0.008521359413862228, 0.04553686082363129]], [[1.0, 0.0, 0.0, 0.0, 0.0, 0.0], [0.9954444169998169, 0.004555590450763702, 0.0, 0.0, 0.0, 0.0], [0.995254397392273, 0.0024602378252893686, 0.0022854867856949568, 0.0, 0.0, 0.0], [0.9862446188926697, 0.0015168129466474056, 0.0040722922421991825, 0.00816634576767683, 0.0, 0.0], [0.9889963865280151, 0.0012260453077033162, 0.0007996386848390102, 0.0006774256471544504, 0.008300586603581905, 0.0], [0.9865202903747559, 0.0003942708426620811, 0.0009571781265549362, 0.0004954367759637535, 0.0009604956139810383, 0.010672271251678467]], [[1.0, 0.0, 0.0, 0.0, 0.0, 0.0], [0.9821295142173767, 0.01787050999701023, 0.0, 0.0, 0.0, 0.0], [0.7489444017410278, 0.22002646327018738, 0.031029101461172104, 0.0, 0.0, 0.0], [0.2854782044887543, 0.2112564593553543, 0.47871601581573486, 0.024549296125769615, 0.0, 0.0], [0.8056644201278687, 0.026974566280841827, 0.043028030544519424, 0.06993728131055832, 0.054395731538534164, 0.0], [0.33072179555892944, 0.022326543927192688, 0.016627060249447823, 0.08019446581602097, 0.41574761271476746, 0.13438251614570618]], [[1.0, 0.0, 0.0, 0.0, 0.0, 0.0], [0.9697747826576233, 0.030225243419408798, 0.0, 0.0, 0.0, 0.0], [0.9800565838813782, 0.015018879435956478, 0.004924533423036337, 0.0, 0.0, 0.0], [0.9237861037254333, 0.05276470631361008, 0.006302401423454285, 0.017146700993180275, 0.0, 0.0], [0.9451842904090881, 0.03618048503994942, 0.0019892107229679823, 0.003958720248192549, 0.01268728543072939, 0.0], [0.9633325934410095, 0.01866300031542778, 0.0030418490059673786, 0.007070909254252911, 0.0050094230100512505, 0.00288207083940506]]], [[[1.0, 0.0, 0.0, 0.0, 0.0, 0.0], [0.9873244762420654, 0.01267546508461237, 0.0, 0.0, 0.0, 0.0], [0.9904569983482361, 0.0055419523268938065, 0.00400111498311162, 0.0, 0.0, 0.0], [0.9814972877502441, 0.004653451964259148, 0.00372527027502656, 0.010124017484486103, 0.0, 0.0], [0.9744364619255066, 0.004632266703993082, 0.00237999833188951, 0.006518086884170771, 0.012033074162900448, 0.0], [0.9624499678611755, 0.003374350257217884, 0.0013198534725233912, 0.0017274925485253334, 0.002944676671177149, 0.02818371169269085]], [[1.0, 0.0, 0.0, 0.0, 0.0, 0.0], [0.9807674288749695, 0.01923258788883686, 0.0, 0.0, 0.0, 0.0], [0.9664245843887329, 0.015413948334753513, 0.018161438405513763, 0.0, 0.0, 0.0], [0.9632683396339417, 0.004538118373602629, 0.0029253833927214146, 0.029268108308315277, 0.0, 0.0], [0.9562349319458008, 0.0012223648373037577, 0.0005304075893945992, 0.008671483024954796, 0.03334081918001175, 0.0], [0.9657101035118103, 0.0009808284230530262, 0.0016686219023540616, 0.0026348258834332228, 0.0058663529343903065, 0.02313929796218872]], [[1.0, 0.0, 0.0, 0.0, 0.0, 0.0], [0.9639714956283569, 0.036028504371643066, 0.0, 0.0, 0.0, 0.0], [0.9562799334526062, 0.03373320773243904, 0.009986845776438713, 0.0, 0.0, 0.0], [0.8539997339248657, 0.08073030412197113, 0.03334445506334305, 0.03192548826336861, 0.0, 0.0], [0.9547489881515503, 0.0096050426363945, 0.0041461666114628315, 0.0020133235957473516, 0.02948644384741783, 0.0], [0.933113694190979, 0.028699707239866257, 0.005477473139762878, 0.006368068978190422, 0.012613070197403431, 0.013728084973990917]], [[1.0, 0.0, 0.0, 0.0, 0.0, 0.0], [0.9392993450164795, 0.060700688511133194, 0.0, 0.0, 0.0, 0.0], [0.9298389554023743, 0.06189555302262306, 0.008265506476163864, 0.0, 0.0, 0.0], [0.8471822738647461, 0.09035059064626694, 0.017636103555560112, 0.0448310486972332, 0.0, 0.0], [0.8857701420783997, 0.03918180987238884, 0.007867713458836079, 0.0227658748626709, 0.04441450908780098, 0.0], [0.8563280701637268, 0.1008898988366127, 0.006531442981213331, 0.008485902100801468, 0.007368441205471754, 0.020396225154399872]], [[1.0, 0.0, 0.0, 0.0, 0.0, 0.0], [0.8353263735771179, 0.1646736115217209, 0.0, 0.0, 0.0, 0.0], [0.6160857081413269, 0.31376516819000244, 0.07014915347099304, 0.0, 0.0, 0.0], [0.343163400888443, 0.27584975957870483, 0.1196601614356041, 0.2613266706466675, 0.0, 0.0], [0.5908162593841553, 0.05029090866446495, 0.04166603460907936, 0.21994978189468384, 0.09727699309587479, 0.0], [0.8481417894363403, 0.06318075954914093, 0.014733638614416122, 0.05526724457740784, 0.009014974348247051, 0.00966163445264101]], [[1.0, 0.0, 0.0, 0.0, 0.0, 0.0], [0.9627320766448975, 0.03726793825626373, 0.0, 0.0, 0.0, 0.0], [0.7757524251937866, 0.1799626648426056, 0.04428498446941376, 0.0, 0.0, 0.0], [0.6317059397697449, 0.24380728602409363, 0.10925653576850891, 0.01523028314113617, 0.0, 0.0], [0.9539909958839417, 0.01818229816854, 0.011601812206208706, 0.01229910645633936, 0.00392577052116394, 0.0], [0.4035704433917999, 0.14237545430660248, 0.05661192536354065, 0.19757333397865295, 0.0929916650056839, 0.10687712579965591]], [[1.0, 0.0, 0.0, 0.0, 0.0, 0.0], [0.9802619218826294, 0.01973811723291874, 0.0, 0.0, 0.0, 0.0], [0.9873908162117004, 0.007800452411174774, 0.00480868574231863, 0.0, 0.0, 0.0], [0.9283919334411621, 0.008301219902932644, 0.013305614702403545, 0.0500011146068573, 0.0, 0.0], [0.8981052041053772, 0.015591354109346867, 0.010177597403526306, 0.03998708724975586, 0.03613870218396187, 0.0], [0.975350022315979, 0.0003543293569236994, 0.0005866012652404606, 0.0011877465294674039, 0.0010750875808298588, 0.021446354687213898]], [[1.0, 0.0, 0.0, 0.0, 0.0, 0.0], [0.9295329451560974, 0.07046709209680557, 0.0, 0.0, 0.0, 0.0], [0.9361505508422852, 0.04116690158843994, 0.022682547569274902, 0.0, 0.0, 0.0], [0.8486821055412292, 0.05802801251411438, 0.02485615387558937, 0.06843377649784088, 0.0, 0.0], [0.8661177754402161, 0.02232472412288189, 0.010369136929512024, 0.026001974940299988, 0.07518628984689713, 0.0], [0.807442307472229, 0.04438251629471779, 0.01849709264934063, 0.03357788547873497, 0.01856123097240925, 0.07753894478082657]], [[1.0, 0.0, 0.0, 0.0, 0.0, 0.0], [0.9680535197257996, 0.03194640576839447, 0.0, 0.0, 0.0, 0.0], [0.9693689942359924, 0.025684943422675133, 0.004946070723235607, 0.0, 0.0, 0.0], [0.9620568156242371, 0.022552426904439926, 0.005471321754157543, 0.00991943757981062, 0.0, 0.0], [0.9727528095245361, 0.010137123987078667, 0.0007573259063065052, 0.0028828901704400778, 0.013469826430082321, 0.0], [0.9624637365341187, 0.0031108998227864504, 0.0010007566306740046, 0.0019475880544632673, 0.008266217075288296, 0.02321082539856434]], [[1.0, 0.0, 0.0, 0.0, 0.0, 0.0], [0.8542505502700806, 0.14574944972991943, 0.0, 0.0, 0.0, 0.0], [0.9725968837738037, 0.014116310514509678, 0.013286844827234745, 0.0, 0.0, 0.0], [0.9257622957229614, 0.03257264941930771, 0.014612086117267609, 0.027053099125623703, 0.0, 0.0], [0.792343258857727, 0.02730495296418667, 0.018806645646691322, 0.13854117691516876, 0.023003915324807167, 0.0], [0.6152057647705078, 0.026655277237296104, 0.02935294434428215, 0.05590888485312462, 0.11611244082450867, 0.1567646861076355]], [[1.0, 0.0, 0.0, 0.0, 0.0, 0.0], [0.9804654121398926, 0.019534608349204063, 0.0, 0.0, 0.0, 0.0], [0.9882452487945557, 0.0075094737112522125, 0.004245333839207888, 0.0, 0.0, 0.0], [0.9584206342697144, 0.010963579639792442, 0.010456090793013573, 0.02015974558889866, 0.0, 0.0], [0.9604811668395996, 0.007182634435594082, 0.003072342136874795, 0.006898920051753521, 0.02236509881913662, 0.0], [0.966888964176178, 0.0032812876161187887, 0.005500525701791048, 0.004234071355313063, 0.005038036964833736, 0.015057153068482876]], [[1.0, 0.0, 0.0, 0.0, 0.0, 0.0], [0.9498194456100464, 0.05018056929111481, 0.0, 0.0, 0.0, 0.0], [0.9781363606452942, 0.016430014744400978, 0.0054335566237568855, 0.0, 0.0, 0.0], [0.8618696928024292, 0.03609359264373779, 0.07555550336837769, 0.02648121677339077, 0.0, 0.0], [0.5449833273887634, 0.015411170199513435, 0.023516561836004257, 0.25743651390075684, 0.1586524099111557, 0.0], [0.9571872353553772, 0.0030803862027823925, 0.001444687251932919, 0.006861570756882429, 0.014818773604929447, 0.01660725846886635]]], [[[1.0, 0.0, 0.0, 0.0, 0.0, 0.0], [0.6156558990478516, 0.38434410095214844, 0.0, 0.0, 0.0, 0.0], [0.36760637164115906, 0.4281635284423828, 0.20423008501529694, 0.0, 0.0, 0.0], [0.16471554338932037, 0.4136790931224823, 0.25092369318008423, 0.17068170011043549, 0.0, 0.0], [0.41844603419303894, 0.1524759829044342, 0.10305387526750565, 0.11071505397558212, 0.2153090536594391, 0.0], [0.19686944782733917, 0.2014620006084442, 0.12827245891094208, 0.09203250706195831, 0.09167572110891342, 0.2896878719329834]], [[1.0, 0.0, 0.0, 0.0, 0.0, 0.0], [0.9027364253997803, 0.09726354479789734, 0.0, 0.0, 0.0, 0.0], [0.9736634492874146, 0.014004308730363846, 0.012332304380834103, 0.0, 0.0, 0.0], [0.8504458069801331, 0.05690572410821915, 0.0320608876645565, 0.060587674379348755, 0.0, 0.0], [0.7661210298538208, 0.035303983837366104, 0.034330468624830246, 0.09675202518701553, 0.06749249994754791, 0.0], [0.8650374412536621, 0.020085250958800316, 0.011498045176267624, 0.018558338284492493, 0.01843029074370861, 0.06639048457145691]], [[1.0, 0.0, 0.0, 0.0, 0.0, 0.0], [0.9653082489967346, 0.03469175845384598, 0.0, 0.0, 0.0, 0.0], [0.9816323518753052, 0.014176120050251484, 0.004191520158201456, 0.0, 0.0, 0.0], [0.9275255799293518, 0.047372229397296906, 0.01152825728058815, 0.013573972508311272, 0.0, 0.0], [0.9293116331100464, 0.025833334773778915, 0.00722711905837059, 0.014300617389380932, 0.02332731895148754, 0.0], [0.8895061612129211, 0.04689623787999153, 0.004717108327895403, 0.006286590360105038, 0.006090145092457533, 0.046503737568855286]], [[1.0, 0.0, 0.0, 0.0, 0.0, 0.0], [0.8938026428222656, 0.10619734972715378, 0.0, 0.0, 0.0, 0.0], [0.8221704959869385, 0.0630449652671814, 0.11478453874588013, 0.0, 0.0, 0.0], [0.504737913608551, 0.15375745296478271, 0.2277037650346756, 0.11380090564489365, 0.0, 0.0], [0.408207505941391, 0.09066356718540192, 0.11696860939264297, 0.24553196132183075, 0.13862837851047516, 0.0], [0.7291039824485779, 0.06638889759778976, 0.023112764582037926, 0.03110308013856411, 0.057143207639455795, 0.09314805269241333]], [[1.0, 0.0, 0.0, 0.0, 0.0, 0.0], [0.9247532486915588, 0.07524667680263519, 0.0, 0.0, 0.0, 0.0], [0.8957375288009644, 0.0698956698179245, 0.03436680883169174, 0.0, 0.0, 0.0], [0.7924939393997192, 0.09601141512393951, 0.055091116577386856, 0.05640348419547081, 0.0, 0.0], [0.7891505360603333, 0.07880303263664246, 0.038401566445827484, 0.05396980792284012, 0.03967497497797012, 0.0], [0.7807857990264893, 0.07993537932634354, 0.04253169521689415, 0.0323420912027359, 0.01781693659722805, 0.046588022261857986]], [[1.0, 0.0, 0.0, 0.0, 0.0, 0.0], [0.9480886459350586, 0.051911361515522, 0.0, 0.0, 0.0, 0.0], [0.8636947274208069, 0.047562114894390106, 0.08874311298131943, 0.0, 0.0, 0.0], [0.9341371059417725, 0.022224102169275284, 0.02262447215616703, 0.021014317870140076, 0.0, 0.0], [0.9588143229484558, 0.008020913228392601, 0.00449007423594594, 0.005862290970981121, 0.022812429815530777, 0.0], [0.9385915994644165, 0.021227732300758362, 0.004872470628470182, 0.010940169915556908, 0.00952459778636694, 0.014843432232737541]], [[1.0, 0.0, 0.0, 0.0, 0.0, 0.0], [0.9763734340667725, 0.023626575246453285, 0.0, 0.0, 0.0, 0.0], [0.9884802103042603, 0.005189401097595692, 0.006330376956611872, 0.0, 0.0, 0.0], [0.9477092027664185, 0.01798512227833271, 0.01015659049153328, 0.024148991331458092, 0.0, 0.0], [0.967192530632019, 0.006552820093929768, 0.003322787582874298, 0.005563332233577967, 0.017368430271744728, 0.0], [0.9584562182426453, 0.007502950727939606, 0.005136321298778057, 0.008071633987128735, 0.005997124593704939, 0.014835822395980358]], [[1.0, 0.0, 0.0, 0.0, 0.0, 0.0], [0.8840707540512085, 0.11592917889356613, 0.0, 0.0, 0.0, 0.0], [0.993125319480896, 0.005070813000202179, 0.001803804305382073, 0.0, 0.0, 0.0], [0.9534159302711487, 0.02382904477417469, 0.007748977281153202, 0.015006083063781261, 0.0, 0.0], [0.9151288270950317, 0.010873109102249146, 0.013190994039177895, 0.011050457134842873, 0.04975670576095581, 0.0], [0.8769673109054565, 0.03385206684470177, 0.008486486040055752, 0.00996914878487587, 0.03468582034111023, 0.036039143800735474]], [[1.0, 0.0, 0.0, 0.0, 0.0, 0.0], [0.00037095232983119786, 0.999629020690918, 0.0, 0.0, 0.0, 0.0], [6.52503440505825e-05, 0.3737829029560089, 0.6261518597602844, 0.0, 0.0, 0.0], [4.606043148669414e-05, 0.2105088084936142, 0.41159671545028687, 0.37784847617149353, 0.0, 0.0], [4.753101893584244e-05, 0.11616963148117065, 0.23264296352863312, 0.39853277802467346, 0.2526070773601532, 0.0], [1.2476490383050987e-06, 0.14819712936878204, 0.15813180804252625, 0.3007434010505676, 0.1193903386592865, 0.2735360860824585]], [[1.0, 0.0, 0.0, 0.0, 0.0, 0.0], [0.971555769443512, 0.028444208204746246, 0.0, 0.0, 0.0, 0.0], [0.9529064297676086, 0.03233075514435768, 0.014762774109840393, 0.0, 0.0, 0.0], [0.9343128204345703, 0.023512959480285645, 0.020498039200901985, 0.021676229313015938, 0.0, 0.0], [0.9529678225517273, 0.008551419712603092, 0.004359327722340822, 0.008064564317464828, 0.026056963950395584, 0.0], [0.9653593897819519, 0.008487634360790253, 0.0034992769360542297, 0.002721574855968356, 0.003282879013568163, 0.016649359837174416]], [[1.0, 0.0, 0.0, 0.0, 0.0, 0.0], [0.8630780577659607, 0.1369219571352005, 0.0, 0.0, 0.0, 0.0], [0.7696154713630676, 0.08513347804546356, 0.14525099098682404, 0.0, 0.0, 0.0], [0.7133335471153259, 0.1017090231180191, 0.11931280791759491, 0.06564461439847946, 0.0, 0.0], [0.7186217904090881, 0.05444299057126045, 0.013868164271116257, 0.07808036357164383, 0.13498666882514954, 0.0], [0.7990153431892395, 0.05805588886141777, 0.009446998126804829, 0.017770439386367798, 0.021138519048690796, 0.09457285702228546]], [[1.0, 0.0, 0.0, 0.0, 0.0, 0.0], [0.9518987536430359, 0.048101164400577545, 0.0, 0.0, 0.0, 0.0], [0.858065128326416, 0.029445793479681015, 0.1124889999628067, 0.0, 0.0, 0.0], [0.6577739715576172, 0.08513444662094116, 0.12613075971603394, 0.13096076250076294, 0.0, 0.0], [0.8087368011474609, 0.03230167180299759, 0.018418176099658012, 0.06856147944927216, 0.07198195159435272, 0.0], [0.6683297753334045, 0.13281387090682983, 0.021880609914660454, 0.027877431362867355, 0.0492340512573719, 0.09986425191164017]]]], \"left_text\": [\"No\", \",\", \" I\", \" am\", \" your\", \" father\"], \"right_text\": [\"No\", \",\", \" I\", \" am\", \" your\", \" father\"]}], \"default_filter\": \"0\", \"display_mode\": \"dark\", \"root_div_id\": \"bertviz-02b3e196663447f29febaa8f9ac1b7cb\", \"include_layers\": [0, 1, 2, 3, 4, 5, 6, 7, 8, 9, 10, 11], \"include_heads\": [0, 1, 2, 3, 4, 5, 6, 7, 8, 9, 10, 11], \"total_heads\": 12} is a template marker that is replaced by actual params.\n",
       "        const config = {};\n",
       "\n",
       "        const MIN_X = 0;\n",
       "        const MIN_Y = 0;\n",
       "        const DIV_WIDTH = 970;\n",
       "        const THUMBNAIL_PADDING = 5;\n",
       "        const DETAIL_WIDTH = 300;\n",
       "        const DETAIL_ATTENTION_WIDTH = 140;\n",
       "        const DETAIL_BOX_WIDTH = 80;\n",
       "        const DETAIL_BOX_HEIGHT = 18;\n",
       "        const DETAIL_PADDING = 15;\n",
       "        const ATTN_PADDING = 0;\n",
       "        const DETAIL_HEADING_HEIGHT = 25;\n",
       "        const HEADING_TEXT_SIZE = 15;\n",
       "        const HEADING_PADDING = 5;\n",
       "        const TEXT_SIZE = 13;\n",
       "        const TEXT_PADDING = 5;\n",
       "        const LAYER_COLORS = d3.schemeCategory10;\n",
       "        const PALETTE = {\n",
       "            'light': {\n",
       "                'text': 'black',\n",
       "                'background': 'white',\n",
       "                'highlight': '#F5F5F5'\n",
       "            },\n",
       "            'dark': {\n",
       "                'text': '#ccc',\n",
       "                'background': 'black',\n",
       "                'highlight': '#222'\n",
       "            }\n",
       "        }\n",
       "\n",
       "        function render() {\n",
       "\n",
       "            // Set global state variables\n",
       "\n",
       "            var attData = config.attention[config.filter];\n",
       "            config.leftText = attData.left_text;\n",
       "            config.rightText = attData.right_text;\n",
       "            config.attn = attData.attn;\n",
       "            config.numLayers = config.attn.length;\n",
       "            config.numHeads = config.attn[0].length;\n",
       "            config.thumbnailBoxHeight = 7 * (12 / config.totalHeads);\n",
       "            const axisSize = HEADING_TEXT_SIZE + HEADING_PADDING + TEXT_SIZE + TEXT_PADDING;\n",
       "            config.thumbnailHeight = Math.max(config.leftText.length, config.rightText.length) * config.thumbnailBoxHeight + 2 * THUMBNAIL_PADDING;\n",
       "            config.thumbnailWidth = (DIV_WIDTH - axisSize) / config.totalHeads;\n",
       "            config.detailHeight = Math.max(config.leftText.length, config.rightText.length) * DETAIL_BOX_HEIGHT + 2 * DETAIL_PADDING + DETAIL_HEADING_HEIGHT;\n",
       "            config.divHeight = Math.max(config.numLayers * config.thumbnailHeight + axisSize, config.detailHeight);\n",
       "\n",
       "            const vis = $(`#${config.rootDivId} #vis`)\n",
       "            vis.empty();\n",
       "            vis.attr(\"height\", config.divHeight);\n",
       "            config.svg = d3.select(`#${config.rootDivId} #vis`)\n",
       "                .append('svg')\n",
       "                .attr(\"width\", DIV_WIDTH)\n",
       "                .attr(\"height\", config.divHeight)\n",
       "                .attr(\"fill\", getBackgroundColor());\n",
       "\n",
       "            renderAxisLabels();\n",
       "\n",
       "            var i;\n",
       "            var j;\n",
       "            for (i = 0; i < config.numLayers; i++) {\n",
       "                for (j = 0; j < config.numHeads; j++) {\n",
       "                    renderThumbnail(i, j);\n",
       "                }\n",
       "            }\n",
       "        }\n",
       "\n",
       "        function renderAxisLabels() {\n",
       "            const axisSize = HEADING_TEXT_SIZE + HEADING_PADDING + TEXT_SIZE + TEXT_PADDING;\n",
       "            const tableWidth = config.thumbnailWidth * config.heads.length;\n",
       "            config.svg.append(\"text\")\n",
       "                .text(\"Heads\")\n",
       "                .attr(\"fill\", \"black\")\n",
       "                .attr(\"font-weight\", \"bold\")\n",
       "                .attr(\"font-size\", HEADING_TEXT_SIZE + \"px\")\n",
       "                .attr(\"x\", axisSize + tableWidth / 2)\n",
       "                .attr(\"text-anchor\", \"middle\")\n",
       "                .attr(\"y\", 0)\n",
       "                .attr(\"dy\", HEADING_TEXT_SIZE);\n",
       "            for (let i = 0; i < config.numHeads; i++) {\n",
       "                config.svg.append(\"text\")\n",
       "                    .text(config.heads[i])\n",
       "                    .attr(\"fill\", \"black\")\n",
       "                    .attr(\"font-size\", TEXT_SIZE + \"px\")\n",
       "                    .attr(\"x\", axisSize + (i + .5) * config.thumbnailWidth)\n",
       "                    .attr(\"text-anchor\", \"middle\")\n",
       "                    .attr(\"y\", HEADING_TEXT_SIZE + HEADING_PADDING)\n",
       "                    .attr(\"dy\", TEXT_SIZE);\n",
       "            }\n",
       "            let x = 0;\n",
       "            let y = axisSize + config.thumbnailHeight * config.layers.length / 2;\n",
       "            console.log(\"x\", x, y)\n",
       "            config.svg.append(\"text\")\n",
       "                .text(\"Layers\")\n",
       "                .attr(\"fill\", \"black\")\n",
       "                .attr(\"font-weight\", \"bold\")\n",
       "                .attr(\"transform\", \"rotate(270, \" + x  + \", \" + y + \")\")\n",
       "                .attr(\"font-size\", HEADING_TEXT_SIZE + \"px\")\n",
       "                .attr(\"x\", x)\n",
       "                .attr(\"text-anchor\", \"middle\")\n",
       "                .attr(\"y\", y)\n",
       "                .attr(\"dy\", HEADING_TEXT_SIZE);\n",
       "            for (let i = 0; i < config.numLayers; i++) {\n",
       "                x = HEADING_TEXT_SIZE + HEADING_PADDING + TEXT_SIZE; // HACK\n",
       "                y = axisSize + (i + .5) * config.thumbnailHeight;\n",
       "                config.svg.append(\"text\")\n",
       "                    .text(config.layers[i])\n",
       "                    .attr(\"fill\", \"black\")\n",
       "                    .attr(\"font-size\", TEXT_SIZE + \"px\")\n",
       "                    .attr(\"x\", x)\n",
       "                    .attr(\"text-anchor\", \"end\")\n",
       "                    .attr(\"y\", y)\n",
       "                    .attr(\"dy\", TEXT_SIZE / 2);\n",
       "            }\n",
       "        }\n",
       "\n",
       "\n",
       "        function renderThumbnail(layerIndex, headIndex) {\n",
       "            const axisSize = HEADING_TEXT_SIZE + HEADING_PADDING + TEXT_SIZE + TEXT_PADDING\n",
       "            const x = headIndex * config.thumbnailWidth + axisSize;\n",
       "            const y = layerIndex * config.thumbnailHeight + axisSize;\n",
       "            renderThumbnailAttn(x, y, config.attn[layerIndex][headIndex], layerIndex, headIndex);\n",
       "        }\n",
       "\n",
       "        function renderDetail(att, layerIndex, headIndex) {\n",
       "            const axisSize = TEXT_SIZE + HEADING_PADDING + TEXT_SIZE + TEXT_PADDING;\n",
       "            var xOffset = .8 * config.thumbnailWidth;\n",
       "            var maxX = DIV_WIDTH;\n",
       "            var maxY = config.divHeight - 3;\n",
       "            var leftPos = axisSize + headIndex * config.thumbnailWidth;\n",
       "            var x = leftPos + THUMBNAIL_PADDING + xOffset;\n",
       "            if (x < MIN_X) {\n",
       "                x = MIN_X;\n",
       "            } else if (x + DETAIL_WIDTH > maxX) {\n",
       "                x = leftPos + THUMBNAIL_PADDING - DETAIL_WIDTH + 8;\n",
       "            }\n",
       "            var posLeftText = x;\n",
       "            var posAttention = posLeftText + DETAIL_BOX_WIDTH;\n",
       "            var posRightText = posAttention + DETAIL_ATTENTION_WIDTH;\n",
       "            var thumbnailHeight = Math.max(config.leftText.length, config.rightText.length) * config.thumbnailBoxHeight + 2 * THUMBNAIL_PADDING;\n",
       "            var yOffset = 20;\n",
       "            var y = layerIndex * thumbnailHeight + THUMBNAIL_PADDING + yOffset;\n",
       "            if (y < MIN_Y) {\n",
       "                y = MIN_Y;\n",
       "            } else if (y + config.detailHeight > maxY) {\n",
       "                y = maxY - config.detailHeight;\n",
       "            }\n",
       "            renderDetailFrame(x, y, layerIndex);\n",
       "            y = y + DETAIL_PADDING;\n",
       "            renderDetailHeading(x, y, layerIndex, headIndex);\n",
       "            y = y + DETAIL_HEADING_HEIGHT;\n",
       "            renderDetailText(config.leftText, \"leftText\", posLeftText, y , layerIndex);\n",
       "            renderDetailAttn(posAttention, y, att, layerIndex, headIndex);\n",
       "            renderDetailText(config.rightText, \"rightText\", posRightText, y, layerIndex);\n",
       "        }\n",
       "\n",
       "        function renderDetailHeading(x, y, layerIndex, headIndex) {\n",
       "            var fillColor = getTextColor();\n",
       "            config.svg.append(\"text\")\n",
       "                .classed(\"detail\", true)\n",
       "                .text('Layer ' + config.layers[layerIndex] + \", Head \" + config.heads[headIndex])\n",
       "                .attr(\"font-size\", TEXT_SIZE + \"px\")\n",
       "                .attr(\"font-weight\", \"bold\")\n",
       "                .style(\"cursor\", \"default\")\n",
       "                .style(\"-webkit-user-select\", \"none\")\n",
       "                .attr(\"fill\", fillColor)\n",
       "                .attr(\"x\", x + DETAIL_WIDTH / 2)\n",
       "                .attr(\"text-anchor\", \"middle\")\n",
       "                .attr(\"y\", y)\n",
       "                .attr(\"height\", DETAIL_HEADING_HEIGHT)\n",
       "                .attr(\"width\", DETAIL_WIDTH)\n",
       "                .attr(\"dy\", HEADING_TEXT_SIZE);\n",
       "        }\n",
       "\n",
       "        function renderDetailText(text, id, x, y, layerIndex) {\n",
       "            var tokenContainer = config.svg.append(\"svg:g\")\n",
       "                .classed(\"detail\", true)\n",
       "                .selectAll(\"g\")\n",
       "                .data(text)\n",
       "                .enter()\n",
       "                .append(\"g\");\n",
       "\n",
       "            var fillColor = getTextColor();\n",
       "\n",
       "            tokenContainer.append(\"rect\")\n",
       "                .classed(\"highlight\", true)\n",
       "                .attr(\"fill\", fillColor)\n",
       "                .style(\"opacity\", 0.0)\n",
       "                .attr(\"height\", DETAIL_BOX_HEIGHT)\n",
       "                .attr(\"width\", DETAIL_BOX_WIDTH)\n",
       "                .attr(\"x\", x)\n",
       "                .attr(\"y\", function (d, i) {\n",
       "                    return y + i * DETAIL_BOX_HEIGHT;\n",
       "                });\n",
       "\n",
       "            var textContainer = tokenContainer.append(\"text\")\n",
       "                .classed(\"token\", true)\n",
       "                .text(function (d) {\n",
       "                    return d;\n",
       "                })\n",
       "                .attr(\"font-size\", TEXT_SIZE + \"px\")\n",
       "                .style(\"cursor\", \"default\")\n",
       "                .style(\"-webkit-user-select\", \"none\")\n",
       "                .attr(\"fill\", fillColor)\n",
       "                .attr(\"x\", x)\n",
       "                .attr(\"y\", function (d, i) {\n",
       "                    return i * DETAIL_BOX_HEIGHT + y;\n",
       "                })\n",
       "                .attr(\"height\", DETAIL_BOX_HEIGHT)\n",
       "                .attr(\"width\", DETAIL_BOX_WIDTH)\n",
       "                .attr(\"dy\", TEXT_SIZE);\n",
       "\n",
       "            if (id == \"leftText\") {\n",
       "                textContainer.style(\"text-anchor\", \"end\")\n",
       "                    .attr(\"dx\", DETAIL_BOX_WIDTH - 2);\n",
       "                tokenContainer.on(\"mouseover\", function (d, index) {\n",
       "                    highlightSelection(index);\n",
       "                });\n",
       "                tokenContainer.on(\"mouseleave\", function () {\n",
       "                    unhighlightSelection();\n",
       "                });\n",
       "            }\n",
       "        }\n",
       "\n",
       "        function highlightSelection(index) {\n",
       "            config.svg.select(\"#leftText\")\n",
       "                .selectAll(\".highlight\")\n",
       "                .style(\"opacity\", function (d, i) {\n",
       "                    return i == index ? 1.0 : 0.0;\n",
       "                });\n",
       "            config.svg.selectAll(\".attn-line-group\")\n",
       "                .style(\"opacity\", function (d, i) {\n",
       "                    return i == index ? 1.0 : 0.0;\n",
       "                });\n",
       "        }\n",
       "\n",
       "        function unhighlightSelection() {\n",
       "            config.svg.select(\"#leftText\")\n",
       "                .selectAll(\".highlight\")\n",
       "                .style(\"opacity\", 0.0);\n",
       "            config.svg.selectAll(\".attn-line-group\")\n",
       "                .style(\"opacity\", 1);\n",
       "        }\n",
       "\n",
       "        function renderThumbnailAttn(x, y, att, layerIndex, headIndex) {\n",
       "\n",
       "            var attnContainer = config.svg.append(\"svg:g\");\n",
       "\n",
       "            var attnBackground = attnContainer.append(\"rect\")\n",
       "                .attr(\"id\", 'attn_background_' + layerIndex + \"_\" + headIndex)\n",
       "                .classed(\"attn_background\", true)\n",
       "                .attr(\"x\", x)\n",
       "                .attr(\"y\", y)\n",
       "                .attr(\"height\", config.thumbnailHeight)\n",
       "                .attr(\"width\", config.thumbnailWidth)\n",
       "                .attr(\"stroke-width\", 2)\n",
       "                .attr(\"stroke\", getLayerColor(layerIndex))\n",
       "                .attr(\"stroke-opacity\", 0)\n",
       "                .attr(\"fill\", getBackgroundColor());\n",
       "            var x1 = x + THUMBNAIL_PADDING;\n",
       "            var x2 = x1 + config.thumbnailWidth - 14;\n",
       "            var y1 = y + THUMBNAIL_PADDING;\n",
       "\n",
       "            attnContainer.selectAll(\"g\")\n",
       "                .data(att)\n",
       "                .enter()\n",
       "                .append(\"g\") // Add group for each source token\n",
       "                .attr(\"source-index\", function (d, i) { // Save index of source token\n",
       "                    return i;\n",
       "                })\n",
       "                .selectAll(\"line\")\n",
       "                .data(function (d) { // Loop over all target tokens\n",
       "                    return d;\n",
       "                })\n",
       "                .enter() // When entering\n",
       "                .append(\"line\")\n",
       "                .attr(\"x1\", x1)\n",
       "                .attr(\"y1\", function (d) {\n",
       "                    var sourceIndex = +this.parentNode.getAttribute(\"source-index\");\n",
       "                    return y1 + (sourceIndex + .5) * config.thumbnailBoxHeight;\n",
       "                })\n",
       "                .attr(\"x2\", x2)\n",
       "                .attr(\"y2\", function (d, targetIndex) {\n",
       "                    return y1 + (targetIndex + .5) * config.thumbnailBoxHeight;\n",
       "                })\n",
       "                .attr(\"stroke-width\", 2.2)\n",
       "                .attr(\"stroke\", getLayerColor(layerIndex))\n",
       "                .attr(\"stroke-opacity\", function (d) {\n",
       "                    return d;\n",
       "                });\n",
       "\n",
       "            var clickRegion = attnContainer.append(\"rect\")\n",
       "                .attr(\"x\", x)\n",
       "                .attr(\"y\", y)\n",
       "                .attr(\"height\", config.thumbnailHeight)\n",
       "                .attr(\"width\", config.thumbnailWidth)\n",
       "                .style(\"opacity\", 0);\n",
       "\n",
       "            clickRegion.on(\"click\", function (d, index) {\n",
       "                var attnBackgroundOther = config.svg.selectAll(\".attn_background\");\n",
       "                attnBackgroundOther.attr(\"fill\", getBackgroundColor());\n",
       "                attnBackgroundOther.attr(\"stroke-opacity\", 0);\n",
       "\n",
       "                config.svg.selectAll(\".detail\").remove();\n",
       "                if (config.detail_layer != layerIndex || config.detail_head != headIndex) {\n",
       "                    renderDetail(att, layerIndex, headIndex);\n",
       "                    config.detail_layer = layerIndex;\n",
       "                    config.detail_head = headIndex;\n",
       "                    attnBackground.attr(\"fill\", getHighlightColor());\n",
       "                    attnBackground.attr(\"stroke-opacity\", .8);\n",
       "                } else {\n",
       "                    config.detail_layer = null;\n",
       "                    config.detail_head = null;\n",
       "                    attnBackground.attr(\"fill\", getBackgroundColor());\n",
       "                    attnBackground.attr(\"stroke-opacity\", 0);\n",
       "                }\n",
       "            });\n",
       "\n",
       "            clickRegion.on(\"mouseover\", function (d) {\n",
       "                d3.select(this).style(\"cursor\", \"pointer\");\n",
       "            });\n",
       "        }\n",
       "\n",
       "        function renderDetailFrame(x, y, layerIndex) {\n",
       "            var detailFrame = config.svg.append(\"rect\")\n",
       "                .classed(\"detail\", true)\n",
       "                .attr(\"x\", x)\n",
       "                .attr(\"y\", y)\n",
       "                .attr(\"height\", config.detailHeight)\n",
       "                .attr(\"width\", DETAIL_WIDTH)\n",
       "                .style(\"opacity\", 1)\n",
       "                .attr(\"stroke-width\", 1.5)\n",
       "                .attr(\"stroke-opacity\", 0.7)\n",
       "                .attr(\"stroke\", getLayerColor(layerIndex));\n",
       "        }\n",
       "\n",
       "        function renderDetailAttn(x, y, att, layerIndex) {\n",
       "            var attnContainer = config.svg.append(\"svg:g\")\n",
       "                .classed(\"detail\", true)\n",
       "                .attr(\"pointer-events\", \"none\");\n",
       "            attnContainer.selectAll(\"g\")\n",
       "                .data(att)\n",
       "                .enter()\n",
       "                .append(\"g\") // Add group for each source token\n",
       "                .classed('attn-line-group', true)\n",
       "                .attr(\"source-index\", function (d, i) { // Save index of source token\n",
       "                    return i;\n",
       "                })\n",
       "                .selectAll(\"line\")\n",
       "                .data(function (d) { // Loop over all target tokens\n",
       "                    return d;\n",
       "                })\n",
       "                .enter()\n",
       "                .append(\"line\")\n",
       "                .attr(\"x1\", x + ATTN_PADDING)\n",
       "                .attr(\"y1\", function (d) {\n",
       "                    var sourceIndex = +this.parentNode.getAttribute(\"source-index\");\n",
       "                    return y + (sourceIndex + .5) * DETAIL_BOX_HEIGHT;\n",
       "                })\n",
       "                .attr(\"x2\", x + DETAIL_ATTENTION_WIDTH - ATTN_PADDING)\n",
       "                .attr(\"y2\", function (d, targetIndex) {\n",
       "                    return y + (targetIndex + .5) * DETAIL_BOX_HEIGHT;\n",
       "                })\n",
       "                .attr(\"stroke-width\", 2.2)\n",
       "                .attr(\"stroke\", getLayerColor(layerIndex))\n",
       "                .attr(\"stroke-opacity\", function (d) {\n",
       "                    return d;\n",
       "                });\n",
       "        }\n",
       "\n",
       "        function getLayerColor(layer) {\n",
       "          return LAYER_COLORS[config.layers[layer] % 10];\n",
       "        }\n",
       "\n",
       "        function getTextColor() {\n",
       "            return PALETTE[config.mode]['text']\n",
       "        }\n",
       "\n",
       "        function getBackgroundColor() {\n",
       "           return PALETTE[config.mode]['background']\n",
       "        }\n",
       "\n",
       "        function getHighlightColor() {\n",
       "           return PALETTE[config.mode]['highlight']\n",
       "        }\n",
       "\n",
       "        function initialize() {\n",
       "            config.attention = params['attention'];\n",
       "            config.filter = params['default_filter'];\n",
       "            config.mode = params['display_mode'];\n",
       "            config.layers = params['include_layers']\n",
       "            config.heads = params['include_heads']\n",
       "            config.totalHeads = params['total_heads']\n",
       "            config.rootDivId = params['root_div_id'];\n",
       "            $(`#${config.rootDivId} #filter`).on('change', function (e) {\n",
       "                config.filter = e.currentTarget.value;\n",
       "                render();\n",
       "            });\n",
       "        }\n",
       "\n",
       "        initialize();\n",
       "        render();\n",
       "\n",
       "    });"
      ],
      "text/plain": [
       "<IPython.core.display.Javascript object>"
      ]
     },
     "metadata": {},
     "output_type": "display_data"
    }
   ],
   "source": [
    "from transformers import AutoTokenizer, AutoModel, utils, AutoModelForCausalLM\n",
    "\n",
    "from bertviz import model_view\n",
    "utils.logging.set_verbosity_error()  # Suppress standard warnings\n",
    "\n",
    "model_name = 'openai-community/gpt2'\n",
    "input_text = \"No, I am your father\"  \n",
    "model = AutoModelForCausalLM.from_pretrained(model_name, output_attentions=True)\n",
    "tokenizer = AutoTokenizer.from_pretrained(model_name)\n",
    "inputs = tokenizer.encode(input_text, return_tensors='pt')  # Tokenize input text\n",
    "outputs = model(inputs)  # Run model\n",
    "attention = outputs[-1]  # Retrieve attention from model outputs\n",
    "tokens = tokenizer.convert_ids_to_tokens(inputs[0])  # Convert input ids to token strings\n",
    "model_view(attention, tokens)  # Display model view"
   ]
  },
  {
   "cell_type": "markdown",
   "metadata": {},
   "source": [
    "## Positional encoding"
   ]
  },
  {
   "cell_type": "markdown",
   "metadata": {
    "id": "IFq78-kjbrWp"
   },
   "source": [
    "Last week, Carlo discussed token embedding, which is when words are encoded into a vocabulary. Now, we just discussed attention mechanisms which account for context between words. Another question we should ask is how do we account for the order of words in an input sentence\n",
    "\n",
    "Consider the following two sentences to see why this is important:\n",
    "\n",
    "``The man ate the sandwich.``\n",
    "\n",
    "``The sandwich ate the man.``\n",
    "\n",
    "Clearly, these are two vastly different situations even though they have the same words. The Transformer can \n",
    "\n",
    "Transformers differentiate between these situations by adding a **Positional encoding** vector to each input embedding. These vectors follow a specific pattern that the model learns, which helps it determine the position of each word."
   ]
  },
  {
   "cell_type": "markdown",
   "metadata": {},
   "source": [
    "<img src=\"images/positional_encoding.png\" alt=\"Drawing\" style=\"width: 500px;\"/>\n",
    "Image credit: https://medium.com/@xuer.chen.human/llm-study-notes-positional-encoding-0639a1002ec0"
   ]
  },
  {
   "cell_type": "markdown",
   "metadata": {},
   "source": [
    "We set up positional encoding similarly as token embedding using the ``nn.Embedding`` tool. We use a simple embedding here but there are more complex positional encodings used such as sinusoidal. \n",
    "\n",
    "For an explanation of different positional encodings, refer to this post: https://machinelearningmastery.com/a-gentle-introduction-to-positional-encoding-in-transformer-models-part-1/"
   ]
  },
  {
   "cell_type": "code",
   "execution_count": 6,
   "metadata": {},
   "outputs": [],
   "source": [
    "vocab_size = 65\n",
    "n_embd = 64\n",
    "\n",
    "token_embedding_table = nn.Embedding(vocab_size, n_embd)\n",
    "block_size = 32 # what is the maximum context length for predictions?\n",
    "position_embedding_table = nn.Embedding(block_size, n_embd)"
   ]
  },
  {
   "cell_type": "markdown",
   "metadata": {},
   "source": [
    "You will notice the positional encoding size is `(block_size, n_embed)` because it encodes for the postion of a token within the sequence of size `block_size`"
   ]
  },
  {
   "cell_type": "markdown",
   "metadata": {},
   "source": [
    "Then, the position embedding used is simply added to the token embedding to apply positional embedding."
   ]
  },
  {
   "cell_type": "markdown",
   "metadata": {},
   "source": [
    "Let's look at token embedding alone:"
   ]
  },
  {
   "cell_type": "code",
   "execution_count": 8,
   "metadata": {
    "scrolled": false,
    "tags": []
   },
   "outputs": [
    {
     "name": "stdout",
     "output_type": "stream",
     "text": [
      "tensor([ 0.7221, -0.9629, -2.0578,  1.9740,  0.7434,  1.1139,  0.6926,  0.0296,\n",
      "         0.6405, -1.6464,  0.4935,  0.7485,  0.9238, -0.4940,  0.4814, -0.3859,\n",
      "        -0.3094,  1.1066, -0.2891,  0.1891,  2.0440, -0.7945, -0.4331,  0.3007,\n",
      "         1.4317,  0.2881, -0.4343,  0.4280,  1.2469,  1.4047, -0.3404, -2.2190,\n",
      "         0.4893,  0.0398, -0.2717, -2.2400, -0.0029, -1.4251,  0.7330,  0.3551,\n",
      "         0.1472, -1.1895, -0.8407,  0.3134, -0.6709, -0.8176,  0.6929, -0.6374,\n",
      "         0.3174,  0.4837, -0.0073, -1.5924,  1.8606, -1.2910, -0.1594,  0.3111,\n",
      "        -0.1536, -0.3414, -0.0170, -0.1633,  0.2794,  0.6755,  0.7066, -1.6665],\n",
      "       grad_fn=<SelectBackward0>)\n"
     ]
    }
   ],
   "source": [
    "x = torch.tensor([1,3,15,4,7,1,4,9])\n",
    "x = token_embedding_table(x)\n",
    "print(x[0])"
   ]
  },
  {
   "cell_type": "markdown",
   "metadata": {},
   "source": [
    "And token + positional embeddings:"
   ]
  },
  {
   "cell_type": "code",
   "execution_count": 10,
   "metadata": {
    "scrolled": false
   },
   "outputs": [
    {
     "name": "stdout",
     "output_type": "stream",
     "text": [
      "tensor([ 0.4326, -1.6287, -0.8684,  3.0704,  0.3646,  1.9826,  0.7582, -0.1918,\n",
      "         1.0491, -2.2562, -0.4931, -0.7808,  1.7206, -1.0297,  2.0798, -1.3427,\n",
      "        -0.7896, -0.1746,  0.0926,  0.0543,  2.3831, -0.6208,  0.3902,  0.1097,\n",
      "         1.0455, -1.4557,  0.3402,  2.6717,  1.8380,  1.2628, -0.4831, -4.6023,\n",
      "         0.6959,  1.0347,  0.5903, -0.7541,  0.4682, -0.3895,  2.1526,  0.6272,\n",
      "        -0.8558, -0.8434,  0.1311, -1.0272, -2.0580,  0.0584,  0.3442, -0.3464,\n",
      "        -0.3444,  2.3134, -1.1142, -1.4629,  3.3503, -2.0594,  1.4105,  0.4558,\n",
      "        -1.3366,  1.9283,  1.5187,  0.3906,  1.1448, -0.8422,  2.2692, -0.7949],\n",
      "       grad_fn=<SelectBackward0>)\n"
     ]
    }
   ],
   "source": [
    "x = torch.tensor([1,3,15,4,7,1,4,9])\n",
    "x= position_embedding_table(x) + token_embedding_table(x)\n",
    "print(x[0])"
   ]
  },
  {
   "cell_type": "markdown",
   "metadata": {},
   "source": [
    "You can see a clear offset between these two embeddings."
   ]
  },
  {
   "cell_type": "markdown",
   "metadata": {},
   "source": [
    "During the training process, these embeddings will be learned to best encode the token and positional embeddings of the sequences."
   ]
  },
  {
   "cell_type": "markdown",
   "metadata": {
    "id": "iF1HzH9xNJ7S"
   },
   "source": [
    "## Output layers\n",
    "\n",
    "At the end of our Transformer model, we are left with a vector, so how do we turn this into a word?\n",
    "\n",
    "<img src=\"images/transformer-decoder-intro.png\" alt=\"Drawing\" style=\"width: 400px;\"/>\n",
    "\n",
    "Using a final Linear layer and a Softmax Layer.\n",
    "The Linear layer projects the vector produced by the stack of decoders, into a larger vector called a logits vector.\n",
    "\n",
    "If our model knows 10,000 unique English words learned from its training dataset the logits vector is 10,000 cells wide – each cell corresponds to the score of a unique word.\n",
    "\n",
    "The softmax layer turns those scores into probabilities. The cell with the highest probability is chosen, and the word associated with it is produced as the output for this time step."
   ]
  },
  {
   "cell_type": "markdown",
   "metadata": {},
   "source": [
    "<img src=\"images/transformer_decoder_output_softmax.png\" alt=\"Drawing\" style=\"width: 450px;\"/>"
   ]
  },
  {
   "cell_type": "markdown",
   "metadata": {
    "id": "HS6r-z8dN_RV"
   },
   "source": [
    "Image credit: https://jalammar.github.io/illustrated-transformer/"
   ]
  },
  {
   "cell_type": "markdown",
   "metadata": {
    "id": "XK8q67P03yr4"
   },
   "source": [
    "## Training\n",
    "\n",
    "How does an LLM improve over time?\n",
    "We want to compare the probabilitiy distribution for each token generated by our model to the ground truths. \n",
    "Our model produces a probability distribution for each token. We want to compare these probability distributions to the ground truths. \n",
    "For example, when translating the sentence: “je suis étudiant” into “i am a student” as can be seen in the example:"
   ]
  },
  {
   "cell_type": "markdown",
   "metadata": {},
   "source": [
    "<img src=\"images/output_target_probability_distributions.png\" alt=\"Drawing\" style=\"width: 500px;\"/>"
   ]
  },
  {
   "cell_type": "markdown",
   "metadata": {
    "id": "HS6r-z8dN_RV"
   },
   "source": [
    "Image credit: https://jalammar.github.io/illustrated-transformer/"
   ]
  },
  {
   "cell_type": "markdown",
   "metadata": {},
   "source": [
    "The model can calculate the loss between the vector it generates and the ground truth vector seen in this example. A commonly used loss function is cross entropy loss:\n",
    "\n",
    "$CE = -\\sum_{x \\in X} p(x) log q(x)$\n",
    "\n",
    "where p(x) represents the true distribution and q(x) represents the predicted distribution."
   ]
  },
  {
   "cell_type": "code",
   "execution_count": 6,
   "metadata": {
    "scrolled": true
   },
   "outputs": [
    {
     "name": "stdout",
     "output_type": "stream",
     "text": [
      "tensor(0.9119)\n"
     ]
    }
   ],
   "source": [
    "from torch.nn import functional as F\n",
    "logits = torch.tensor([0.5, 0.1, 0.3])\n",
    "targets = torch.tensor([1.0, 0.0, 0.0])\n",
    "loss = F.cross_entropy(logits, targets)\n",
    "print(loss)"
   ]
  },
  {
   "cell_type": "markdown",
   "metadata": {},
   "source": [
    "Another important metric commonly used in LLMs is **perplexity**.\n",
    "\n",
    "Intuitively, perplexity means to be surprised. We measure how much the model is surprised by seeing new data. The lower the perplexity, the better the training is."
   ]
  },
  {
   "cell_type": "markdown",
   "metadata": {},
   "source": [
    "Mathematically, perplexity is just the exponent of the negative cross entropy loss:\n",
    "\n",
    "$\\text{perplexity} = exp(\\text{CE})$"
   ]
  },
  {
   "cell_type": "code",
   "execution_count": 7,
   "metadata": {},
   "outputs": [
    {
     "name": "stdout",
     "output_type": "stream",
     "text": [
      "tensor(2.4891)\n"
     ]
    }
   ],
   "source": [
    "perplexity = torch.exp(loss)\n",
    "print(perplexity)"
   ]
  },
  {
   "cell_type": "markdown",
   "metadata": {},
   "source": [
    "In this example, we are using cross entropy loss."
   ]
  },
  {
   "cell_type": "markdown",
   "metadata": {},
   "source": [
    "## Let's train a mini-LLM from scratch"
   ]
  },
  {
   "cell_type": "markdown",
   "metadata": {},
   "source": [
    "### Set up hyperparameters:"
   ]
  },
  {
   "cell_type": "code",
   "execution_count": 11,
   "metadata": {},
   "outputs": [],
   "source": [
    "# hyperparameters\n",
    "batch_size = 16 # how many independent sequences will we process in parallel?\n",
    "block_size = 32 # what is the maximum context length for predictions?\n",
    "max_iters = 5000\n",
    "eval_interval = 10\n",
    "learning_rate = 1e-3\n",
    "device = 'cuda' if torch.cuda.is_available() else 'cpu'\n",
    "eval_iters = 200\n",
    "n_embd = 64\n",
    "n_head = 4 ## so head_size = 16\n",
    "n_layer = 4\n",
    "dropout = 0.0\n",
    "# ------------"
   ]
  },
  {
   "cell_type": "markdown",
   "metadata": {},
   "source": [
    "### Load in data and create train and test datasets"
   ]
  },
  {
   "cell_type": "markdown",
   "metadata": {},
   "source": [
    "We're going to be using the tiny Shakespeare dataset. \n",
    "Data is tokenized according to a simple character based tokenizer.\n",
    "Data is split into a train and test set so we have something to test after performing training (9:1 split)."
   ]
  },
  {
   "cell_type": "code",
   "execution_count": 10,
   "metadata": {},
   "outputs": [],
   "source": [
    "with open('dataset/input.txt', 'r', encoding='utf-8') as f:\n",
    "    text = f.read()\n",
    "\n",
    "# here are all the unique characters that occur in this text\n",
    "chars = sorted(list(set(text)))\n",
    "vocab_size = len(chars)\n",
    "# create a mapping from characters to integers\n",
    "stoi = { ch:i for i,ch in enumerate(chars) }\n",
    "itos = { i:ch for i,ch in enumerate(chars) }\n",
    "encode = lambda s: [stoi[c] for c in s] # encoder: take a string, output a list of integers\n",
    "decode = lambda l: ''.join([itos[i] for i in l]) # decoder: take a list of integers, output a string\n",
    "\n",
    "# Train and test splits\n",
    "data = torch.tensor(encode(text), dtype=torch.long)\n",
    "n = int(0.9*len(data)) # first 90% will be train, rest val\n",
    "train_data = data[:n]\n",
    "val_data = data[n:]\n",
    "\n",
    "# data loading\n",
    "def get_batch(split):\n",
    "    # generate a small batch of data of inputs x and targets y\n",
    "    data = train_data if split == 'train' else val_data\n",
    "    ix = torch.randint(len(data) - block_size, (batch_size,))\n",
    "    x = torch.stack([data[i:i+block_size] for i in ix])\n",
    "    y = torch.stack([data[i+1:i+block_size+1] for i in ix])\n",
    "    x, y = x.to(device), y.to(device)\n",
    "    return x, y"
   ]
  },
  {
   "cell_type": "markdown",
   "metadata": {},
   "source": [
    "### Set up the components of the Decoder block: \n",
    "* MultiHeadAttention\n",
    "* FeedForward Network"
   ]
  },
  {
   "cell_type": "code",
   "execution_count": 18,
   "metadata": {},
   "outputs": [],
   "source": [
    "class Head(nn.Module):\n",
    "    \"\"\" one head of self-attention \"\"\"\n",
    "\n",
    "    def __init__(self, head_size):\n",
    "        super().__init__()\n",
    "        self.key = nn.Linear(n_embd, head_size, bias=False)\n",
    "        self.query = nn.Linear(n_embd, head_size, bias=False)\n",
    "        self.value = nn.Linear(n_embd, head_size, bias=False)\n",
    "        self.register_buffer('tril', torch.tril(torch.ones(block_size, block_size)))\n",
    "\n",
    "        self.dropout = nn.Dropout(dropout)\n",
    "\n",
    "    def forward(self, x):\n",
    "        B,T,C = x.shape\n",
    "        k = self.key(x)   # (B,T,C) 16,32,16\n",
    "        q = self.query(x) # (B,T,C)\n",
    "        # compute attention scores (\"affinities\")\n",
    "        wei = q @ k.transpose(-2,-1) * C**-0.5 # (B, T, C) @ (B, C, T) -> (B, T, T)\n",
    "        wei = wei.masked_fill(self.tril[:T, :T] == 0, float('-inf')) # (B, T, T)\n",
    "        wei = F.softmax(wei, dim=-1) # (B, T, T)\n",
    "        wei = self.dropout(wei)\n",
    "        # perform the weighted aggregation of the values\n",
    "        v = self.value(x) # (B,T,C)\n",
    "        out = wei @ v # (B, T, T) @ (B, T, C) -> (B, T, C)\n",
    "        return out\n",
    "\n",
    "class MultiHeadAttention(nn.Module):\n",
    "    \"\"\" multiple heads of self-attention in parallel \"\"\"\n",
    "\n",
    "    def __init__(self, num_heads, head_size):\n",
    "        super().__init__()\n",
    "        self.heads = nn.ModuleList([Head(head_size) for _ in range(num_heads)])\n",
    "        self.proj = nn.Linear(n_embd, n_embd)\n",
    "        self.dropout = nn.Dropout(dropout)\n",
    "\n",
    "    def forward(self, x):\n",
    "        out = torch.cat([h(x) for h in self.heads], dim=-1)\n",
    "        out = self.dropout(self.proj(out))\n",
    "        return out\n",
    "\n",
    "class FeedFoward(nn.Module):\n",
    "    \"\"\" a simple linear layer followed by a non-linearity \"\"\"\n",
    "\n",
    "    def __init__(self, n_embd):\n",
    "        super().__init__()\n",
    "        self.net = nn.Sequential(\n",
    "            nn.Linear(n_embd, 4 * n_embd),\n",
    "            nn.ReLU(),\n",
    "            nn.Linear(4 * n_embd, n_embd), # Projection layer going back into the residual pathway\n",
    "            nn.Dropout(dropout),\n",
    "        )\n",
    "\n",
    "    def forward(self, x):\n",
    "        return self.net(x)\n"
   ]
  },
  {
   "cell_type": "markdown",
   "metadata": {},
   "source": [
    "### Combine components into the Decoder block"
   ]
  },
  {
   "cell_type": "code",
   "execution_count": 19,
   "metadata": {},
   "outputs": [],
   "source": [
    "class Block(nn.Module):\n",
    "    \"\"\" Transformer block: communication followed by computation \"\"\"\n",
    "\n",
    "    def __init__(self, n_embd, n_head):\n",
    "        # n_embd: embedding dimension, n_head: the number of heads we'd like\n",
    "        super().__init__()\n",
    "        head_size = n_embd // n_head\n",
    "        self.sa = MultiHeadAttention(n_head, head_size)\n",
    "        self.ffwd = FeedFoward(n_embd)\n",
    "        self.ln1 = nn.LayerNorm(n_embd)\n",
    "        self.ln2 = nn.LayerNorm(n_embd)\n",
    "\n",
    "    def forward(self, x):\n",
    "        x = x + self.sa(self.ln1(x))    # Communication\n",
    "        x = x + self.ffwd(self.ln2(x))  # Computation\n",
    "        return x"
   ]
  },
  {
   "cell_type": "markdown",
   "metadata": {},
   "source": [
    "### Set up the full Transformer model \n",
    "This is a combination of the Token embeddings, Positional embeddings, a stack of Transformer blocks and an output block."
   ]
  },
  {
   "cell_type": "code",
   "execution_count": 1,
   "metadata": {},
   "outputs": [
    {
     "ename": "NameError",
     "evalue": "name 'nn' is not defined",
     "output_type": "error",
     "traceback": [
      "\u001b[0;31m---------------------------------------------------------------------------\u001b[0m",
      "\u001b[0;31mNameError\u001b[0m                                 Traceback (most recent call last)",
      "Cell \u001b[0;32mIn[1], line 2\u001b[0m\n\u001b[1;32m      1\u001b[0m \u001b[38;5;66;03m# super simple language model\u001b[39;00m\n\u001b[0;32m----> 2\u001b[0m \u001b[38;5;28;01mclass\u001b[39;00m \u001b[38;5;21;01mLanguageModel\u001b[39;00m(nn\u001b[38;5;241m.\u001b[39mModule):\n\u001b[1;32m      4\u001b[0m     \u001b[38;5;28;01mdef\u001b[39;00m \u001b[38;5;21m__init__\u001b[39m(\u001b[38;5;28mself\u001b[39m):\n\u001b[1;32m      5\u001b[0m         \u001b[38;5;28msuper\u001b[39m()\u001b[38;5;241m.\u001b[39m\u001b[38;5;21m__init__\u001b[39m()\n",
      "\u001b[0;31mNameError\u001b[0m: name 'nn' is not defined"
     ]
    }
   ],
   "source": [
    "# super simple language model\n",
    "class LanguageModel(nn.Module):\n",
    "\n",
    "    def __init__(self):\n",
    "        super().__init__()\n",
    "        # each token directly reads off the logits for the next token from a lookup table\n",
    "        self.token_embedding_table = nn.Embedding(vocab_size, n_embd)\n",
    "        self.position_embedding_table = nn.Embedding(block_size, n_embd)\n",
    "        self.blocks = nn.Sequential(*[Block(n_embd, n_head=n_head) for _ in range(n_layer)])\n",
    "        self.ln_f = nn.LayerNorm(n_embd) # final layer norm\n",
    "        self.lm_head = nn.Linear(n_embd, vocab_size)\n",
    "\n",
    "    def forward(self, idx, targets=None):\n",
    "        B, T = idx.shape\n",
    "\n",
    "        # idx and targets are both (B,T) tensor of integers\n",
    "        tok_emb = self.token_embedding_table(idx) # (B,T,C)\n",
    "        pos_emb = self.position_embedding_table(torch.arange(T, device=device)) # (T,C)\n",
    "        x = tok_emb + pos_emb # (B,T,C)\n",
    "        x = self.blocks(x) # (B,T,C)\n",
    "        x = self.ln_f(x) # (B,T,C)\n",
    "        logits = self.lm_head(x) # (B,T,vocab_size)\n",
    "\n",
    "        if targets is None:\n",
    "            loss = None\n",
    "        else:\n",
    "            B, T, C = logits.shape\n",
    "            logits = logits.view(B*T, C)\n",
    "            targets = targets.view(B*T)\n",
    "            loss = F.cross_entropy(logits, targets)\n",
    "\n",
    "        return logits, loss\n",
    "\n",
    "    def generate(self, idx, max_new_tokens):\n",
    "        # idx is (B, T) array of indices in the current context\n",
    "        for _ in range(max_new_tokens):\n",
    "            # crop idx to the last block_size tokens\n",
    "            idx_cond = idx[:, -block_size:]\n",
    "            # get the predictions\n",
    "            logits, loss = self(idx_cond)\n",
    "            # focus only on the last time step\n",
    "            logits = logits[:, -1, :] # becomes (B, C)\n",
    "            # apply softmax to get probabilities\n",
    "            probs = F.softmax(logits, dim=-1) # (B, C)\n",
    "            # sample from the distribution\n",
    "            idx_next = torch.multinomial(probs, num_samples=1) # (B, 1)\n",
    "            # append sampled index to the running sequence\n",
    "            idx = torch.cat((idx, idx_next), dim=1) # (B, T+1)\n",
    "        return idx\n",
    "\n"
   ]
  },
  {
   "cell_type": "markdown",
   "metadata": {},
   "source": [
    "We will be training a larger LLM on distributed resources in session 6."
   ]
  },
  {
   "cell_type": "markdown",
   "metadata": {},
   "source": [
    "## Homework\n",
    "\n",
    "1. In this notebook, we learned the various components of an LLM. \n",
    "    Your homework this week is to take the mini LLM we created from scratch and run your own training loop. Show how the training and validation perplexity change over the steps.\n",
    "      \n",
    "    Hint: this function might be useful for you:"
   ]
  },
  {
   "cell_type": "code",
   "execution_count": 8,
   "metadata": {},
   "outputs": [],
   "source": [
    "@torch.no_grad()\n",
    "def estimate_loss():\n",
    "    out = {}\n",
    "    model.eval()\n",
    "    for split in ['train', 'val']:\n",
    "        losses = torch.zeros(eval_iters)\n",
    "        for k in range(eval_iters):\n",
    "            X, Y = get_batch(split)\n",
    "            logits, loss = model(X, Y)\n",
    "            losses[k] = loss.item()\n",
    "        out[split] = losses.mean()\n",
    "    model.train()\n",
    "    return out"
   ]
  },
  {
   "cell_type": "markdown",
   "metadata": {},
   "source": [
    "2. Run the same training loop but modify one of the hyperparameters from this list: "
   ]
  },
  {
   "cell_type": "code",
   "execution_count": 9,
   "metadata": {},
   "outputs": [],
   "source": [
    "# hyperparameters\n",
    "n_embd = 64\n",
    "n_head = 4 ## so head_size = 16\n",
    "n_layer = 4"
   ]
  },
  {
   "cell_type": "markdown",
   "metadata": {},
   "source": [
    "Run this at least 4 times with a different value and plot each perplexity over training step. Write a sentence on how the perplexity changed."
   ]
  },
  {
   "cell_type": "markdown",
   "metadata": {},
   "source": [
    "Bonus 1: output some generated text from each model you trained. Did the output make more sense with some hyperparameters than others? "
   ]
  },
  {
   "cell_type": "markdown",
   "metadata": {},
   "source": [
    "Bonus 2: We saw a cool visualization of attention mechanisms with BertViz. Take a more complicated model than GPT2 such as \"meta-llama/Llama-2-7b-chat-hf\" and see how the attention mechanisms are different "
   ]
  },
  {
   "cell_type": "markdown",
   "metadata": {
    "id": "nDXLTusqxXHf"
   },
   "source": [
    "## References"
   ]
  },
  {
   "cell_type": "markdown",
   "metadata": {},
   "source": [
    "Here are some recommendations for further reading and additional code for review.\n",
    "\n",
    "* \"The Illustrated Transformer\" by Jay Alammar\n",
    "* \"Visualizing A Neural Machine Translation Model (Mechanics of Seq2seq Models With Attention)\"\n",
    "* \"The Illustrated GPT-2 (Visualizing Transformer Language Models)\"\n",
    "* \"A gentle introduction to positional encoding\"\n",
    "* \"LLM Tutorial Workshop (Argonne National Laboratory)\"\n",
    "* \"LLM Tutorial Workshop Part 2 (Argonne National Laboratory)\""
   ]
  },
  {
   "cell_type": "code",
   "execution_count": null,
   "metadata": {},
   "outputs": [],
   "source": []
  }
 ],
 "metadata": {
  "colab": {
   "provenance": []
  },
  "kernelspec": {
   "display_name": "Python 3 (ipykernel)",
   "language": "python",
   "name": "python3"
  },
  "language_info": {
   "codemirror_mode": {
    "name": "ipython",
    "version": 3
   },
   "file_extension": ".py",
   "mimetype": "text/x-python",
   "name": "python",
   "nbconvert_exporter": "python",
   "pygments_lexer": "ipython3",
   "version": "3.11.3"
  }
 },
 "nbformat": 4,
 "nbformat_minor": 4
}
